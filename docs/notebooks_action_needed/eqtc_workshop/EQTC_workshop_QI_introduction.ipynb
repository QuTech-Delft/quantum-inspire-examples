{
 "cells": [
  {
   "cell_type": "markdown",
   "id": "987f6142-4fde-40b4-8c24-cf8852659032",
   "metadata": {},
   "source": [
    "# Introduction to the Quantum Inspire API\n",
    "\n",
    "![<Quantum Inspire Logo>](./index.png)"
   ]
  },
  {
   "cell_type": "markdown",
   "id": "0ea048f5-1b2e-40aa-ad37-c90e20fb7e50",
   "metadata": {},
   "source": [
    "## Step 0: Create account and run a job via the web interface (demo in browser)\n",
    "\n",
    "![<Login>](./login.png)"
   ]
  },
  {
   "cell_type": "markdown",
   "id": "aa720967-11d8-4dc1-86fe-62dd84fbb7c3",
   "metadata": {},
   "source": [
    "## Step 1: SDK installation\n",
    "\n",
    "![<Github>](./github.png)"
   ]
  },
  {
   "cell_type": "markdown",
   "id": "825a036a-1e2b-457d-b8ba-0d0a5bd1fccb",
   "metadata": {},
   "source": [
    "Instead of the web interface, we can run advanced algorithms by interacting with the Quantum Inspire platform directly from python.  \n",
    "We assume that you already have a working python environment setup. If not, a possible way to create one using [*conda*](https://docs.conda.io/projects/conda/en/latest/user-guide/tasks/manage-environments.html) is by running\n",
    "```\n",
    "conda create --name EQTC_workshop python=3.8\n",
    "conda activate EQTC_workshop\n",
    "```\n",
    "\n",
    "We first need to install the SDK. It's code is available on [Github](https://github.com/QuTech-Delft/quantuminspire) and is simply installable via `pip`:\n",
    "```\n",
    "pip install quantuminspire\n",
    "```\n",
    "For our next example, we will also need the following packages:\n",
    "```\n",
    "pip install numpy scipy matplotlib networkx qiskit\n",
    "```\n",
    "If you already have some of those packages installed, please make sure you are on the latest version (especially for `qiskit`)."
   ]
  },
  {
   "cell_type": "markdown",
   "id": "509865a0-b130-46d2-bee5-bd965e90f3bb",
   "metadata": {},
   "source": [
    "## Step 2: API authentication"
   ]
  },
  {
   "cell_type": "markdown",
   "id": "4f3b7c46-c104-4ea1-a091-d05c8ab0ab3c",
   "metadata": {},
   "source": [
    "### Single-use authentication"
   ]
  },
  {
   "cell_type": "markdown",
   "id": "b67d50f5-351a-407e-afc0-1064520d8f77",
   "metadata": {},
   "source": [
    "We need to authenticate with the API by using the same account we created via the web interface.  \n",
    "We provide our credentials and pass them together with the URL to the API object. This is okay for a single use."
   ]
  },
  {
   "cell_type": "code",
   "execution_count": null,
   "id": "c046cc40-010e-4745-95df-9230fd6d3e48",
   "metadata": {},
   "outputs": [],
   "source": [
    "from getpass import getpass\n",
    "from coreapi.auth import BasicAuthentication\n",
    "from quantuminspire.api import QuantumInspireAPI\n",
    "\n",
    "print('Enter mail address:')\n",
    "email = input()\n",
    "\n",
    "print('Enter password:')\n",
    "password = getpass()\n",
    "\n",
    "QI_URL = r'https://api.quantum-inspire.com'\n",
    "authentication = BasicAuthentication(email, password)\n",
    "qi = QuantumInspireAPI(QI_URL, authentication, 'my-project-name')"
   ]
  },
  {
   "cell_type": "markdown",
   "id": "fdd385a1-46d7-490d-9d7c-aa7a7671c709",
   "metadata": {},
   "source": [
    "### Alternative: token authentication"
   ]
  },
  {
   "cell_type": "markdown",
   "id": "ea45b78d-831a-4b43-9114-e613011289ed",
   "metadata": {},
   "source": [
    "To avoid having to type our login information every time we start a new session, we can conveniently use the API token provided on the website account interface \n",
    "> ___My QI --> Account --> Your API Token___\n",
    "\n",
    "![<Token>](./token.png)\n",
    "\n",
    "We only need to copy the token into the notebook and call `save_account()`, `enable_account()` once.  \n",
    "After that, only the call to `get_authentication()` is needed to retrieve the saved token and start a new session.  \n",
    "This allows to __keep your token secret__ and __not having to keep it in plain text__ in your code! (the token shown here is already invalidated)"
   ]
  },
  {
   "cell_type": "code",
   "execution_count": 2,
   "id": "1f1dd15f-426e-4ca6-b9e7-01ea811597ab",
   "metadata": {},
   "outputs": [],
   "source": [
    "from quantuminspire.credentials import get_token_authentication, save_account, enable_account, get_authentication\n",
    "from quantuminspire.api import QuantumInspireAPI\n",
    "\n",
    "# these two calls are only needed once, later we only need to call get_authetication to start a new session\n",
    "# token = '0b76ad1f278fa02704ed9c9ea0bdb5a91da7967c'\n",
    "# save_account(token)\n",
    "# enable_account(token)\n",
    "\n",
    "QI_URL = r'https://api.quantum-inspire.com/'\n",
    "authentication = get_authentication()\n",
    "qi = QuantumInspireAPI(QI_URL, authentication)"
   ]
  },
  {
   "cell_type": "markdown",
   "id": "18c25f38-07a1-44a8-96c4-f2e4112c0123",
   "metadata": {},
   "source": [
    "## Backends\n",
    "In this example, we will first use the [QX Emulator](https://www.quantum-inspire.com/kbase/emulator-backends/) as backend. Then we will run our code on [Starmon-5](https://www.quantum-inspire.com/kbase//starmon-5-operational-specifics/).  \n",
    "It is possible to ask the API for all available backends and their detailed information, like so:"
   ]
  },
  {
   "cell_type": "code",
   "execution_count": 3,
   "id": "be572547-232f-4441-b1b8-1b5ccf67a8c6",
   "metadata": {},
   "outputs": [
    {
     "data": {
      "text/plain": [
       "OrderedDict([('url', 'https://api.quantum-inspire.com/backendtypes/11/'),\n",
       "             ('name', 'Starmon-5'),\n",
       "             ('is_hardware_backend', True),\n",
       "             ('required_permission', 'can_execute'),\n",
       "             ('number_of_qubits', 5),\n",
       "             ('description', ''),\n",
       "             ('topology',\n",
       "              OrderedDict([('edges', [[2], [2], [0, 1, 3, 4], [2], [2]])])),\n",
       "             ('is_allowed', True),\n",
       "             ('status', 'IDLE'),\n",
       "             ('status_message', ''),\n",
       "             ('chip_image_id', '4386293'),\n",
       "             ('calibration',\n",
       "              'https://api.quantum-inspire.com/backendtypes/11/calibration/'),\n",
       "             ('allowed_operations',\n",
       "              OrderedDict([('display', []),\n",
       "                           ('measure',\n",
       "                            ['measure',\n",
       "                             'measure_x',\n",
       "                             'measure_y',\n",
       "                             'measure_z']),\n",
       "                           ('measure_all', ['measure_all']),\n",
       "                           ('parameterized_single_gates', ['rx', 'ry', 'rz']),\n",
       "                           ('prep', ['prep_x', 'prep_y', 'prep_z']),\n",
       "                           ('single_gates',\n",
       "                            ['mx90',\n",
       "                             'my90',\n",
       "                             'x90',\n",
       "                             'y90',\n",
       "                             'x',\n",
       "                             'y',\n",
       "                             'h',\n",
       "                             't',\n",
       "                             's',\n",
       "                             'tdag',\n",
       "                             'sdag',\n",
       "                             'i',\n",
       "                             'z']),\n",
       "                           ('dual_gates', ['cz', 'cnot', 'swap']),\n",
       "                           ('parameterized_dual_gates', []),\n",
       "                           ('triple_gates', [])])),\n",
       "             ('default_number_of_shots', 8192),\n",
       "             ('max_number_of_shots', 16384),\n",
       "             ('max_number_of_simultaneous_jobs', 20),\n",
       "             ('operations_count',\n",
       "              OrderedDict([('max_operations_for_qubit', 0),\n",
       "                           ('total_operations', 0)]))])"
      ]
     },
     "execution_count": 3,
     "metadata": {},
     "output_type": "execute_result"
    }
   ],
   "source": [
    "# entry for Starmon-5\n",
    "qi.get_backend_types()[1]"
   ]
  },
  {
   "cell_type": "markdown",
   "id": "7a298a0f-4063-4bf4-a280-eb4b009b269d",
   "metadata": {},
   "source": [
    "This gives you important information, like the types of gates that are allowed on this backend and its topology (connectivity).  \n",
    "To choose a backend, we simply provide the result of the following call to the API object's `execute_qasm()` method (see below)."
   ]
  },
  {
   "cell_type": "code",
   "execution_count": 4,
   "id": "3d0d5252-4764-4b9b-a3d9-254e5bf5027a",
   "metadata": {},
   "outputs": [
    {
     "name": "stdout",
     "output_type": "stream",
     "text": [
      "{'allowed_operations': OrderedDict(),\n",
      " 'calibration': 'https://api.quantum-inspire.com/backendtypes/1/calibration/',\n",
      " 'chip_image_id': None,\n",
      " 'default_number_of_shots': 1024,\n",
      " 'description': 'Single-node [QX Simulator](/kbase/qxsimulator) running on a '\n",
      "                '4GB Hetzner VPS, max 25 qubits.',\n",
      " 'is_allowed': True,\n",
      " 'is_hardware_backend': False,\n",
      " 'max_number_of_shots': 4096,\n",
      " 'max_number_of_simultaneous_jobs': 0,\n",
      " 'name': 'QX single-node simulator',\n",
      " 'number_of_qubits': 26,\n",
      " 'operations_count': OrderedDict([('max_operations_for_qubit', 0),\n",
      "                                  ('total_operations', 0)]),\n",
      " 'required_permission': 'can_simulate_single_node_qutech',\n",
      " 'status': 'IDLE',\n",
      " 'status_message': '',\n",
      " 'topology': OrderedDict([('edges', [])]),\n",
      " 'url': 'https://api.quantum-inspire.com/backendtypes/1/'}\n"
     ]
    }
   ],
   "source": [
    "from pprint import pprint\n",
    "backend_type = qi.get_backend_type('QX single-node simulator')\n",
    "pprint(backend_type)"
   ]
  },
  {
   "cell_type": "markdown",
   "id": "e868de9f-17ee-402f-ab87-d6ad656aa613",
   "metadata": {},
   "source": [
    "# Deutsch–Jozsa algorithm description\n",
    "\n",
    "In the *Deutsch–Jozsa algorithm* we use an **oracle to determine if a binary function** \n",
    "$$f(x) : \\{0,1\\}^n \\rightarrow \\{0,1\\}$$ \n",
    "is constant or balanced.\n",
    "\n",
    "A function is **constant** if $f(x)=0$ or $f(x)=1$ for all values of $x$.  \n",
    "A function is **balanced** if $f(x)=0$ for half of the possible input values $x$ and $f(x)=1$ for the other half.  \n",
    "The task is to distinguish the balanced case (half of all inputs yield output 1) from the constant case (all or none of the inputs yield output 1).  \n",
    "You can read more about this algorithm on [Wikipedia](https://en.wikipedia.org/wiki/Deutsch%E2%80%93Jozsa_algorithm) or on the [Quantum Algorithm Zoo](https://quantumalgorithmzoo.org/).\n",
    "\n",
    "## What is it used for?\n",
    "The Deutsch-Josza algorithm is a simple example of a quantum algorithm that can be used to speed up a search. As will be explained below, it can determine whether or not a function has a certain property (being balanced). The algorithm achieves this by requiring that the function (more precisely, a derivation of the function) need only be called once with a quantum algorithm instead of twice with a classical algorithm. When the function is very 'expensive', e.g., in terms of computational resources, it can be very beneficial if you have to compute this function only once instead of twice.\n",
    "\n",
    "Although the speed-up of this specific case of a 2-to-1 bit function is only a factor of 2, in general **this algorithm can achieve exponential speedup** (for the worst case of the classical counterpart). Historically, this is **the first well-defined quantum algorithm achieving a speedup over classical computation.**\n",
    "\n",
    "## How does it work?\n",
    "In this example we consider a binary function $f(x) : \\{0,1\\} \\rightarrow \\{0,1\\}$. There are four possibilities for the function $f(x)$, which we call the **Oracle function**. These\n",
    "are:\n",
    "1. $$f_1(x)=0$$\n",
    "2. $$f_2(x)=1$$\n",
    "3. $$f_3(x)=x$$\n",
    "4. $$f_4(x)=1-x$$\n",
    "\n",
    "**The algorithm to determine whether our function $f(x)$ is constant or balanced requires only a single query of $f(x)$**.\n",
    "\n",
    "In this example, we will implement a very simple Oracle for the four different functions, but a much more complex Oracle could also be used. \n"
   ]
  },
  {
   "cell_type": "markdown",
   "id": "55eb17e6-ed19-467c-aa97-488fa2a26ede",
   "metadata": {},
   "source": [
    "## Implementation in cQASM\n",
    "The following code shows the implementation of the algorithm, which uses two qubits.\n",
    "\n",
    "We use an oracle to determine if a binary function $f(x)$ is constant or balanced.  \n",
    "Here, the constant  cases are $f(x)=fc1=0$ and $f(x)=fc2=1$, and balanced cases $f(x)=fb3=x$ and $f(x)=fb4=NOT(x)$.  \n",
    "By changing the Oracle, the 4 different functions can be tested."
   ]
  },
  {
   "cell_type": "code",
   "execution_count": 5,
   "id": "9ca758ee-e2df-4971-977e-4757c6e30f8f",
   "metadata": {},
   "outputs": [],
   "source": [
    "def get_dj_oracle_circuit(oracle: str = 'NOT(x)'):\n",
    "    qasm_str = \"\"\"\n",
    "version 1.0\n",
    "qubits 5\n",
    "\n",
    "# Initialize qubits in |+> and |-> state\n",
    ".initialize\n",
    "{prep_z q[0]|prep_z q[2]}\n",
    "X q[2]\n",
    "{H q[0]|H q[2]}\n",
    "\"\"\"\n",
    "    \n",
    "    if oracle == '0':\n",
    "        qasm_str += \"\"\"\n",
    ".oracle_fc1\n",
    "# do nothing or call idle gate \n",
    "{I q[0]|I q[2]}\n",
    "\"\"\"\n",
    "    elif oracle == '1':\n",
    "        qasm_str += \"\"\"  \n",
    ".oracle_fc2\n",
    "X q[2]\n",
    "\"\"\"\n",
    "    elif oracle == 'x':\n",
    "        qasm_str += \"\"\"          \n",
    ".oracle_fb3\n",
    "CNOT q[0],q[2]\n",
    "\"\"\"\n",
    "    elif oracle == 'NOT(x)':\n",
    "        qasm_str += \"\"\"  \n",
    ".oracle_fb4\n",
    "CNOT q[0],q[2]\n",
    "X q[2]\n",
    "\"\"\"\n",
    "    else:\n",
    "        raise ValueError(\"Oracle function must be one of ['0', '1', 'x', 'NOT(x)'].\")\n",
    "        \n",
    "    qasm_str += \"\"\"\n",
    ".measurement\n",
    "H q[0]\n",
    "measure q[0]\n",
    "\"\"\"\n",
    "    return qasm_str"
   ]
  },
  {
   "cell_type": "markdown",
   "id": "9faa1470-54be-49c3-9d2b-06d36414ec22",
   "metadata": {},
   "source": [
    "## Running a simulation\n",
    "Let us generate a circuit for oracle $fc1$ and simulate it. What do you expect from the result?  \n",
    "\n",
    "You can find more information about [executing an algorithm](https://www.quantum-inspire.com/kbase//executing-your-algorithm/) and [examining results](https://www.quantum-inspire.com/kbase/displaying-and-downloading-your-results/) in the knowledge base."
   ]
  },
  {
   "cell_type": "code",
   "execution_count": 6,
   "id": "74386988-9192-4767-a2b8-ebaf30a80895",
   "metadata": {},
   "outputs": [
    {
     "name": "stdout",
     "output_type": "stream",
     "text": [
      "\n",
      "version 1.0\n",
      "qubits 5\n",
      "\n",
      "# Initialize qubits in |+> and |-> state\n",
      ".initialize\n",
      "{prep_z q[0]|prep_z q[2]}\n",
      "X q[2]\n",
      "{H q[0]|H q[2]}\n",
      "\n",
      ".oracle_fc1\n",
      "# do nothing or call idle gate \n",
      "{I q[0]|I q[2]}\n",
      "\n",
      ".measurement\n",
      "H q[0]\n",
      "measure q[0]\n",
      "\n"
     ]
    }
   ],
   "source": [
    "qc = get_dj_oracle_circuit(oracle='0')\n",
    "print(qc)"
   ]
  },
  {
   "cell_type": "markdown",
   "id": "2d39baa4-3688-4b75-a595-a6bb49656d98",
   "metadata": {},
   "source": [
    "We now call the `execute_qasm` method with our generate circuit-string and the desired simulation backend, and examine the histogram of results."
   ]
  },
  {
   "cell_type": "code",
   "execution_count": 7,
   "id": "32d77b10-5782-4fd0-95d6-b624cecd03f8",
   "metadata": {},
   "outputs": [
    {
     "name": "stderr",
     "output_type": "stream",
     "text": [
      "Your experiment can not be optimized and may take longer to execute, see https://www.quantum-inspire.com/kbase/optimization-of-simulations/ for details.\n"
     ]
    },
    {
     "name": "stdout",
     "output_type": "stream",
     "text": [
      "{'calibration': None,\n",
      " 'created_at': '2021-11-26T14:19:25.295112Z',\n",
      " 'execution_time_in_seconds': 33.92506647109985,\n",
      " 'histogram': OrderedDict([('0', 1.0)]),\n",
      " 'histogram_url': 'https://api.quantum-inspire.com/results/7069997/histogram/2e4342a98c37ac56ed89748ec282b6f4c00c97c591eba0b8d8eb426fb400af05/',\n",
      " 'id': 7069997,\n",
      " 'job': 'https://api.quantum-inspire.com/jobs/7078018/',\n",
      " 'measurement_mask': 0,\n",
      " 'measurement_register_url': 'https://api.quantum-inspire.com/results/7069997/measurement-register/2e4342a98c37ac56ed89748ec282b6f4c00c97c591eba0b8d8eb426fb400af05/',\n",
      " 'number_of_qubits': 5,\n",
      " 'quantum_states_url': 'https://api.quantum-inspire.com/results/7069997/quantum-states/2e4342a98c37ac56ed89748ec282b6f4c00c97c591eba0b8d8eb426fb400af05/',\n",
      " 'raw_data_url': 'https://api.quantum-inspire.com/results/7069997/raw-data/2e4342a98c37ac56ed89748ec282b6f4c00c97c591eba0b8d8eb426fb400af05/',\n",
      " 'raw_text': '',\n",
      " 'url': 'https://api.quantum-inspire.com/results/7069997/'}\n"
     ]
    }
   ],
   "source": [
    "backend_type = qi.get_backend_type('QX single-node simulator')\n",
    "result = qi.execute_qasm(qc, backend_type=backend_type, user_data=\"Deutsch-Josza test\")\n",
    "counts = result['histogram']\n",
    "pprint(result)"
   ]
  },
  {
   "cell_type": "code",
   "execution_count": 8,
   "id": "ace9018f-348e-48eb-a11a-a4c1f788721c",
   "metadata": {},
   "outputs": [
    {
     "data": {
      "image/png": "[encoded data removed]",
      "text/plain": [
       "<Figure size 432x288 with 1 Axes>"
      ]
     },
     "metadata": {
      "needs_background": "light"
     },
     "output_type": "display_data"
    }
   ],
   "source": [
    "import matplotlib.pyplot as plt\n",
    "plt.xlabel(\"Outcome\")\n",
    "plt.ylabel(\"Probability\")\n",
    "plt.bar(counts.keys(), counts.values(), align='center')\n",
    "plt.show()"
   ]
  },
  {
   "cell_type": "markdown",
   "id": "3c83cdc2-d4d1-4722-ad27-581c214d388c",
   "metadata": {},
   "source": [
    "Not surprisingly, our perfect (noise-free) simulation of the quantum circuit gives a perfect result.  \n",
    "If we now run the same code again, but this time implement the 2nd Oracle, we would see that we get exactly the same result as for the first oracle.\n",
    "\n",
    "Likewise, we can run the algorithm for Oracle 3 or Oracle 4. In these cases, we will get a different result:"
   ]
  },
  {
   "cell_type": "code",
   "execution_count": 9,
   "id": "93f8aa79-c822-449c-8530-3fafabdf7d55",
   "metadata": {},
   "outputs": [
    {
     "name": "stderr",
     "output_type": "stream",
     "text": [
      "Your experiment can not be optimized and may take longer to execute, see https://www.quantum-inspire.com/kbase/optimization-of-simulations/ for details.\n"
     ]
    },
    {
     "name": "stdout",
     "output_type": "stream",
     "text": [
      "{'calibration': None,\n",
      " 'created_at': '2021-11-26T14:20:04.791695Z',\n",
      " 'execution_time_in_seconds': 36.0304000377655,\n",
      " 'histogram': OrderedDict([('1', 1.0)]),\n",
      " 'histogram_url': 'https://api.quantum-inspire.com/results/7069998/histogram/6a3c0574185e12baf7742ccbd55c009be02902746e043c73dc5c3842071666c1/',\n",
      " 'id': 7069998,\n",
      " 'job': 'https://api.quantum-inspire.com/jobs/7078019/',\n",
      " 'measurement_mask': 0,\n",
      " 'measurement_register_url': 'https://api.quantum-inspire.com/results/7069998/measurement-register/6a3c0574185e12baf7742ccbd55c009be02902746e043c73dc5c3842071666c1/',\n",
      " 'number_of_qubits': 5,\n",
      " 'quantum_states_url': 'https://api.quantum-inspire.com/results/7069998/quantum-states/6a3c0574185e12baf7742ccbd55c009be02902746e043c73dc5c3842071666c1/',\n",
      " 'raw_data_url': 'https://api.quantum-inspire.com/results/7069998/raw-data/6a3c0574185e12baf7742ccbd55c009be02902746e043c73dc5c3842071666c1/',\n",
      " 'raw_text': '',\n",
      " 'url': 'https://api.quantum-inspire.com/results/7069998/'}\n"
     ]
    }
   ],
   "source": [
    "qc = get_dj_oracle_circuit(oracle='NOT(x)')\n",
    "backend_type = qi.get_backend_type('QX single-node simulator')\n",
    "result = qi.execute_qasm(qc, backend_type=backend_type, user_data=\"Deutsch-Josza test\")\n",
    "counts = result['histogram']\n",
    "pprint(result)"
   ]
  },
  {
   "cell_type": "code",
   "execution_count": 10,
   "id": "7ee611a4-df20-4ab0-8a9b-7d4d0af7e6ba",
   "metadata": {},
   "outputs": [
    {
     "data": {
      "image/png": "[encoded data removed]",
      "text/plain": [
       "<Figure size 432x288 with 1 Axes>"
      ]
     },
     "metadata": {
      "needs_background": "light"
     },
     "output_type": "display_data"
    }
   ],
   "source": [
    "plt.xlabel(\"Outcome\")\n",
    "plt.ylabel(\"Probability\")\n",
    "plt.bar(counts.keys(), counts.values(), align='center')\n",
    "plt.show()"
   ]
  },
  {
   "cell_type": "markdown",
   "id": "0142b04c-257c-472d-ad3d-cc1cbe95f6ac",
   "metadata": {},
   "source": [
    "## Now let's try it on Starmon-5"
   ]
  },
  {
   "cell_type": "code",
   "execution_count": 11,
   "id": "d47eb13b-11f2-4b6e-a3d9-afb74be01aae",
   "metadata": {},
   "outputs": [
    {
     "name": "stdout",
     "output_type": "stream",
     "text": [
      "{'calibration': 'https://api.quantum-inspire.com/calibration/109027/',\n",
      " 'created_at': '2021-11-26T14:20:34.225194Z',\n",
      " 'execution_time_in_seconds': 0.622592,\n",
      " 'histogram': OrderedDict([('0', 0.133056640625), ('1', 0.866943359375)]),\n",
      " 'histogram_url': 'https://api.quantum-inspire.com/results/7069999/histogram/8f68530d812b09152eaebbe41d84e43ba2cc91b25dbeccae462c188e4ee9ec51/',\n",
      " 'id': 7069999,\n",
      " 'job': 'https://api.quantum-inspire.com/jobs/7078020/',\n",
      " 'measurement_mask': 1,\n",
      " 'measurement_register_url': 'https://api.quantum-inspire.com/results/7069999/measurement-register/8f68530d812b09152eaebbe41d84e43ba2cc91b25dbeccae462c188e4ee9ec51/',\n",
      " 'number_of_qubits': 5,\n",
      " 'quantum_states_url': 'https://api.quantum-inspire.com/results/7069999/quantum-states/8f68530d812b09152eaebbe41d84e43ba2cc91b25dbeccae462c188e4ee9ec51/',\n",
      " 'raw_data_url': 'https://api.quantum-inspire.com/results/7069999/raw-data/8f68530d812b09152eaebbe41d84e43ba2cc91b25dbeccae462c188e4ee9ec51/',\n",
      " 'raw_text': '',\n",
      " 'url': 'https://api.quantum-inspire.com/results/7069999/'}\n"
     ]
    }
   ],
   "source": [
    "backend_type = qi.get_backend_type_by_name('Starmon-5')\n",
    "result = qi.execute_qasm(qc, backend_type=backend_type, number_of_shots=2**12, user_data=\"Deutsch-Josza test\")\n",
    "counts = result['histogram']\n",
    "pprint(result)"
   ]
  },
  {
   "cell_type": "code",
   "execution_count": 12,
   "id": "fb3e797a-419e-4121-9911-db18af31e3a8",
   "metadata": {},
   "outputs": [
    {
     "data": {
      "image/png": "[encoded data removed]",
      "text/plain": [
       "<Figure size 432x288 with 1 Axes>"
      ]
     },
     "metadata": {
      "needs_background": "light"
     },
     "output_type": "display_data"
    }
   ],
   "source": [
    "plt.xlabel(\"Outcome\")\n",
    "plt.ylabel(\"Probability\")\n",
    "plt.bar(counts.keys(), counts.values(), align='center')\n",
    "plt.show()"
   ]
  },
  {
   "cell_type": "markdown",
   "id": "75b2874e-9fc8-40d3-bb14-32775af608a0",
   "metadata": {},
   "source": [
    "Now things look very different! Due to the noise on a real quantum processor, we do not measure the correct result 100% of the time anymore.  \n",
    "However, we can still retrieve the correct answer with high probability, which is what usually matters in practice."
   ]
  },
  {
   "cell_type": "markdown",
   "id": "73e92a3d-b3cd-4118-bd71-509ad4dde677",
   "metadata": {},
   "source": [
    "**You have now learned how to connect to the Quantum Inspire API from a python session and execute cQASM-algorithms on different simulation- and hardware-backends.**  \n",
    "**Next, we will proceed with an example of QAOA, a more advanced algorithm that we can run on Quantum Inspire.**"
   ]
  }
 ],
 "metadata": {
  "kernelspec": {
   "display_name": "Python [conda env:qi-py38] *",
   "language": "python",
   "name": "conda-env-qi-py38-py"
  },
  "language_info": {
   "codemirror_mode": {
    "name": "ipython",
    "version": 3
   },
   "file_extension": ".py",
   "mimetype": "text/x-python",
   "name": "python",
   "nbconvert_exporter": "python",
   "pygments_lexer": "ipython3",
   "version": "3.8.8"
  },
  "toc-autonumbering": true,
  "toc-showcode": false,
  "toc-showmarkdowntxt": false
 },
 "nbformat": 4,
 "nbformat_minor": 5
}
