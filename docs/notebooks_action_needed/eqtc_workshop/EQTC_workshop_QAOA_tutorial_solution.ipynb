{
 "cells": [
  {
   "cell_type": "code",
   "execution_count": 1,
   "metadata": {},
   "outputs": [],
   "source": [
    "import numpy as np\n",
    "import matplotlib.pyplot as plt\n",
    "\n",
    "from collections import defaultdict\n",
    "from scipy.optimize import minimize\n",
    "\n",
    "import networkx as nx\n",
    "from networkx.generators.random_graphs import erdos_renyi_graph\n",
    "\n",
    "from IPython.display import Image"
   ]
  },
  {
   "cell_type": "code",
   "execution_count": 2,
   "metadata": {},
   "outputs": [],
   "source": [
    "from qiskit import QuantumCircuit, execute, Aer\n",
    "from qiskit.tools.visualization import circuit_drawer, plot_histogram"
   ]
  },
  {
   "cell_type": "code",
   "execution_count": 3,
   "metadata": {},
   "outputs": [],
   "source": [
    "from quantuminspire.credentials import get_authentication\n",
    "from quantuminspire.api import QuantumInspireAPI\n",
    "from quantuminspire.qiskit import QI\n",
    "\n",
    "QI_URL = 'https://api.quantum-inspire.com/'"
   ]
  },
  {
   "cell_type": "markdown",
   "metadata": {},
   "source": [
    "In this notebook you will apply what you have just learned about cqasm and Quantum Inspire. We will consider a simple quantum algorithm, the quantum approximate optimization algorithm (QAOA), for which you will code the circuit in cqasm and send some jobs to real quantum hardware on the Quantum Inspire platform."
   ]
  },
  {
   "cell_type": "markdown",
   "metadata": {},
   "source": [
    "## 1. Recap: QAOA and MAXCUT"
   ]
  },
  {
   "cell_type": "markdown",
   "metadata": {},
   "source": [
    "### Introduction to the Quantum Approximate Optimization Algorithm\n",
    "\n",
    "$$\\newcommand{\\ket}[1]{\\left|{#1}\\right\\rangle}$$\n",
    "$$\\newcommand{\\bra}[1]{\\left\\langle{#1}\\right|}$$\n",
    "$$\\newcommand{\\braket}[2]{\\left\\langle{#1}\\middle|{#2}\\right\\rangle}$$\n",
    "\n",
    "Consider some combinatorial optimization problem with objective function $C:x\\rightarrow \\mathbb{R}$ acting on $n$-bit strings $x\\in \\{0,1\\}^n$, domain $\\mathcal{D} \\subseteq \\{0,1\\}^n$, and objective\n",
    "\n",
    "\\begin{align}\n",
    "     \\max_{x \\in \\mathcal{D}} C(x).\n",
    "\\end{align}\n",
    "\n",
    "In maximization, an approximate optimization algorithm aims to find a string $x'$ that achieves a desired approximation ratio $\\alpha$, i.e.\n",
    "\n",
    "\\begin{equation}\n",
    "    \\frac{C(x')}{C^*}\\geq \\alpha,\n",
    "\\end{equation}\n",
    "\n",
    "where $C^* = \\max_{x \\in \\mathcal{D}} C(x)$.\n",
    "In QAOA, such combinatorial optimization problems are encoded into a cost Hamiltonian $H_C$, a mixing Hamiltonian $H_M$ and some initial quantum state $\\ket{\\psi_0}$. The cost Hamiltonian is diagonal in the computational basis by design, and represents $C$ if its eigenvalues satisfy\n",
    "\n",
    "\\begin{align}\n",
    "    H_C \\ket{x} = C(x) \\ket{x} \\text{ for all } x \\in  \\{0,1\\}^n.\n",
    "\\end{align}\n",
    "\n",
    "The mixing Hamiltonian $H_M$ depends on $\\mathcal{D}$ and its structure, and is in the unconstrained case (i.e. when $\\mathcal{D}=\\{0,1\\}^n$) usually taken to be the transverse field Hamiltonian $H_M = \\sum_{j} X_j$. Constraints (i.e. when $\\mathcal{D}\\subset \\{0,1\\}^n$) can be incorporated directly into the mixing Hamiltonian or are added as a penalty function in the cost Hamiltonian. The initial quantum state $\\ket{\\psi_0}$ is usually taken as the uniform superposition over all possible states in the domain. $\\text{QAOA}_p$, parametrized in $\\gamma=(\\gamma_0,\\gamma_1,\\dots,\\gamma_{p-1}),\\beta=(\\beta_0,\\beta_1,\\dots,\\beta_{p-1})$, refers to a level-$p$ QAOA circuit that applies $p$ steps of alternating time evolutions of the cost and mixing Hamiltonians on the initial state. At step $k$, the unitaries of the time evolutions are given by\n",
    "\n",
    "\\begin{align}\n",
    "    U_C(\\gamma_k) = e^{-i \\gamma_k H_C }, \\label{eq:UC} \\\\\n",
    "    U_M(\\beta_k) = e^{-i \\beta_k H_M }. \\label{eq:UM}\n",
    "\\end{align}\n",
    "\n",
    "So the final state $\\ket{\\gamma,\\beta}$ of $\\text{QAOA}_p$ is given by \n",
    "\n",
    "\\begin{align}\n",
    "    \\ket{\\gamma,\\beta} = \\prod_{k=0}^{p-1} U_M(\\beta_k) U_C(\\gamma_k) \\ket{\\psi_0}.\n",
    "\\end{align}\n",
    "\n",
    "The expectation value $ F_p(\\gamma,\\beta)$ of the cost Hamiltonian for state $\\ket{\\gamma,\\beta}$ is given by\n",
    "\n",
    "\\begin{align}\n",
    "    F_p(\\gamma,\\beta) = \n",
    "    \\bra{\\gamma,\\beta}H_C\\ket{\\gamma,\\beta},\n",
    "    \\label{eq:Fp}\n",
    "\\end{align}\n",
    "\n",
    "and can be statistically estimated by taking samples of $\\ket{\\gamma,\\beta}$. The achieved approximation ratio (in expectation) of $\\text{QAOA}_p$ is then\n",
    "\n",
    "\\begin{equation}\n",
    "    \\alpha = \\frac{F_p(\\gamma,\\beta)}{C^*}.\n",
    "\\end{equation}\n",
    "\n",
    "The parameter combinations of $\\gamma,\\beta$ are usually found through a classical optimization procedure that uses $F_p(\\gamma,\\beta)$ as a black-box function to be maximized."
   ]
  },
  {
   "cell_type": "markdown",
   "metadata": {},
   "source": [
    "### Example application: MAXCUT\n",
    "\n",
    "MaxCut is an NP-hard optimisation problem that looks for an optimal 'cut' for a graph $G(V,E)$, in the sense that the cut generates a subset of nodes $S \\subset V$ that shares the largest amount of edges with its complement $ V\\setminus S$. In slightly modified form (omitting the constant), it has the following objective function\n",
    "\n",
    "\\begin{align}\n",
    "\\max_{s} \\frac{1}{2} \\sum_{\n",
    "\\langle i,j \\rangle \\in E} 1-s_i s_j,\n",
    "\\end{align}\n",
    "\n",
    "where the $s_i\\in\\{-1,1\\}$ are the variables and $i,j$ are the edge indices. This function can be easily converted into an Ising cost Hamiltonian, which takes the form\n",
    "\n",
    "\\begin{align}\n",
    "H_C = \\frac{1}{2}\\sum_{\\langle i,j\\rangle \\in E} I-Z_i Z_j.\n",
    "\\end{align}\n",
    "\n",
    "We use the standard mixing Hamiltonian that sums over all nodes:\n",
    "\n",
    "\\begin{align}\n",
    "H_M = \\sum_{v \\in V} X_v.\n",
    "\\end{align}\n",
    "\n",
    "As the initial state $\\ket{\\Psi_0}$ we take the uniform superposition, given by\n",
    "\n",
    "\\begin{align}\n",
    "\\ket{\\psi_0} = \\frac{1}{\\sqrt{2^{|V|}}}\\sum_{x=0}^{2^{|V|}-1} \\ket{x} \n",
    "\\end{align}\n"
   ]
  },
  {
   "cell_type": "markdown",
   "metadata": {},
   "source": [
    "The goal of this workshop is to guide you through an implemented code that simulates a small quantum computer running the QAOA algorithm applied to the MAXCUT problem. We will use qiskit as well as cqasm as SDK's. For the sake of run time, you will always run the classical optimization part using the qiskit simulator: it would take too long for our purposes to do the actual function evualtions in the classical optimization step on the hardware."
   ]
  },
  {
   "cell_type": "markdown",
   "metadata": {},
   "source": [
    "## 2. Some useful functions and intializations"
   ]
  },
  {
   "cell_type": "markdown",
   "metadata": {},
   "source": [
    "We first define some useful functions to be used later throughout the code."
   ]
  },
  {
   "cell_type": "code",
   "execution_count": 4,
   "metadata": {},
   "outputs": [],
   "source": [
    "# Just some function to draw graphs\n",
    "def draw_cc_graph(G,node_color='b',fig_size=4):\n",
    "    plt.figure(figsize=(fig_size,fig_size))\n",
    "    nx.draw(G, G.pos, \n",
    "        node_color= node_color,\n",
    "        with_labels=True,\n",
    "        node_size=1000,font_size=14)\n",
    "    plt.show()"
   ]
  },
  {
   "cell_type": "code",
   "execution_count": 5,
   "metadata": {
    "scrolled": true
   },
   "outputs": [],
   "source": [
    "# Define the objective function\n",
    "def maxcut_obj(x,G):\n",
    "    cut = 0\n",
    "    for i, j in G.edges():\n",
    "        if x[i] != x[j]:\n",
    "            # the edge is cut, negative value in agreement with the optimizer (which is a minimizer)\n",
    "            cut -= 1\n",
    "    return cut\n",
    "\n",
    "# Brute force method\n",
    "def brute_force(G):\n",
    "    n = len(G.nodes)\n",
    "    costs = np.zeros(0)\n",
    "    costs=[]\n",
    "    for i in range(2**n):\n",
    "        calc_costs = -1*maxcut_obj(bin(i)[2:].zfill(n),G)\n",
    "        costs.append(calc_costs)\n",
    "    max_costs_bf = max(costs)\n",
    "    index_max = costs.index(max(costs))\n",
    "    max_sol_bf = bin(index_max)[2:].zfill(n)\n",
    "    return max_costs_bf, max_sol_bf,costs\n"
   ]
  },
  {
   "cell_type": "code",
   "execution_count": 6,
   "metadata": {},
   "outputs": [],
   "source": [
    "# Generating the distribution resulting from random guessing the solution\n",
    "def random_guessing_dist(G):\n",
    "    dictio= dict()\n",
    "    n = len(G.nodes())\n",
    "    for i in range(2**n):\n",
    "        key = bin(i)[2:].zfill(n)\n",
    "        dictio[key] = maxcut_obj(bin(i)[2:].zfill(n),G)\n",
    "    RG_energies_dist = defaultdict(int)\n",
    "    for x in dictio:\n",
    "        RG_energies_dist[maxcut_obj(x,G)] += 1\n",
    "    return RG_energies_dist\n",
    "\n",
    "# Visualize multiple distributions\n",
    "def plot_E_distributions(E_dists,p,labels):\n",
    "    plt.figure()\n",
    "    x_min = 1000\n",
    "    x_max = - 1000\n",
    "    width = 0.25/len(E_dists)\n",
    "    for index,E_dist in enumerate(E_dists):\n",
    "        pos = width*index-width*len(E_dists)/4 \n",
    "        label = labels[index]\n",
    "        X_list,Y_list = zip(*E_dist.items())\n",
    "        X = -np.asarray(X_list)\n",
    "        Y = np.asarray(Y_list)\n",
    "        plt.bar(X + pos, Y/np.sum(Y), color = 'C'+str(index), width = width,label= label+', $p=$'+str(p))\n",
    "        if np.min(X)<x_min:\n",
    "            x_min = np.min(X)\n",
    "        if np.max(X)>x_max:\n",
    "            x_max = np.max(X)\n",
    "    plt.xticks(np.arange(x_min,x_max+1))\n",
    "    plt.legend()\n",
    "    plt.xlabel('Objective function value')\n",
    "    plt.ylabel('Probability')\n",
    "    plt.show()\n",
    "\n",
    "\n",
    "# Determinet the expected objective function value from the random guessing distribution\n",
    "def energy_random_guessing(RG_energies_dist):\n",
    "    energy_random_guessing = 0\n",
    "    total_count = 0\n",
    "    for energy in RG_energies_dist.keys():\n",
    "        count = RG_energies_dist[energy]\n",
    "        energy_random_guessing += energy*count\n",
    "        total_count += count\n",
    "    energy_random_guessing = energy_random_guessing/total_count\n",
    "    return energy_random_guessing"
   ]
  },
  {
   "cell_type": "markdown",
   "metadata": {},
   "source": [
    "### Test instances"
   ]
  },
  {
   "cell_type": "code",
   "execution_count": 7,
   "metadata": {},
   "outputs": [
    {
     "name": "stdout",
     "output_type": "stream",
     "text": [
      "G2:\n"
     ]
    },
    {
     "data": {
      "image/png": "[encoded data removed]",
      "text/plain": [
       "<Figure size 288x288 with 1 Axes>"
      ]
     },
     "metadata": {},
     "output_type": "display_data"
    },
    {
     "name": "stdout",
     "output_type": "stream",
     "text": [
      "G3:\n"
     ]
    },
    {
     "data": {
      "image/png": "[encoded data removed]",
      "text/plain": [
       "<Figure size 288x288 with 1 Axes>"
      ]
     },
     "metadata": {},
     "output_type": "display_data"
    }
   ],
   "source": [
    "w2  = np.matrix([\n",
    " [0, 1],\n",
    " [1, 0]])\n",
    "G2 = nx.from_numpy_matrix(w2)\n",
    "positions = nx.circular_layout(G2)\n",
    "G2.pos=positions\n",
    "print('G2:')\n",
    "draw_cc_graph(G2)\n",
    "\n",
    "\n",
    "w3  = np.matrix([\n",
    " [0, 1, 1],\n",
    " [1, 0, 1],\n",
    " [1, 1, 0]])\n",
    "G3 = nx.from_numpy_matrix(w3)\n",
    "positions = nx.circular_layout(G3)\n",
    "G3.pos=positions\n",
    "print('G3:')\n",
    "draw_cc_graph(G3)"
   ]
  },
  {
   "cell_type": "markdown",
   "metadata": {},
   "source": [
    "## 3. Circuit generators"
   ]
  },
  {
   "cell_type": "markdown",
   "metadata": {},
   "source": [
    "We provide you with an example written in qiskit. You have to write the one for cqasm yourself."
   ]
  },
  {
   "cell_type": "markdown",
   "metadata": {},
   "source": [
    "### Qiskit generators"
   ]
  },
  {
   "cell_type": "code",
   "execution_count": 8,
   "metadata": {},
   "outputs": [],
   "source": [
    "class Qiskit(object):        \n",
    "    # Cost operator:\n",
    "    def get_cost_operator_circuit(G, gamma):\n",
    "        N = G.number_of_nodes()\n",
    "        qc = QuantumCircuit(N,N)\n",
    "        for i, j in G.edges():\n",
    "            qc.cx(i,j)\n",
    "            qc.rz(2*gamma, j)\n",
    "            qc.cx(i,j)\n",
    "        return qc\n",
    "\n",
    "    # Mixing operator\n",
    "    def get_mixer_operator_circuit(G, beta):\n",
    "        N = G.number_of_nodes()\n",
    "        qc = QuantumCircuit(N,N)\n",
    "        for n in G.nodes():\n",
    "            qc.rx(2*beta, n)\n",
    "        return qc\n",
    "    \n",
    "    # Build the circuit:\n",
    "    def get_qaoa_circuit(G, beta, gamma):\n",
    "        assert(len(beta) == len(gamma))\n",
    "        p = len(beta) # number of unitary operations\n",
    "        N = G.number_of_nodes()\n",
    "        qc = QuantumCircuit(N,N)\n",
    "        # first step: apply Hadamards to obtain uniform superposition\n",
    "        qc.h(range(N))\n",
    "        # second step: apply p alternating operators\n",
    "        for i in range(p):\n",
    "            qc.compose(Qiskit.get_cost_operator_circuit(G,gamma[i]),inplace=True)\n",
    "            qc.compose(Qiskit.get_mixer_operator_circuit(G,beta[i]),inplace=True)\n",
    "        # final step: measure the result\n",
    "        qc.barrier(range(N))\n",
    "        qc.measure(range(N), range(N))\n",
    "        return qc\n",
    "\n"
   ]
  },
  {
   "cell_type": "code",
   "execution_count": 9,
   "metadata": {},
   "outputs": [
    {
     "data": {
      "image/png": "[encoded data removed]",
      "text/plain": [
       "<Figure size 989.597x264.88 with 1 Axes>"
      ]
     },
     "execution_count": 9,
     "metadata": {},
     "output_type": "execute_result"
    }
   ],
   "source": [
    "# Show the circuit for the G3 (triangle) graph\n",
    "p = 1\n",
    "beta = np.random.rand(p)*2*np.pi\n",
    "gamma = np.random.rand(p)*2*np.pi\n",
    "qc = Qiskit.get_qaoa_circuit(G3,beta, gamma)\n",
    "qc.draw(output='mpl')\n"
   ]
  },
  {
   "cell_type": "markdown",
   "metadata": {},
   "source": [
    "### cqasm generators"
   ]
  },
  {
   "cell_type": "markdown",
   "metadata": {},
   "source": [
    "Now it is up to you to apply what we have learned about cqasm to write the script for the cost and mixing operators:"
   ]
  },
  {
   "cell_type": "code",
   "execution_count": 10,
   "metadata": {},
   "outputs": [],
   "source": [
    "class Cqasm(object):\n",
    "    \n",
    "    ### We give them this part\n",
    "    def get_qasm_header(N_qubits):\n",
    "        \"\"\"\n",
    "        Create cQASM header for `N_qubits` qubits and prepare all in |0>-state.\n",
    "        \"\"\"\n",
    "        header = f\"\"\"\n",
    "version 1.0\n",
    "qubits {N_qubits}\n",
    "prep_z q[0:{N_qubits-1}]\n",
    "\"\"\"\n",
    "        return header\n",
    "    \n",
    "    def get_cost_operator(graph, gamma, p=1):\n",
    "        \"\"\"\n",
    "        Create cost operator for given angle `gamma`.\n",
    "        \"\"\"\n",
    "        layer_list = graph.number_of_edges()*[None]\n",
    "        for n, (i,j) in enumerate(graph.edges()):\n",
    "            layer_list[n] = '\\n'.join([f\"CNOT q[{i}], q[{j}]\", \n",
    "                                       f\"Rz q[{j}], {2*gamma}\", \n",
    "                                       f\"CNOT q[{i}], q[{j}]\"])\n",
    "\n",
    "        return f\".U_gamma_{p}\\n\" + '\\n'.join(layer_list) + '\\n'\n",
    "\n",
    "    def get_mixing_operator(graph, beta, p=1):\n",
    "        \"\"\"\n",
    "        Create mixing operator for given angle `beta`. \n",
    "        Use parallel application of single qubit gates.\n",
    "        \"\"\"\n",
    "        U_beta = \"{\" + ' | '.join([f\"Rx q[{i}], {2*beta}\" for i in graph.nodes()]) + \"}\"\n",
    "        return f\".U_beta_{p}\\n\" + U_beta + '\\n'\n",
    "\n",
    "    def get_qaoa_circuit(graph, beta, gamma):\n",
    "        \"\"\"\n",
    "        Create full QAOA circuit for given `graph` and angles `beta` and `gamma`.\n",
    "        \"\"\"\n",
    "        assert len(beta) == len(gamma)\n",
    "        p = len(beta) # number of layers\n",
    "        N_qubits = graph.number_of_nodes()\n",
    "        circuit_str = Cqasm.get_qasm_header(5) #N_qubits)\n",
    "\n",
    "        # first step: apply Hadamards to obtain uniform superposition\n",
    "        circuit_str += \"{\" + ' | '.join([f\"H q[{i}]\" for i in graph.nodes()]) + \"}\\n\\n\"\n",
    "        # second step: apply p alternating operators\n",
    "        circuit_str += '\\n'.join([Cqasm.get_cost_operator(graph, gamma[i], i+1) \n",
    "                                  + Cqasm.get_mixing_operator(graph, beta[i], i+1) for i in range(p)])\n",
    "        # final step: measure the result\n",
    "        circuit_str += \"\\n\"\n",
    "        circuit_str += \"measure_all\"\n",
    "\n",
    "        return circuit_str"
   ]
  },
  {
   "cell_type": "markdown",
   "metadata": {},
   "source": [
    "## 4. Hybrid-quantum classical optimization"
   ]
  },
  {
   "cell_type": "markdown",
   "metadata": {},
   "source": [
    "Since QAOA is usually adopted as a hybrid quantum-classical algorithm, we need to construct an outer loop which optimizes the estimated $\\bra{\\gamma,\\beta}H\\ket{\\gamma,\\beta}$."
   ]
  },
  {
   "cell_type": "code",
   "execution_count": 11,
   "metadata": {},
   "outputs": [],
   "source": [
    "# Black-box function that describes the energy output of the QAOA quantum circuit\n",
    "def get_black_box_objective(G, p, SDK = 'qiskit', backend = None, shots=2**10):\n",
    "    if SDK == 'cqasm':\n",
    "        if not backend:\n",
    "            backend = 'QX single-node simulator'\n",
    "            backend_type = qi.get_backend_type_by_name(backend)\n",
    "            def f(theta):\n",
    "                # first half is betas, second half is gammas\n",
    "                beta = theta[:p]\n",
    "                gamma = theta[p:]\n",
    "                qc = Cqasm.get_qaoa_circuit(G, beta, gamma)\n",
    "                result = qi.execute_qasm(qc, backend_type=backend_type, number_of_shots=shots)\n",
    "                counts = result['histogram'] \n",
    "                # return the energy\n",
    "                return compute_maxcut_energy(counts, G)\n",
    "\n",
    "    if SDK == 'qiskit':\n",
    "        if not backend:\n",
    "            backend = 'qasm_simulator'\n",
    "        backend = Aer.get_backend(backend)\n",
    "        def f(theta):\n",
    "            # first half is betas, second half is gammas\n",
    "            beta = theta[:p]\n",
    "            gamma = theta[p:]\n",
    "            qc = Qiskit.get_qaoa_circuit(G,beta, gamma)\n",
    "            counts = execute(qc, backend,shots=shots).result().get_counts()\n",
    "            # return the energy\n",
    "            return compute_maxcut_energy(counts, G)\n",
    "    else:\n",
    "        return 'error: SDK not found'\n",
    "    return f\n",
    "\n",
    "# Estimate the expectation value based on the circuit output\n",
    "def compute_maxcut_energy(counts, G):\n",
    "    energy = 0\n",
    "    total_counts = 0\n",
    "    for meas, meas_count in counts.items():\n",
    "        obj_for_meas = maxcut_obj(meas, G)\n",
    "        energy += obj_for_meas * meas_count\n",
    "        total_counts += meas_count\n",
    "    return energy / total_counts"
   ]
  },
  {
   "cell_type": "markdown",
   "metadata": {},
   "source": [
    "## 5. A simple instance on the quantum inspire platform: 2-qubit case"
   ]
  },
  {
   "cell_type": "markdown",
   "metadata": {},
   "source": [
    "Let us first consider the most simple MAXCUT instance. We have just two nodes, and an optimal cut with objective value 1 would be to place both nodes in its own set."
   ]
  },
  {
   "cell_type": "code",
   "execution_count": 12,
   "metadata": {},
   "outputs": [
    {
     "name": "stdout",
     "output_type": "stream",
     "text": [
      "brute force method best cut:  1\n",
      "best string brute force method: 01\n"
     ]
    },
    {
     "data": {
      "image/png": "[encoded data removed]",
      "text/plain": [
       "<Figure size 288x288 with 1 Axes>"
      ]
     },
     "metadata": {},
     "output_type": "display_data"
    }
   ],
   "source": [
    "G=G2\n",
    "max_costs_bf, max_sol_bf,costs = brute_force(G)\n",
    "print(\"brute force method best cut: \",max_costs_bf)\n",
    "print(\"best string brute force method:\",max_sol_bf)\n",
    "\n",
    "colors = ['red' if x == '0' else 'b' for x in max_sol_bf]\n",
    "draw_cc_graph(G,node_color = colors)"
   ]
  },
  {
   "cell_type": "markdown",
   "metadata": {},
   "source": [
    "Using qiskit, the circuit would look the following:"
   ]
  },
  {
   "cell_type": "code",
   "execution_count": 13,
   "metadata": {},
   "outputs": [
    {
     "data": {
      "image/png": "[encoded data removed]",
      "text/plain": [
       "<Figure size 568.052x204.68 with 1 Axes>"
      ]
     },
     "execution_count": 13,
     "metadata": {},
     "output_type": "execute_result"
    }
   ],
   "source": [
    "# Test and show circuit for some beta,gamma\n",
    "p = 1\n",
    "beta = np.random.rand(p)*np.pi\n",
    "gamma = np.random.rand(p)*2*np.pi\n",
    "qc = Qiskit.get_qaoa_circuit(G,beta, gamma)\n",
    "qc.draw(output='mpl')"
   ]
  },
  {
   "cell_type": "markdown",
   "metadata": {},
   "source": [
    "Now let's run our hybrid-quantum algorithm simulation using qiskit:"
   ]
  },
  {
   "cell_type": "code",
   "execution_count": 14,
   "metadata": {},
   "outputs": [
    {
     "name": "stderr",
     "output_type": "stream",
     "text": [
      "/home/redwombat/miniconda3/envs/qi-py38/lib/python3.8/site-packages/scipy/optimize/_minimize.py:544: RuntimeWarning: Method COBYLA cannot handle bounds.\n",
      "  warn('Method %s cannot handle bounds.' % method,\n"
     ]
    },
    {
     "name": "stdout",
     "output_type": "stream",
     "text": [
      "     fun: -1.0\n",
      "   maxcv: 0.0\n",
      " message: 'Optimization terminated successfully.'\n",
      "    nfev: 26\n",
      "  status: 1\n",
      " success: True\n",
      "       x: array([-0.39933054,  0.79140574])\n"
     ]
    }
   ],
   "source": [
    "# Parameters that can be changed:\n",
    "p = 1\n",
    "lb = np.zeros(2*p)\n",
    "ub = np.hstack([np.full(p, np.pi), np.full(p, 2*np.pi)])\n",
    "init_point = np.random.uniform(lb, ub, 2*p)\n",
    "shots = 2**10\n",
    "optimiser = 'COBYLA'\n",
    "max_iter = 100\n",
    "\n",
    "# Training of the parameters beta and gamma\n",
    "obj = get_black_box_objective(G,p,SDK='qiskit',shots=shots)\n",
    "# Lower and upper bounds: beta \\in {0, pi}, gamma \\in {0, 2*pi}\n",
    "bounds = [lb,ub]\n",
    "\n",
    "# Maximum number of iterations: 100\n",
    "res = minimize(obj, init_point, method=optimiser, bounds = bounds, options={'maxiter':max_iter, 'disp': True})\n",
    "print(res)"
   ]
  },
  {
   "cell_type": "code",
   "execution_count": 15,
   "metadata": {},
   "outputs": [
    {
     "name": "stdout",
     "output_type": "stream",
     "text": [
      "Approximation ratio is 1.0\n"
     ]
    }
   ],
   "source": [
    "#Determine the approximation ratio:\n",
    "print('Approximation ratio is',-res['fun']/max_costs_bf)"
   ]
  },
  {
   "cell_type": "code",
   "execution_count": 16,
   "metadata": {},
   "outputs": [],
   "source": [
    "# Extract the optimal values for beta and gamma and run a new circuit with these parameters\n",
    "optimal_theta = res['x']\n",
    "qc = Qiskit.get_qaoa_circuit(G, optimal_theta[:p], optimal_theta[p:])\n",
    "counts = execute(qc,backend = Aer.get_backend('qasm_simulator'),shots=shots).result().get_counts()"
   ]
  },
  {
   "cell_type": "code",
   "execution_count": 17,
   "metadata": {},
   "outputs": [
    {
     "data": {
      "image/png": "[encoded data removed]",
      "text/plain": [
       "<Figure size 432x288 with 1 Axes>"
      ]
     },
     "metadata": {
      "needs_background": "light"
     },
     "output_type": "display_data"
    }
   ],
   "source": [
    "plt.bar(counts.keys(), counts.values())\n",
    "plt.xlabel('String')\n",
    "plt.ylabel('Count')\n",
    "plt.show()"
   ]
  },
  {
   "cell_type": "code",
   "execution_count": 18,
   "metadata": {},
   "outputs": [],
   "source": [
    "RG_dist = random_guessing_dist(G)"
   ]
  },
  {
   "cell_type": "code",
   "execution_count": 19,
   "metadata": {},
   "outputs": [
    {
     "data": {
      "image/png": "[encoded data removed]",
      "text/plain": [
       "<Figure size 432x288 with 1 Axes>"
      ]
     },
     "metadata": {
      "needs_background": "light"
     },
     "output_type": "display_data"
    },
    {
     "name": "stdout",
     "output_type": "stream",
     "text": [
      "Energy from random guessing is -0.5\n"
     ]
    }
   ],
   "source": [
    "# Measurement distribution \n",
    "E_dist = defaultdict(int)\n",
    "for k, v in counts.items():\n",
    "    E_dist[maxcut_obj(k,G)] += v\n",
    "\n",
    "plot_E_distributions([E_dist,RG_dist],p,['Qiskit','random guessing'])\n",
    "\n",
    "E_random_guessing = energy_random_guessing(RG_dist)\n",
    "print('Energy from random guessing is', E_random_guessing)"
   ]
  },
  {
   "cell_type": "code",
   "execution_count": 20,
   "metadata": {},
   "outputs": [
    {
     "name": "stdout",
     "output_type": "stream",
     "text": [
      "Probability of measuring the optimal solution is 1.0\n"
     ]
    }
   ],
   "source": [
    "X_list,Y_list = zip(*E_dist.items())\n",
    "X = -np.asarray(X_list)\n",
    "Y = np.asarray(Y_list)\n",
    "print('Probability of measuring the optimal solution is',Y[np.argmax(X)]/shots)"
   ]
  },
  {
   "cell_type": "markdown",
   "metadata": {},
   "source": [
    "Now that we have obtained some good values for $\\beta$ and $\\gamma$ through classical simulation, let's see what Starmon-5 would give us."
   ]
  },
  {
   "cell_type": "markdown",
   "metadata": {},
   "source": [
    "The figure below shows the topology of Starmon-5. Since q0 is not connected to q1, we have to relabel the nodes. Networkx as such an option, by using 'nx.relabel_nodes(G,{1:2}' we can relabel node 1 as node 2. Since q0 is connected to q2, this does allow us to run our cqasm code on Starmon-5. For qiskit, this step is irrelevant as we have all-to-all connectivity in the simulation."
   ]
  },
  {
   "cell_type": "code",
   "execution_count": 21,
   "metadata": {},
   "outputs": [
    {
     "data": {
      "image/png": "[encoded data removed]",
      "text/plain": [
       "<IPython.core.display.Image object>"
      ]
     },
     "execution_count": 21,
     "metadata": {},
     "output_type": "execute_result"
    }
   ],
   "source": [
    "Image(filename='Starmon5.png')"
   ]
  },
  {
   "cell_type": "code",
   "execution_count": 22,
   "metadata": {},
   "outputs": [
    {
     "name": "stdout",
     "output_type": "stream",
     "text": [
      "\n",
      "version 1.0\n",
      "qubits 5\n",
      "prep_z q[0:4]\n",
      "{H q[0] | H q[2]}\n",
      "\n",
      ".U_gamma_1\n",
      "CNOT q[0], q[2]\n",
      "Rz q[2], 1.5828114789648722\n",
      "CNOT q[0], q[2]\n",
      ".U_beta_1\n",
      "{Rx q[0], -0.798661078152829 | Rx q[2], -0.798661078152829}\n",
      "\n",
      "measure_all\n"
     ]
    }
   ],
   "source": [
    "qc_Cqasm = Cqasm.get_qaoa_circuit(nx.relabel_nodes(G, {1: 2}), optimal_theta[:p], optimal_theta[p:])\n",
    "print(qc_Cqasm)"
   ]
  },
  {
   "cell_type": "markdown",
   "metadata": {},
   "source": [
    "Now we run the Cqasm-circuit on the Starmon-5 Hardware."
   ]
  },
  {
   "cell_type": "code",
   "execution_count": 23,
   "metadata": {},
   "outputs": [],
   "source": [
    "authentication = get_authentication()\n",
    "QI.set_authentication(authentication, QI_URL)"
   ]
  },
  {
   "cell_type": "code",
   "execution_count": 24,
   "metadata": {},
   "outputs": [],
   "source": [
    "qiapi = QuantumInspireAPI(QI_URL, authentication)\n",
    "result = qiapi.execute_qasm(qc_Cqasm, backend_type=qiapi.get_backend_type('Starmon-5'), number_of_shots=2**10)\n",
    "counts_QI = result['histogram']"
   ]
  },
  {
   "cell_type": "markdown",
   "metadata": {},
   "source": [
    "Inspecting 'counts_QI', we see that it returns the integer corresponding to the bit string result of the measurement "
   ]
  },
  {
   "cell_type": "code",
   "execution_count": 25,
   "metadata": {},
   "outputs": [
    {
     "data": {
      "text/plain": [
       "OrderedDict([('0', 0.056640625),\n",
       "             ('1', 0.4208984375),\n",
       "             ('2', 0.005859375),\n",
       "             ('3', 0.021484375),\n",
       "             ('4', 0.3994140625),\n",
       "             ('5', 0.0283203125),\n",
       "             ('6', 0.0234375),\n",
       "             ('7', 0.001953125),\n",
       "             ('8', 0.001953125),\n",
       "             ('9', 0.0068359375),\n",
       "             ('12', 0.015625),\n",
       "             ('13', 0.001953125),\n",
       "             ('17', 0.0009765625),\n",
       "             ('20', 0.0078125),\n",
       "             ('22', 0.001953125),\n",
       "             ('28', 0.0048828125)])"
      ]
     },
     "execution_count": 25,
     "metadata": {},
     "output_type": "execute_result"
    }
   ],
   "source": [
    "counts_QI"
   ]
  },
  {
   "cell_type": "markdown",
   "metadata": {},
   "source": [
    "Note that we measure more than just the two relevant qubits, since we had the 'measure all' command in the the cqasm code. The distribution over the strings looks the following:"
   ]
  },
  {
   "cell_type": "code",
   "execution_count": 26,
   "metadata": {},
   "outputs": [
    {
     "name": "stdout",
     "output_type": "stream",
     "text": [
      "{'00000': 0.056640625, '00001': 0.4208984375, '00010': 0.005859375, '00011': 0.021484375, '00100': 0.3994140625, '00101': 0.0283203125, '00110': 0.0234375, '00111': 0.001953125, '01000': 0.001953125, '01001': 0.0068359375, '01100': 0.015625, '01101': 0.001953125, '10001': 0.0009765625, '10100': 0.0078125, '10110': 0.001953125, '11100': 0.0048828125}\n"
     ]
    },
    {
     "data": {
      "image/png": "[encoded data removed]",
      "text/plain": [
       "<Figure size 432x288 with 1 Axes>"
      ]
     },
     "metadata": {
      "needs_background": "light"
     },
     "output_type": "display_data"
    }
   ],
   "source": [
    "counts_bin = {}\n",
    "for k,v in counts_QI.items():\n",
    "    counts_bin[f'{int(k):05b}'] = v\n",
    "print(counts_bin)\n",
    "plt.bar(counts_bin.keys(), counts_bin.values())\n",
    "plt.xlabel('State')\n",
    "plt.ylabel('Measurement probability')\n",
    "plt.xticks(rotation='vertical')\n",
    "plt.show()"
   ]
  },
  {
   "cell_type": "markdown",
   "metadata": {},
   "source": [
    "Let's create another counts dictionary with only the relevant qubits, which are q0 and q2:"
   ]
  },
  {
   "cell_type": "code",
   "execution_count": 27,
   "metadata": {},
   "outputs": [],
   "source": [
    "counts_bin_red = defaultdict(float)\n",
    "for string in counts_bin:\n",
    "    q0 = string[-1]\n",
    "    q1 = string[-3]\n",
    "    counts_bin_red[(q0+q1)]+=counts_bin[string]"
   ]
  },
  {
   "cell_type": "code",
   "execution_count": 28,
   "metadata": {},
   "outputs": [
    {
     "data": {
      "text/plain": [
       "defaultdict(float,\n",
       "            {'00': 0.064453125,\n",
       "             '10': 0.4501953125,\n",
       "             '01': 0.453125,\n",
       "             '11': 0.0322265625})"
      ]
     },
     "execution_count": 28,
     "metadata": {},
     "output_type": "execute_result"
    }
   ],
   "source": [
    "counts_bin_red"
   ]
  },
  {
   "cell_type": "markdown",
   "metadata": {},
   "source": [
    "We now plot all distributions (qiskit, Starmon-5, and random guessing) in a single plot."
   ]
  },
  {
   "cell_type": "code",
   "execution_count": 29,
   "metadata": {},
   "outputs": [
    {
     "name": "stdout",
     "output_type": "stream",
     "text": [
      "Approximation ratio on the hardware is 0.9033203125\n"
     ]
    },
    {
     "data": {
      "image/png": "[encoded data removed]",
      "text/plain": [
       "<Figure size 432x288 with 1 Axes>"
      ]
     },
     "metadata": {
      "needs_background": "light"
     },
     "output_type": "display_data"
    },
    {
     "name": "stdout",
     "output_type": "stream",
     "text": [
      "Probability of measuring the optimal solution is 0.9033203125\n",
      "Expected approximation ratio random guessing is 0.5\n"
     ]
    }
   ],
   "source": [
    "#Determine the approximation ratio:\n",
    "print('Approximation ratio on the hardware is',-compute_maxcut_energy(counts_bin_red,G)/max_costs_bf)\n",
    "\n",
    "# Random guessing distribution\n",
    "RG_dist = random_guessing_dist(G)\n",
    "\n",
    "# Measurement distribution \n",
    "E_dist_S5 = defaultdict(int)\n",
    "for k, v in counts_bin_red.items():\n",
    "    E_dist_S5[maxcut_obj(k,G)] += v\n",
    "    \n",
    "plot_E_distributions([E_dist,E_dist_S5,RG_dist],p,['Qiskit','Starmon-5','random guessing'])\n",
    "\n",
    "\n",
    "X_list,Y_list = zip(*E_dist_S5.items())\n",
    "X = -np.asarray(X_list)\n",
    "Y = np.asarray(Y_list)\n",
    "print('Probability of measuring the optimal solution is',Y[np.argmax(X)])\n",
    "\n",
    "\n",
    "E_random_guessing = energy_random_guessing(RG_dist)\n",
    "print('Expected approximation ratio random guessing is', -E_random_guessing/max_costs_bf)"
   ]
  },
  {
   "cell_type": "markdown",
   "metadata": {},
   "source": [
    "## 6. Compilation issues: the triangle graph\n"
   ]
  },
  {
   "cell_type": "markdown",
   "metadata": {},
   "source": [
    "For the graph with just two nodes we already had some minor compilation issues, but this was easily fixed by relabeling the nodes. We will now consider an example for which relabeling is simply not good enough to get it mapped to the Starmon-5 toplogy."
   ]
  },
  {
   "cell_type": "code",
   "execution_count": 30,
   "metadata": {},
   "outputs": [
    {
     "name": "stdout",
     "output_type": "stream",
     "text": [
      "brute force method best cut:  2\n",
      "best string brute force method: 001\n"
     ]
    },
    {
     "data": {
      "image/png": "[encoded data removed]",
      "text/plain": [
       "<Figure size 288x288 with 1 Axes>"
      ]
     },
     "metadata": {},
     "output_type": "display_data"
    }
   ],
   "source": [
    "G=G3\n",
    "max_costs_bf, max_sol_bf,costs = brute_force(G)\n",
    "print(\"brute force method best cut: \",max_costs_bf)\n",
    "print(\"best string brute force method:\",max_sol_bf)\n",
    "\n",
    "colors = ['red' if x == '0' else 'b' for x in max_sol_bf]\n",
    "draw_cc_graph(G,node_color = colors)"
   ]
  },
  {
   "cell_type": "markdown",
   "metadata": {},
   "source": [
    "Due to the topology of Starmon-5 this graph cannot be executed without any SWAPS. Therefore, we ask you to write a new circuit generator that uses SWAPS in order to make the algorithm work with the Starmon-5 topology. Let's also swap back to the original graph configuration, so that we can in the end measure only the qubits that correspond to a node in the graph (this is already written for you)"
   ]
  },
  {
   "cell_type": "code",
   "execution_count": 31,
   "metadata": {},
   "outputs": [],
   "source": [
    "def QAOA_triangle_circuit_cqasm(graph, beta, gamma):\n",
    "    circuit_str = Cqasm.get_qasm_header(5)\n",
    "    circuit_str += \"{\" + ' | '.join([f\"H q[{i}]\" for i in graph.nodes()]) + \"}\\n\\n\"\n",
    "    \n",
    "    def get_triangle_cost_operator(graph, gamma, p):\n",
    "        layer_list = graph.number_of_edges() * [None]\n",
    "        for n, edge in enumerate(graph.edges()):\n",
    "            if 0 in edge and 1 in edge:\n",
    "                layer_list[n] = '\\n'.join([f\"SWAP q[{edge[0]}], q[2]\",\n",
    "                                            f\"CNOT q[2], q[{edge[1]}]\", \n",
    "                                            f\"Rz q[{edge[1]}], {2*gamma}\", \n",
    "                                            f\"CNOT q[2], q[{edge[1]}]\",\n",
    "                                            f\"SWAP q[{edge[0]}], q[2]\" ])\n",
    "            else:\n",
    "                layer_list[n] = '\\n'.join([f\"CNOT q[{edge[0]}], q[{edge[1]}]\", \n",
    "                                           f\"Rz q[{edge[1]}], {2*gamma}\", \n",
    "                                           f\"CNOT q[{edge[0]}], q[{edge[1]}]\"])\n",
    "\n",
    "        return f\".U_gamma_{p}\\n\" + '\\n'.join(layer_list) + '\\n'\n",
    "    \n",
    "    circuit_str += '\\n'.join([get_triangle_cost_operator(graph, gamma[i], i+1) \n",
    "                              + Cqasm.get_mixing_operator(graph, beta[i], i+1) for i in range(p)])    \n",
    "    circuit_str += \"\\n\"\n",
    "    circuit_str += \"{\" + ' | '.join([f\"measure q[{i}]\" for i in graph.nodes()]) + \"}\\n\" \n",
    "    return circuit_str "
   ]
  },
  {
   "cell_type": "markdown",
   "metadata": {},
   "source": [
    "We now run the same procedure as before to obtain good parameter values"
   ]
  },
  {
   "cell_type": "code",
   "execution_count": 32,
   "metadata": {},
   "outputs": [
    {
     "name": "stderr",
     "output_type": "stream",
     "text": [
      "/home/redwombat/miniconda3/envs/qi-py38/lib/python3.8/site-packages/scipy/optimize/_minimize.py:544: RuntimeWarning: Method COBYLA cannot handle bounds.\n",
      "  warn('Method %s cannot handle bounds.' % method,\n"
     ]
    },
    {
     "name": "stdout",
     "output_type": "stream",
     "text": [
      "     fun: -2.0\n",
      "   maxcv: 0.0\n",
      " message: 'Optimization terminated successfully.'\n",
      "    nfev: 32\n",
      "  status: 1\n",
      " success: True\n",
      "       x: array([1.89052483, 4.39449308])\n"
     ]
    }
   ],
   "source": [
    "# Parameters that can be changed:\n",
    "p = 1\n",
    "lb = np.zeros(2*p)\n",
    "ub = np.hstack([np.full(p, np.pi), np.full(p, 2*np.pi)])\n",
    "init_point = np.random.uniform(lb, ub, 2*p)\n",
    "shots = 2**10\n",
    "optimiser = 'COBYLA'\n",
    "max_iter = 100\n",
    "\n",
    "# Training of the parameters beta and gamma\n",
    "obj = get_black_box_objective(G,p,SDK='qiskit',shots=shots)\n",
    "# Lower and upper bounds: beta \\in {0, pi}, gamma \\in {0, 2*pi}\n",
    "bounds = [lb,ub]\n",
    "\n",
    "# Maximum number of iterations: 100\n",
    "res = minimize(obj, init_point, method=optimiser, bounds = bounds,options={'maxiter':max_iter, 'disp': True})\n",
    "print(res)"
   ]
  },
  {
   "cell_type": "code",
   "execution_count": 33,
   "metadata": {},
   "outputs": [
    {
     "name": "stdout",
     "output_type": "stream",
     "text": [
      "Approximation ratio is 1.0\n",
      "Probability of measuring the optimal solution is 1.0\n",
      "Expected approximation ratio random guessing is 0.75\n"
     ]
    }
   ],
   "source": [
    "#Determine the approximation ratio:\n",
    "print('Approximation ratio is',-res['fun']/max_costs_bf)\n",
    "\n",
    "# Extract the optimal values for beta and gamma and run a new circuit with these parameters\n",
    "optimal_theta = res['x']\n",
    "qc = Qiskit.get_qaoa_circuit(G, optimal_theta[:p], optimal_theta[p:])\n",
    "counts = execute(qc,backend = Aer.get_backend('qasm_simulator'),shots=shots).result().get_counts()\n",
    "\n",
    "# Random guessing distribution\n",
    "RG_dist = random_guessing_dist(G)\n",
    "\n",
    "# Measurement distribution \n",
    "E_dist = defaultdict(int)\n",
    "for k, v in counts.items():\n",
    "    E_dist[maxcut_obj(k,G)] += v\n",
    "\n",
    "X_list,Y_list = zip(*E_dist.items())\n",
    "X = -np.asarray(X_list)\n",
    "Y = np.asarray(Y_list)\n",
    "print('Probability of measuring the optimal solution is',Y[np.argmax(X)]/shots)\n",
    "\n",
    "E_random_guessing = energy_random_guessing(RG_dist)\n",
    "print('Expected approximation ratio random guessing is', -E_random_guessing/max_costs_bf)"
   ]
  },
  {
   "cell_type": "code",
   "execution_count": 34,
   "metadata": {},
   "outputs": [
    {
     "data": {
      "image/png": "[encoded data removed]",
      "text/plain": [
       "<Figure size 432x288 with 1 Axes>"
      ]
     },
     "metadata": {
      "needs_background": "light"
     },
     "output_type": "display_data"
    }
   ],
   "source": [
    "plt.bar(counts.keys(), counts.values())\n",
    "plt.xlabel('String')\n",
    "plt.ylabel('Count')\n",
    "plt.show()"
   ]
  },
  {
   "cell_type": "markdown",
   "metadata": {},
   "source": [
    "Let's run it on Starmon-5 again!"
   ]
  },
  {
   "cell_type": "code",
   "execution_count": 35,
   "metadata": {},
   "outputs": [
    {
     "name": "stdout",
     "output_type": "stream",
     "text": [
      "\n",
      "version 1.0\n",
      "qubits 5\n",
      "prep_z q[0:4]\n",
      "{H q[0] | H q[1] | H q[2]}\n",
      "\n",
      ".U_gamma_1\n",
      "SWAP q[0], q[2]\n",
      "CNOT q[2], q[1]\n",
      "Rz q[1], 8.788986167232244\n",
      "CNOT q[2], q[1]\n",
      "SWAP q[0], q[2]\n",
      "CNOT q[0], q[2]\n",
      "Rz q[2], 8.788986167232244\n",
      "CNOT q[0], q[2]\n",
      "CNOT q[1], q[2]\n",
      "Rz q[2], 8.788986167232244\n",
      "CNOT q[1], q[2]\n",
      ".U_beta_1\n",
      "{Rx q[0], 3.781049654543756 | Rx q[1], 3.781049654543756 | Rx q[2], 3.781049654543756}\n",
      "\n",
      "{measure q[0] | measure q[1] | measure q[2]}\n",
      "\n",
      "{'id': 7069985, 'url': 'https://api.quantum-inspire.com/results/7069985/', 'job': 'https://api.quantum-inspire.com/jobs/7078006/', 'created_at': '2021-11-26T12:22:32.339692Z', 'number_of_qubits': 5, 'execution_time_in_seconds': 0.155648, 'raw_text': '', 'raw_data_url': 'https://api.quantum-inspire.com/results/7069985/raw-data/c34440ffc174351f859a320acde97bf1f5596d01f3bbd9acacd93a0771764fe5/', 'histogram': OrderedDict([('0', 0.0390625), ('1', 0.1611328125), ('2', 0.08203125), ('3', 0.240234375), ('4', 0.1025390625), ('5', 0.15625), ('6', 0.15625), ('7', 0.0625)]), 'histogram_url': 'https://api.quantum-inspire.com/results/7069985/histogram/c34440ffc174351f859a320acde97bf1f5596d01f3bbd9acacd93a0771764fe5/', 'measurement_mask': 7, 'quantum_states_url': 'https://api.quantum-inspire.com/results/7069985/quantum-states/c34440ffc174351f859a320acde97bf1f5596d01f3bbd9acacd93a0771764fe5/', 'measurement_register_url': 'https://api.quantum-inspire.com/results/7069985/measurement-register/c34440ffc174351f859a320acde97bf1f5596d01f3bbd9acacd93a0771764fe5/', 'calibration': 'https://api.quantum-inspire.com/calibration/109027/'}\n"
     ]
    }
   ],
   "source": [
    "# Extract the optimal values for beta and gamma and run a new circuit with these parameters\n",
    "optimal_theta = res['x']\n",
    "qasm_circuit = QAOA_triangle_circuit_cqasm(G, optimal_theta[:p], optimal_theta[p:])\n",
    "qiapi = QuantumInspireAPI(QI_URL, authentication)\n",
    "result = qiapi.execute_qasm(qasm_circuit, backend_type=qiapi.get_backend_type('Starmon-5'), number_of_shots=shots)\n",
    "counts = result['histogram']\n",
    "\n",
    "print(qasm_circuit)\n",
    "print(result)"
   ]
  },
  {
   "cell_type": "code",
   "execution_count": 36,
   "metadata": {},
   "outputs": [
    {
     "data": {
      "text/plain": [
       "OrderedDict([('0', 0.0390625),\n",
       "             ('1', 0.1611328125),\n",
       "             ('2', 0.08203125),\n",
       "             ('3', 0.240234375),\n",
       "             ('4', 0.1025390625),\n",
       "             ('5', 0.15625),\n",
       "             ('6', 0.15625),\n",
       "             ('7', 0.0625)])"
      ]
     },
     "execution_count": 36,
     "metadata": {},
     "output_type": "execute_result"
    }
   ],
   "source": [
    "counts"
   ]
  },
  {
   "cell_type": "code",
   "execution_count": 37,
   "metadata": {},
   "outputs": [
    {
     "name": "stdout",
     "output_type": "stream",
     "text": [
      "{'000': 0.0390625, '001': 0.1611328125, '010': 0.08203125, '011': 0.240234375, '100': 0.1025390625, '101': 0.15625, '110': 0.15625, '111': 0.0625}\n"
     ]
    },
    {
     "data": {
      "image/png": "[encoded data removed]",
      "text/plain": [
       "<Figure size 432x288 with 1 Axes>"
      ]
     },
     "metadata": {
      "needs_background": "light"
     },
     "output_type": "display_data"
    }
   ],
   "source": [
    "counts_bin = {}\n",
    "for k,v in counts.items():\n",
    "    counts_bin[f'{int(k):03b}'] = v\n",
    "print(counts_bin)\n",
    "plt.bar(counts_bin.keys(), counts_bin.values())\n",
    "plt.xlabel('String')\n",
    "plt.ylabel('Probability')\n",
    "plt.show()"
   ]
  },
  {
   "cell_type": "code",
   "execution_count": 38,
   "metadata": {},
   "outputs": [
    {
     "name": "stdout",
     "output_type": "stream",
     "text": [
      "Approximation ratio on the hardware is 0.8984375\n"
     ]
    },
    {
     "data": {
      "image/png": "[encoded data removed]",
      "text/plain": [
       "<Figure size 432x288 with 1 Axes>"
      ]
     },
     "metadata": {
      "needs_background": "light"
     },
     "output_type": "display_data"
    },
    {
     "name": "stdout",
     "output_type": "stream",
     "text": [
      "Probability of measuring the optimal solution is 0.8984375\n",
      "Expected approximation ratio random guessing is 0.75\n"
     ]
    }
   ],
   "source": [
    "#Determine the approximation ratio:\n",
    "print('Approximation ratio on the hardware is',-compute_maxcut_energy(counts_bin,G)/max_costs_bf)\n",
    "\n",
    "# Random guessing distribution\n",
    "RG_dist = random_guessing_dist(G)\n",
    "\n",
    "# Measurement distribution \n",
    "E_dist_S5 = defaultdict(int)\n",
    "for k, v in counts_bin.items():\n",
    "    E_dist_S5[maxcut_obj(k,G)] += v\n",
    "    \n",
    "plot_E_distributions([E_dist,E_dist_S5,RG_dist],p,['Qiskit','Starmon-5','random guessing'])\n",
    "\n",
    "\n",
    "X_list,Y_list = zip(*E_dist_S5.items())\n",
    "X = -np.asarray(X_list)\n",
    "Y = np.asarray(Y_list)\n",
    "print('Probability of measuring the optimal solution is',Y[np.argmax(X)])\n",
    "\n",
    "\n",
    "E_random_guessing = energy_random_guessing(RG_dist)\n",
    "print('Expected approximation ratio random guessing is', -E_random_guessing/max_costs_bf)"
   ]
  },
  {
   "cell_type": "markdown",
   "metadata": {},
   "source": [
    "## 7. More advanced questions\n",
    "\n",
    "Some questions you could look at:\n",
    "\n",
    "- What is the performance on other graph instances?\n",
    "- How scalable is this hardware for larger problem sizes?\n",
    "- How much can the circuit be optimized for certain graph instances?\n",
    "- Are the errors perfectly random or is there some correlation?\n",
    "- Are there tricks to find good parameters? "
   ]
  },
  {
   "cell_type": "code",
   "execution_count": null,
   "metadata": {},
   "outputs": [],
   "source": []
  },
  {
   "cell_type": "code",
   "execution_count": null,
   "metadata": {},
   "outputs": [],
   "source": []
  }
 ],
 "metadata": {
  "kernelspec": {
   "display_name": "Python 3 (ipykernel)",
   "language": "python",
   "name": "python3"
  },
  "language_info": {
   "codemirror_mode": {
    "name": "ipython",
    "version": 3
   },
   "file_extension": ".py",
   "mimetype": "text/x-python",
   "name": "python",
   "nbconvert_exporter": "python",
   "pygments_lexer": "ipython3",
   "version": "3.8.8"
  },
  "toc-autonumbering": true
 },
 "nbformat": 4,
 "nbformat_minor": 4
}
