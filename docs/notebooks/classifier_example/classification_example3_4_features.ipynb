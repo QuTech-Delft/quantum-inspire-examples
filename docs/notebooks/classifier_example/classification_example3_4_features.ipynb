{
 "cells": [
  {
   "cell_type": "markdown",
   "metadata": {},
   "source": [
    "# A Quantum distance-based classifier (part 3)\n",
    "\n",
    "<center> Robert Wezeman, TNO </center>"
   ]
  },
  {
   "cell_type": "markdown",
   "metadata": {},
   "source": [
    "<a name=\"contents\"></a>\n",
    "\n",
    "## Table of Contents\n",
    "\n",
    "* [Introduction](#introduction)\n",
    "* [Problem](#problem)\n",
    "* [Theory](#theory)\n",
    "* [Algorithm for the arbitrary state preparation](#algorithm)\n",
    "* [Implementation of the distance-based classifier](#implementation)\n",
    "* [Conclusion and further work](#conclusion)"
   ]
  },
  {
   "cell_type": "markdown",
   "metadata": {},
   "source": [
    "$$ \\newcommand{\\ket}[1]{\\left|{#1}\\right\\rangle} $$"
   ]
  },
  {
   "cell_type": "code",
   "execution_count": 1,
   "metadata": {},
   "outputs": [],
   "source": [
    "## Import external python file\n",
    "import nbimporter\n",
    "from data_plotter import get_bin, DataPlotter  # for easier plotting\n",
    "DataPlotter = DataPlotter()\n",
    "\n",
    "# Import math functions\n",
    "import numpy as np\n",
    "from math import acos, pi, atan, sqrt\n",
    "from numpy import sign\n",
    "\n",
    "# Import plotting tools\n",
    "import matplotlib.pyplot as plt"
   ]
  },
  {
   "cell_type": "markdown",
   "metadata": {},
   "source": [
    "<a name=\"introduction\"></a>\n",
    "\n",
    "## Introduction\n",
    "\n",
    "This notebook is the third in the series on the quantum distance-based classifier. In the first notebook, we looked at how to build a distance-based classifier with two data points, each having two features. In the second notebook, we looked at how to increase the amount of data points. In this notebook we will look at how to increase the amount of features.\n",
    "\n",
    "[Back to Table of Contents](#contents)"
   ]
  },
  {
   "cell_type": "markdown",
   "metadata": {},
   "source": [
    "<a name=\"problem\"></a>\n",
    "\n",
    "## Problem\n",
    "\n",
    "We repeat the problem description from the previous notebooks. We define the following binary classification problem: Given the data set\n",
    "$$\\mathcal{D} = \\Big\\{ ({\\bf x}_1, y_1), \\ldots ({\\bf x}_M , y_M)  \\Big\\},$$\n",
    "consisting of $M$ data points $x_i\\in\\mathbb{R}^n$ and corresponding labels $y_i\\in \\{-1, 1\\}$, give a prediction for the label $\\tilde{y}$ corresponding to an unlabeled data point $\\bf\\tilde{x}$. The classifier we shall implement with our quantum circuit is a distance-based classifier and is given by\n",
    "\\begin{equation}\\newcommand{\\sgn}{{\\rm sgn}}\\newcommand{\\abs}[1]{\\left\\lvert#1\\right\\rvert}\\label{eq:classifier} \\tilde{y} = \\sgn\\left(\\sum_{m=0}^{M-1} y_m \\left[1-\\frac{1}{4M}\\abs{{\\bf\\tilde{x}}-{\\bf x}_m}^2\\right]\\right). \\hspace{3cm} (1)\\end{equation}\n",
    "\n",
    "This is a typical $M$-nearest-neighbor model where each data point is given a weight related to the distance measure. To implement this classifier on a quantum computer we use amplitude encoding. Details are found in the previous notebooks.\n",
    "\n",
    "[Back to Contents](#contents)"
   ]
  },
  {
   "cell_type": "markdown",
   "metadata": {},
   "source": [
    "<a name=\"theory\"></a>\n",
    "\n",
    "## Theory\n",
    "\n",
    "In the previous notebooks we encoded the data, each having two features, with a simple $R_y(\\theta)$ rotation. The angle for this rotation was chosen such that it rotated the state $\\ket{0}$ to the desired state $\\ket{\\bf{x}}$ corresponding to the data. If we want to include more features for our data points we need to generalize this rotation. Instead of a simple rotation, we now need a combination of gates such that it maps $\\ket{0\\ldots 0} \\mapsto \\ket{\\bf x} = \\sum_i a_i \\ket{i}$, where $\\ket{i}$ is the $i^{th}$ entry of the computational basis $\\left\\{\\ket{0\\ldots0},\\ldots,\\ket{1\\ldots1}\\right\\}$. Again we only work with normalised data, meaning $\\sum_i \\lvert a_i \\rvert^2=1$. The general procedure how to initialize a state to an arbitrary superposed state can be found in the article by [Long and Sun](https://arxiv.org/abs/quant-ph/0104030). In this notebook we will consider how to implement their scheme for 2 qubits, that is up to 4 features:\n",
    "\\begin{equation}\n",
    "\\ket{00} \\mapsto a_{00} \\ket{00} + a_{01} \\ket{01} + a_{10} \\ket{10} + a_{11} \\ket{11}\n",
    "\\end{equation}\n",
    "\n",
    "For the implementation we closely follow the reference and use single bit rotation gates $U(\\theta)$ defined by\n",
    "\\begin{equation}\n",
    "U(\\theta) = \\begin{pmatrix}\n",
    "\\cos(\\theta) & \\sin(\\theta) \\\\\n",
    "\\sin(\\theta) & -\\cos(\\theta)\n",
    "\\end{pmatrix}  = R_y(2\\theta) \\cdot Z\n",
    "\\end{equation}\n",
    "and controlled versions of it. Because we will only act with these gates on $\\ket{0}$ we can even drop the $Z$ gate.\n",
    "\n",
    "For two qubits the scheme consists of three steps:\n",
    "1. Apply a bit rotation $U(\\alpha_1)$ on the first qubit:\n",
    "\\begin{equation}\n",
    "U(\\alpha_1)\\ket{0}\\otimes\\ket{0}= \\sqrt{\\abs{a_{00}}^2 + \\abs{a_{01}}^2} \\ket{00} + \\sqrt{\\abs{a_{10}}^2 + \\abs{a_{11}}^2} \\ket{10},\n",
    "\\end{equation}\n",
    "where $\\alpha_1$ is given by\n",
    "\\begin{equation}\n",
    "\\alpha_1 = \\arctan\\left(\\sqrt{\\frac{\\abs{a_{10}}^2 + \\abs{a_{11}}^2}{\\abs{a_{00}}^2 + \\abs{a_{01}}^2}}\\right)\n",
    "\\end{equation}\n",
    "2. Next, apply a controlled-rotation $U(\\alpha_2)$ on the second qubit, with as control the first qubit being 0. Choose $\\alpha_2$ such that:\n",
    "\\begin{equation}\n",
    "\\cos(\\alpha_2) = \\frac{a_{00}}{\\sqrt{\\abs{a_{00}}^2+\\abs{a_{01}}^2}}, \\hspace{1cm} \\sin(\\alpha_2) = \\frac{a_{01}}{\\sqrt{\\abs{a_{00}}^2+\\abs{a_{01}}^2}}\n",
    "\\end{equation}\n",
    "3. Lastly, apply a controlled-rotation $U(\\alpha_3)$ on the second qubit, with the first qubit being 1 as control. Choose $\\alpha_3$ such that:\n",
    "\\begin{equation}\n",
    "\\cos(\\alpha_3) = \\frac{a_{10}}{\\sqrt{\\abs{a_{10}}^2+\\abs{a_{11}}^2}}, \\hspace{1cm} \\sin(\\alpha_3) = \\frac{a_{11}}{\\sqrt{\\abs{a_{10}}^2+\\abs{a_{11}}^2}}\n",
    "\\end{equation}\n",
    "\n",
    "The angles $\\alpha_2$ and $\\alpha_3$ are chosen such that the root terms cancel out, leaving us with the desired result:\n",
    "\\begin{equation}\n",
    "\\begin{split}\n",
    "\\sqrt{\\abs{a_{00}}^2 + \\abs{a_{01}}^2}& \\ket{0}\\otimes U(\\alpha_2)\\ket{0} + \\sqrt{\\abs{a_{10}}^2 + \\abs{a_{11}}^2} \\ket{1}\\otimes U(\\alpha_3)\\ket{0}\\\\\n",
    "&=a_{11} \\ket{00} + a_{01} \\ket{01} + a_{10} \\ket{10} + a_{11} \\ket{11}\n",
    "\\end{split}\n",
    "\\end{equation}\n",
    "\n",
    "Note: this circuit makes it also possible to encode 3 features by simply setting $a_{11}=0$.\n",
    "\n",
    "The circuit looks something like this:\n",
    "\n",
    "<img src=\"images/images4features/rotations.png\">\n",
    "\n",
    "[Back to Table of Contents](#contents)"
   ]
  },
  {
   "cell_type": "markdown",
   "metadata": {},
   "source": [
    "<a name=\"algorithm\"></a>\n",
    "\n",
    "## Algorithm for the arbitrary state preparation\n",
    "\n",
    "In this notebook we will work with the Qiskit backend for the quantum inspire. Let us first take a closer look at the state preparation part of the circuit used to preparing an arbitrary state. The following code loads the scaled and normalised data of the Iris set containing all 4 features. Let us consider the first point in this set"
   ]
  },
  {
   "cell_type": "code",
   "execution_count": 2,
   "metadata": {},
   "outputs": [
    {
     "data": {
      "text/plain": [
       "[-0.32695550305984783,\n",
       " 0.4736868636179572,\n",
       " -0.5699845991812187,\n",
       " -0.5863773622428564]"
      ]
     },
     "execution_count": 2,
     "metadata": {},
     "output_type": "execute_result"
    }
   ],
   "source": [
    "# Load scaled and normalised data\n",
    "iris_setosa_normalised, iris_versicolor_normalised = DataPlotter.load_data(max_features=4)\n",
    "first_data_point = [feature[0] for feature in iris_setosa_normalised]\n",
    "first_data_point"
   ]
  },
  {
   "cell_type": "markdown",
   "metadata": {},
   "source": [
    "We want to build the circuit such that:\n",
    "\\begin{equation}\\ket{00} \\mapsto -0.3270 \\ket{00} + 0.4737 \\ket{01} - 0.5700 \\ket{10} - 0.5864 \\ket{11}\\end{equation}"
   ]
  },
  {
   "cell_type": "code",
   "execution_count": 3,
   "metadata": {},
   "outputs": [],
   "source": [
    "a00, a01, a10, a11 = first_data_point\n",
    "alpha1 = atan(sqrt((a10**2  + a11**2) / (a00**2  + a01**2)))\n",
    "alpha2 = np.arctan2(a01, a00)\n",
    "alpha3 = np.arctan2(a11, a10)"
   ]
  },
  {
   "cell_type": "markdown",
   "metadata": {},
   "source": [
    "As always the first step is to set up a connection with the Quantum Inspire:"
   ]
  },
  {
   "cell_type": "code",
   "execution_count": 4,
   "metadata": {},
   "outputs": [],
   "source": [
    "import os\n",
    "from getpass import getpass\n",
    "from quantuminspire.credentials import load_account, get_token_authentication, get_basic_authentication\n",
    "\n",
    "from qiskit.circuit import QuantumRegister, ClassicalRegister, QuantumCircuit\n",
    "from qiskit.tools.visualization import plot_histogram, circuit_drawer\n",
    "from qiskit import execute\n",
    "\n",
    "from quantuminspire.qiskit import QI\n",
    "from quantuminspire.api import QuantumInspireAPI\n",
    "\n",
    "QI_EMAIL = os.getenv('QI_EMAIL')\n",
    "QI_PASSWORD = os.getenv('QI_PASSWORD')\n",
    "QI_URL = os.getenv('API_URL', 'https://api.quantum-inspire.com/')\n",
    "\n",
    "\n",
    "def get_authentication():\n",
    "    \"\"\" Gets the authentication for connecting to the Quantum Inspire API.\"\"\"\n",
    "    token = load_account()\n",
    "    if token is not None:\n",
    "        return get_token_authentication(token)\n",
    "    else:\n",
    "        if QI_EMAIL is None or QI_PASSWORD is None:\n",
    "            print('Enter email:')\n",
    "            email = input()\n",
    "            print('Enter password')\n",
    "            password = getpass()\n",
    "        else:\n",
    "            email, password = QI_EMAIL, QI_PASSWORD\n",
    "        return get_basic_authentication(email, password)\n",
    "\n",
    "\n",
    "authentication = get_authentication()\n",
    "# Temporairy alternative so that we can give our project a name:\n",
    "QI._api = QuantumInspireAPI(QI_URL, authentication, project_name=\"Distance-based Classifier more features (NEW)\")\n",
    "\n",
    "# Alternative:\n",
    "# authentication = [email, password]\n",
    "# QI.set_authentication_details(*authentication)\n",
    "\n",
    "qi_backend = QI.get_backend('QX single-node simulator')"
   ]
  },
  {
   "cell_type": "markdown",
   "metadata": {},
   "source": [
    "We can now construct a function which builds the quantum circuit as discussed above. Note that Qiskit contains the general unitary gates $u3(\\theta, \\phi, \\lambda)$ which are related to our definition of $U(\\alpha)$ by:$$U(\\alpha) = u3(2\\alpha, 0, \\pi).$$\n",
    "Unfortunately, these $u3$ gates are not yet implemented on the quantum inspire backend and thus we need to make use of regular $R_y$ rotations and CNOT gates."
   ]
  },
  {
   "cell_type": "code",
   "execution_count": 5,
   "metadata": {},
   "outputs": [],
   "source": [
    "def cRy(q, angle, ctrlidx, idx):\n",
    "    if len(q) < 2:\n",
    "        raise ValueError(\"Error, len quantum register must at least be 2.\")\n",
    "    circuit = QuantumCircuit(q)\n",
    "    half_angle = angle / 2\n",
    "\n",
    "    circuit.cx(q[ctrlidx], q[idx])\n",
    "    circuit.ry(-half_angle, q[idx])\n",
    "    circuit.cx(q[ctrlidx], q[idx])\n",
    "    circuit.ry(half_angle, q[idx])\n",
    "    return circuit\n",
    "\n",
    "\n",
    "def features_encoding(q, alpha, idx1, idx2):\n",
    "    if len(q) < 2:\n",
    "        raise ValueError(\"Error, len quantum register must at least be 2.\")\n",
    "    # Alternative use u3(2 * alpha, 0, pi) and cu3(2 * alpha, 0, pi) gates but not yet implemented on Quantum inspire\n",
    "    alpha1, alpha2, alpha3 = alpha\n",
    "\n",
    "    circuit = QuantumCircuit(q)\n",
    "\n",
    "    # step 1.\n",
    "    circuit.ry(2 * alpha1, q[idx1])\n",
    "\n",
    "    # # step 2.\n",
    "    circuit.x(q[idx1])\n",
    "    circuit = circuit.compose(cRy(q, 2 * alpha2, idx1, idx2))\n",
    "    circuit.x(q[idx1])\n",
    "\n",
    "    # step 3.\n",
    "    circuit = circuit.compose(cRy(q, 2 * alpha3, idx1, idx2))\n",
    "    return circuit\n",
    "\n",
    "\n",
    "def measurement(q):\n",
    "    # TO DO: Rewrite as loop over b to avoid measurement of ancillary qubits\n",
    "    circuit_size = len(q)\n",
    "    b = ClassicalRegister(circuit_size)\n",
    "    meas = QuantumCircuit(q, b)\n",
    "    meas.measure(q, b)\n",
    "    return meas"
   ]
  },
  {
   "cell_type": "code",
   "execution_count": 6,
   "metadata": {},
   "outputs": [
    {
     "data": {
      "image/png": "[encoded data removed]",
      "text/plain": [
       "<Figure size 701.433x144.48 with 1 Axes>"
      ]
     },
     "execution_count": 6,
     "metadata": {},
     "output_type": "execute_result"
    }
   ],
   "source": [
    "q = QuantumRegister(2)\n",
    "circuit = features_encoding(q, [alpha1, alpha2, alpha3], 0, 1)\n",
    "circuit.draw(output='mpl')"
   ]
  },
  {
   "cell_type": "code",
   "execution_count": 7,
   "metadata": {},
   "outputs": [
    {
     "data": {
      "text/plain": [
       "{'00': 0.1068999, '10': 0.3248824, '01': 0.2243791, '11': 0.3438387}"
      ]
     },
     "execution_count": 7,
     "metadata": {},
     "output_type": "execute_result"
    }
   ],
   "source": [
    "#Initialize quantum register:\n",
    "q = QuantumRegister(2)\n",
    "meas = measurement(q)\n",
    "\n",
    "# Build circuit:\n",
    "circuit = features_encoding(q, [alpha1, alpha2, alpha3], 0, 1)\n",
    "qc = meas.compose(circuit, front=True)\n",
    "\n",
    "\n",
    "# Execute the circuit:\n",
    "def execute_circuit(circuit, shots=1):\n",
    "    qi_job = execute(qc, backend=qi_backend, shots=shots)\n",
    "\n",
    "    # Temporary needed to fix naming the project:\n",
    "    project = next((project for project in QI._api.get_projects()\n",
    "                    if project['name'] == QI._api.project_name), None)\n",
    "    if project is not None:\n",
    "        qi_job._job_id = str(project['id'])\n",
    "\n",
    "    # Results of the job:\n",
    "    qi_result = qi_job.result()\n",
    "\n",
    "    # Select the results of the circuit and print results in a dict\n",
    "    probabilities = qi_result.get_probabilities(qc)\n",
    "    return probabilities\n",
    "\n",
    "\n",
    "def create_histogram_results(probabilities, number_of_bits=2):\n",
    "    histogram_results = {}\n",
    "    for k, v in probabilities.items():\n",
    "        # Reversed order of the bin strings to be consistent\n",
    "        histogram_results[k[::-1]] = v\n",
    "    return histogram_results\n",
    "\n",
    "\n",
    "# Display results:\n",
    "probabilities = execute_circuit(qc)\n",
    "create_histogram_results(probabilities)"
   ]
  },
  {
   "cell_type": "markdown",
   "metadata": {},
   "source": [
    "We can compare these results with what we expected if we measure the state $\\psi = a_{00} \\ket{00} + a_{01} \\ket{01} + a_{10} \\ket{10} + a_{11} \\ket{11}$ and obtain the result $X$\n",
    "\n",
    "| Outcome $x$ | $Prob(X=x)$ |\n",
    "|-------------|----------------------|\n",
    "| $\\ket{00}$  | $\\abs{a_{00}}^2$     |\n",
    "| $\\ket{01}$  | $\\abs{a_{01}}^2$     |\n",
    "| $\\ket{10}$  | $\\abs{a_{10}}^2$     |\n",
    "| $\\ket{11}$  | $\\abs{a_{11}}^2$     |"
   ]
  },
  {
   "cell_type": "code",
   "execution_count": 8,
   "metadata": {},
   "outputs": [
    {
     "name": "stdout",
     "output_type": "stream",
     "text": [
      "Desired values:  [0.10689990098111816, 0.2243792447642172, 0.3248824433037745, 0.34383841095089007]\n"
     ]
    },
    {
     "data": {
      "image/png": "[encoded data removed]",
      "text/plain": [
       "<Figure size 504x360 with 1 Axes>"
      ]
     },
     "execution_count": 8,
     "metadata": {},
     "output_type": "execute_result"
    }
   ],
   "source": [
    "# Desired outcomes for the test point:\n",
    "desired_outcomes = [coefficient**2 for coefficient in [a00, a01, a10, a11]]\n",
    "print('Desired values: ', desired_outcomes)\n",
    "plot_histogram(create_histogram_results(probabilities))"
   ]
  },
  {
   "cell_type": "markdown",
   "metadata": {},
   "source": [
    "In the next section we use this feature encoding schema in the distance-based classifier for 2 data points, each having 4 features. In the algorithm however, feature encoding is done in a controlled fashion, with the index qubit as control. Therefore we will also need the same circuit as above but transformed to a controlled version. This can be done by replacing every gate by a controlled equivalent."
   ]
  },
  {
   "cell_type": "code",
   "execution_count": 9,
   "metadata": {},
   "outputs": [],
   "source": [
    "def ccRy(q, angle, ctrlidx1, ctrlidx2, idx):\n",
    "    if len(q) < 3:\n",
    "        raise ValueError(\"Error, len quantum register must at least be 3.\")\n",
    "    circuit = QuantumCircuit(q)\n",
    "    quarter_angle = angle / 4\n",
    "\n",
    "    circuit.ccx(q[ctrlidx1], q[ctrlidx2], q[idx])\n",
    "    circuit.cx(q[ctrlidx2], q[idx])\n",
    "    circuit.ry(quarter_angle, q[idx])\n",
    "    circuit.cx(q[ctrlidx2], q[idx])\n",
    "    circuit.ry(- quarter_angle, q[idx])\n",
    "\n",
    "    circuit.ccx(q[ctrlidx1], q[ctrlidx2], q[idx])\n",
    "    circuit.cx(q[ctrlidx2], q[idx])\n",
    "    circuit.ry(-quarter_angle, q[idx])\n",
    "    circuit.cx(q[ctrlidx2], q[idx])\n",
    "    circuit.ry(quarter_angle, q[idx])\n",
    "    return circuit\n",
    "\n",
    "\n",
    "def c_features_encoding(q, alpha, ctrlidx, idx1, idx2):\n",
    "    if len(q) < 3:\n",
    "        raise ValueError(\"Error, len quantum register must at least be 3.\")\n",
    "    alpha1, alpha2, alpha3 = alpha\n",
    "    circuit = QuantumCircuit(q)\n",
    "\n",
    "    # step 1.\n",
    "    circuit = circuit.compose(cRy(q, 2 * alpha1, ctrlidx, idx1))  # old: ry(2 * alpha1, q[idx1])\n",
    "\n",
    "    # # step 2.\n",
    "    circuit.cx(q[ctrlidx], q[idx1])  # old: x(q[idx1])\n",
    "    circuit = circuit.compose(ccRy(q, 2 * alpha2, idx1, ctrlidx, idx2))  # old: cRy gates\n",
    "    circuit.cx(q[ctrlidx], q[idx1])  # old: x(q[idx1])\n",
    "\n",
    "    # step 3.\n",
    "    circuit = circuit.compose(ccRy(q, 2 * alpha3, idx1, ctrlidx, idx2))  # old: cRy gates\n",
    "    return circuit"
   ]
  },
  {
   "cell_type": "markdown",
   "metadata": {},
   "source": [
    "[Back to Table of Contents](#contents)"
   ]
  },
  {
   "cell_type": "markdown",
   "metadata": {},
   "source": [
    "<a name=\"implementation\"></a>\n",
    "\n",
    "## Implementation of the distance-based classifier"
   ]
  },
  {
   "cell_type": "markdown",
   "metadata": {},
   "source": [
    "We first consider the case with 2 data points and just 2 features, randomly chosen from the Iris data set. This so that we can later compare the results of the distance-based classifier with 2 features to the implementation with 4 features."
   ]
  },
  {
   "cell_type": "code",
   "execution_count": 10,
   "metadata": {},
   "outputs": [],
   "source": [
    "def two_features_classifier(q, x_tilde, x0, x1):\n",
    "    if len(q) != 4:\n",
    "        raise ValueError(\"Error, len quantum register must be 4.\")\n",
    "    circuit = QuantumCircuit(q)\n",
    "\n",
    "    # Angles data points:\n",
    "    angle_x_tilde = 2 * acos(x_tilde[0]) * sign(x_tilde[1]) # Label ?\n",
    "    angle_x0 = 2 * acos(x0[0]) * sign(x0[1])                # Label 0\n",
    "    angle_x1 = 2 * acos(x1[0]) * sign(x1[1])                # Label 1\n",
    "\n",
    "    # part_a:\n",
    "    for i in range(2):\n",
    "        circuit.h(q[i])\n",
    "\n",
    "    # part_b:\n",
    "    circuit = circuit.compose(cRy(q, angle_x_tilde, 1, 2))\n",
    "    circuit.x(q[1])\n",
    "\n",
    "    # part_c:\n",
    "    circuit = circuit.compose(ccRy(q, angle_x0, 1, 0, 2))\n",
    "    circuit.x(q[0])\n",
    "\n",
    "    # part_d:\n",
    "    circuit = circuit.compose(ccRy(q, angle_x1, 1, 0, 2))\n",
    "\n",
    "    # part_e:\n",
    "    circuit.cx(q[0], q[3])\n",
    "\n",
    "    # part_f:\n",
    "    circuit.h(q[1]);\n",
    "    return circuit"
   ]
  },
  {
   "cell_type": "markdown",
   "metadata": {},
   "source": [
    "The above algorithm is the same implementation of the algorithm as we did in the first notebook. The following code runs the algorithm on randomly selected data from the iris set."
   ]
  },
  {
   "cell_type": "code",
   "execution_count": 11,
   "metadata": {
    "scrolled": false
   },
   "outputs": [
    {
     "name": "stdout",
     "output_type": "stream",
     "text": [
      "Coinciding data point found, restart\n"
     ]
    },
    {
     "data": {
      "image/png": "[encoded data removed]",
      "text/plain": [
       "<Figure size 1152x432 with 2 Axes>"
      ]
     },
     "metadata": {},
     "output_type": "display_data"
    }
   ],
   "source": [
    "# Get 2 random data points with 2 features.\n",
    "data_label0, data_label1, x_tilde, random_label = DataPlotter.grab_random_data(size=2, features=2)\n",
    "\n",
    "#Initialize quantum register:\n",
    "q = QuantumRegister(4)\n",
    "meas = measurement(q)\n",
    "\n",
    "# Initialize circuit:\n",
    "circuit = two_features_classifier(q, x_tilde, data_label0[0], data_label1[0])\n",
    "qc = meas.compose(circuit, front=True)\n",
    "\n",
    "# Execute the circuit:\n",
    "probabilities = execute_circuit(qc)\n",
    "\n",
    "# Display the results:\n",
    "histogram_results = create_histogram_results(probabilities, number_of_bits=4)\n",
    "DataPlotter.plot_data_points(x_tilde, data_label0, data_label1, histogram_results);  # Function to plot the data"
   ]
  },
  {
   "cell_type": "markdown",
   "metadata": {},
   "source": [
    "Below the implementation for four features is given. Note that the structure of the algorithm is similar to the case with two features. We use one ancillary qubit for the controlled encoding of the features."
   ]
  },
  {
   "cell_type": "code",
   "execution_count": 12,
   "metadata": {},
   "outputs": [],
   "source": [
    "def four_features_classifier(q, x_tilde, x0, x1):\n",
    "    if len(q) != 6:\n",
    "        raise ValueError(\"Error, len quantum register must be 5 + 1 ancillary qubit.\")\n",
    "    circuit = QuantumCircuit(q)\n",
    "\n",
    "    def get_alpha(data_point):\n",
    "        a00, a01, a10, a11 = data_point\n",
    "        alpha1 = atan(sqrt((a10**2  + a11**2) / (a00**2  + a01**2)))\n",
    "        alpha2 = np.arctan2(a01, a00)\n",
    "        alpha3 = np.arctan2(a11, a10)\n",
    "        return [alpha1, alpha2, alpha3]\n",
    "\n",
    "    # part_a:\n",
    "    for i in range(2):\n",
    "        circuit.h(q[i])\n",
    "\n",
    "    # part_b:\n",
    "    alpha = get_alpha(x_tilde)\n",
    "    circuit = circuit.compose(c_features_encoding(q, alpha, 1, 2, 3))\n",
    "    circuit.x(q[1])\n",
    "\n",
    "    # part_c:\n",
    "    # Use ancillary qubit + c_features_encoding for cc_features_encoding\n",
    "    circuit.ccx(q[0], q[1], q[5])\n",
    "    alpha = get_alpha(x0)\n",
    "    circuit = circuit.compose(c_features_encoding(q, alpha, 5, 2, 3))\n",
    "    circuit.ccx(q[0], q[1], q[5])\n",
    "    circuit.x(q[0])\n",
    "\n",
    "    # part_d:\n",
    "    # Use ancillary qubit + c_features_encoding for cc_features_encoding\n",
    "    circuit.ccx(q[0], q[1], q[5])\n",
    "    alpha = get_alpha(x1)\n",
    "    circuit = circuit.compose(c_features_encoding(q, alpha, 5, 2, 3))\n",
    "    circuit.ccx(q[0], q[1], q[5])\n",
    "\n",
    "    # part_e:\n",
    "    circuit.cx(q[0], q[4])\n",
    "\n",
    "    # part_f:\n",
    "    circuit.h(q[1])\n",
    "\n",
    "    return circuit"
   ]
  },
  {
   "cell_type": "markdown",
   "metadata": {},
   "source": [
    "The following code runs the algorithm for 2+1 random data points with 4 features each."
   ]
  },
  {
   "cell_type": "code",
   "execution_count": 15,
   "metadata": {},
   "outputs": [
    {
     "name": "stdout",
     "output_type": "stream",
     "text": [
      "Sum Iris Setosa (red, label 0):  0.43232270000000006\n",
      "Sum Iris Versicolor (blue, label 1):  0.011810600000000001\n",
      "Random label is:  0\n",
      "Prediction by true classifier:  0\n"
     ]
    },
    {
     "data": {
      "image/png": "[encoded data removed]",
      "text/plain": [
       "<Figure size 1152x432 with 7 Axes>"
      ]
     },
     "metadata": {},
     "output_type": "display_data"
    }
   ],
   "source": [
    "# Get 2 random data points with 4 features.\n",
    "data_label0, data_label1, x_tilde, random_label = DataPlotter.grab_random_data(size=2, features=4)\n",
    "\n",
    "#Initialize quantum register:\n",
    "q = QuantumRegister(6)\n",
    "meas = measurement(q)\n",
    "\n",
    "# Initialize circuit:\n",
    "circuit = four_features_classifier(q, x_tilde, data_label0[0], data_label1[0])\n",
    "qc = meas.compose(circuit, front=True)\n",
    "\n",
    "# Execute the circuit:\n",
    "probabilities = execute_circuit(qc)\n",
    "\n",
    "# Display the results:\n",
    "histogram_results = create_histogram_results(probabilities, number_of_bits=6)\n",
    "\n",
    "\n",
    "def strip_ancillary_qubit(histogram_results):\n",
    "    new_histogram_results = {}\n",
    "    for k, v in histogram_results.items():\n",
    "        new_histogram_results[k[:-1]] = v  # Strip ancillary qubit\n",
    "    return new_histogram_results\n",
    "\n",
    "\n",
    "histogram_results = strip_ancillary_qubit(histogram_results)\n",
    "\n",
    "\n",
    "def summarize_results_4_features(histogram_results):\n",
    "    sum_label0 = 0\n",
    "    sum_label1 = 0\n",
    "    for key, value in histogram_results.items():\n",
    "        if key[1] == \"0\":\n",
    "            if key[-1] == \"0\":\n",
    "                sum_label0 += value\n",
    "            else:\n",
    "                sum_label1 += value\n",
    "    print(\"Sum Iris Setosa (red, label 0): \", sum_label0)\n",
    "    print(\"Sum Iris Versicolor (blue, label 1): \", sum_label1)\n",
    "\n",
    "\n",
    "summarize_results_4_features(histogram_results)\n",
    "print(\"Random label is: \", random_label)\n",
    "print(\"Prediction by true classifier: \", DataPlotter.true_classifier(data_label0, data_label1, x_tilde))\n",
    "\n",
    "# Plot results:\n",
    "DataPlotter.plot_data_points_multiple_features(\n",
    "    data_label0, data_label1, x_tilde, random_label, histogram_results) # Plot features + bar plot results"
   ]
  },
  {
   "cell_type": "markdown",
   "metadata": {},
   "source": [
    "In the case of an infinite amount of shots the quantum inspire gives as a result the true probability distribution which coincides with the classical solution of the distance-based classifier. The following table shows the quality of the distance-based classifier depending on the amount of data points and included features. The table contains the percentage of correct predictions for random selected data from the iris set, the results are over a sample of 10.000 runs and can be reproduced using the quality_classifier method of DataPlotter class.\n",
    "\n",
    "| % correct prediction | 2 features | 3 features | 4 features |\n",
    "|----------------------|------------|------------|------------|\n",
    "| 2 data points        | 0.9426     | 0.9870     | 0.9940      |\n",
    "| 4 data points        | 0.9735     | 0.9933     | 0.9986     |\n",
    "| 8 data points        | 0.9803     | 0.9975     | 0.9998     |\n",
    "\n",
    "\n",
    "These results show why one is not only interested in extending the amount of data points but also in including more features for data."
   ]
  },
  {
   "cell_type": "markdown",
   "metadata": {},
   "source": [
    "<a name=\"conclusion\"></a>\n",
    "\n",
    "## Conclusion and further work\n",
    "\n",
    "In this notebook we demonstrated how to extended the distance-based classifier to be able to handle data containing up to four features. We saw that the quality of the distance-based classifier improves both by including more data points but also by including data which containing more features.\n",
    "\n",
    "So far in this notebook series we have only looked at binary classification, the results belong either to the class with a label 0 or to the class with the label 1. For some problems one is interessted in identifying between more than two classes, for example number recognition. A possible next extention for the current classifier is to extend it to being able to classify between more than two labels. This can be done by encoding the label in multiple qubits instead of one qubit.\n",
    "\n",
    "We have only tested the distance-based classifier on rescaled data from the iris data set, this data set is well classified by the the distance-based classifier. For other data sets this might not necessary be the case. Suppose a different data set which after scaling has different the classes lie in concentric circles, at first glance we do not expect the distance-based classifier to yield good predictions. These problems can possibly be solved by an alternative data pre-processing or by a totally different type of classifier. The task of selecting the right methods for data preprocessing and the corresponding classifier is not a task for the quantum computer but for the data analyst. It will be interessting to see different classifiers implemented on quantum computers in the near future.\n",
    "\n",
    "[Back to Table of Contents](#contents)"
   ]
  },
  {
   "cell_type": "markdown",
   "metadata": {},
   "source": [
    "### References\n",
    "\n",
    "* Book: [Schuld and Petruccione, Supervised learning with Quantum computers, 2018](https://www.springer.com/us/book/9783319964232)\n",
    "* Article: [Schuld, Fingerhuth and Petruccione, Implementing a distance-based classifier with a quantum interference circuit, 2017](https://arxiv.org/abs/1703.10793)\n",
    "* Article: [Long & Sun: Efficient scheme for initializing a quantum register with an arbitrary superposed state, 2001](https://arxiv.org/abs/quant-ph/0104030)\n",
    "* Post: [Build an arbitrary (n)-controlled quantum gate](https://physics.stackexchange.com/questions/142470/realisation-of-arbitrary-controlled-quantum-gate)"
   ]
  },
  {
   "cell_type": "code",
   "execution_count": null,
   "metadata": {},
   "outputs": [],
   "source": []
  }
 ],
 "metadata": {
  "kernelspec": {
   "display_name": "Python 3",
   "language": "python",
   "name": "python3"
  },
  "language_info": {
   "codemirror_mode": {
    "name": "ipython",
    "version": 3
   },
   "file_extension": ".py",
   "mimetype": "text/x-python",
   "name": "python",
   "nbconvert_exporter": "python",
   "pygments_lexer": "ipython3",
   "version": "3.7.4"
  }
 },
 "nbformat": 4,
 "nbformat_minor": 2
}
