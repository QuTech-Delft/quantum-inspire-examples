{
 "cells": [
  {
   "cell_type": "markdown",
   "id": "eceacbd4-e2fd-43b2-8b21-31e4b6fbd642",
   "metadata": {
    "tags": []
   },
   "source": [
    "# Retrieving calibration data from Quantum Inspire\n",
    "\n",
    "Quantum Inspire backends are calibrated periodically. It may be of interest to retrieve this calibration data from the API, for instance to be able to compare current system performance to the quoted one, verify the calibration or use the data for further computations.\n",
    "\n",
    "This notebook shows how to retrieve calibration data for a backend and use the `CalibrationViewer` class to print it.\n",
    "\n",
    "**Note:**\n",
    "\n",
    "- Compilation and transpilation options not available at this moment. See knowledge base for details.\n",
    "- Calibrations are coupled to experiments. Even though the calibrations are done on a periodic basis (e.g. once per day), every experiment gets mapped to such a calibration. Therefore currently we need a handle to an experiment/job to be able to retrieve calibration data, it is not yet possible to just ask for the calibration without a job reference.\n",
    "- Calibrations are backend specific\n",
    "\n",
    "**Todo:**\n",
    "\n",
    "- Include readout error calibration in calibration data\n",
    "- Pass standard deviations in calibration values (the decimals field is not suitable)\n",
    "    - Related: Round numbers in calibration data view to reasonable decimals\n",
    "- Include human-readable backend name ('Starmon-5' etc.) in calibration dictionary in addition to url.\n",
    "    Alternatively the viewer object could parse the url into a name by asking the api for all backend descriptions (`qi_api.get_backend_types()`)\n",
    "\n",
    "**Authors:** Pieter Eendebak <pieter.eendebak@tno.nl>, Olexiy Fedorets <o.o.fedorets@student.tudelft.nl>"
   ]
  },
  {
   "cell_type": "code",
   "execution_count": 42,
   "id": "989e4628-fdb7-403e-a33d-6bbca8e94b30",
   "metadata": {
    "tags": []
   },
   "outputs": [],
   "source": [
    "import json\n",
    "from pprint import pprint\n",
    "\n",
    "from qiskit import execute\n",
    "from qiskit.circuit import QuantumCircuit\n",
    "\n",
    "from quantuminspire.credentials import get_authentication\n",
    "from quantuminspire.qiskit import QI\n",
    "from quantuminspire.calibration_viewer import CalibrationViewer"
   ]
  },
  {
   "cell_type": "code",
   "execution_count": 2,
   "id": "546e14f7",
   "metadata": {
    "collapsed": false,
    "jupyter": {
     "outputs_hidden": false
    },
    "pycharm": {
     "name": "#%%\n"
    }
   },
   "outputs": [],
   "source": [
    "def remove_ordered_dict(d: Any) -> Any:\n",
    "    \"\"\" Convert OrderedDict `d` into a python builtin dict. \"\"\"\n",
    "    if isinstance(d, dict):\n",
    "        return {k: remove_ordered_dict(v) for k, v in d.items()}\n",
    "    else:\n",
    "        return d"
   ]
  },
  {
   "cell_type": "markdown",
   "id": "4c900289-fc39-4580-8c06-9b7c8504faf9",
   "metadata": {
    "execution": {
     "iopub.execute_input": "2021-10-20T09:24:07.190356Z",
     "iopub.status.busy": "2021-10-20T09:24:07.189794Z",
     "iopub.status.idle": "2021-10-20T09:24:21.680149Z",
     "shell.execute_reply": "2021-10-20T09:24:21.678305Z",
     "shell.execute_reply.started": "2021-10-20T09:24:07.190289Z"
    },
    "pycharm": {
     "name": "#%% md\n"
    },
    "tags": []
   },
   "source": [
    "## Set credentials"
   ]
  },
  {
   "cell_type": "code",
   "execution_count": 3,
   "id": "2b924665-881b-4244-8a3a-efc7b4edab98",
   "metadata": {
    "pycharm": {
     "name": "#%%\n"
    }
   },
   "outputs": [],
   "source": [
    "authentication = get_authentication()\n",
    "QI.set_authentication(authentication)\n",
    "qi_api = QI.get_api()"
   ]
  },
  {
   "cell_type": "markdown",
   "id": "8dbf3d59-ac90-4791-8a39-ceec5befe662",
   "metadata": {},
   "source": [
    "## Run an experiment to generate data and ensure calibration will be available\n",
    "\n",
    "This step is not necessary if it is sure that an experiment already has been executed (recently! otherwise calibration data will be outdated) on the chosen backend."
   ]
  },
  {
   "cell_type": "code",
   "execution_count": 4,
   "id": "11ce227c-3b5b-4ff0-9644-d74ec4be5afb",
   "metadata": {
    "tags": []
   },
   "outputs": [
    {
     "name": "stdout",
     "output_type": "stream",
     "text": [
      "Selected backend: Starmon-5\n",
      "Execute job on Starmon-5\n",
      "Measured result: {'00': 111, '01': 13, '10': 8, '11': 124}\n"
     ]
    }
   ],
   "source": [
    "backend_name = 'Spin-2'\n",
    "if qi_api.get_backend_type_by_name(backend_name)[\"status\"] == \"OFFLINE\":\n",
    "        backend_name = 'Starmon-5'\n",
    "qi_backend = QI.get_backend(backend_name)\n",
    "print(f'Selected backend: {backend_name}')\n",
    "\n",
    "circuit = QuantumCircuit(2)\n",
    "circuit.h(1)\n",
    "circuit.cx(1, 0)\n",
    "circuit.measure_all()\n",
    "\n",
    "qi_job = execute(circuit, backend=qi_backend, shots=256)\n",
    "print(f'Execute job on {qi_backend}')\n",
    "\n",
    "qi_result = qi_job.result()\n",
    "histogram = qi_result.get_counts(circuit)\n",
    "print(f'Measured result: {histogram}')"
   ]
  },
  {
   "cell_type": "markdown",
   "id": "24575244",
   "metadata": {
    "pycharm": {
     "name": "#%% md\n"
    }
   },
   "source": [
    "## Select job from backend to get calibration data from"
   ]
  },
  {
   "cell_type": "code",
   "execution_count": 5,
   "id": "d73f1dce-c1aa-4330-b464-5135354fb705",
   "metadata": {
    "tags": []
   },
   "outputs": [
    {
     "name": "stdout",
     "output_type": "stream",
     "text": [
      "Found 1578 jobs for backend Starmon-5.\n"
     ]
    }
   ],
   "source": [
    "qi_backend = QI.get_backend(backend_name)\n",
    "all_jobs = qi_api.get_jobs()\n",
    "backend_types = qi_api.get_backend_types()\n",
    "backends = qi_api._get('https://api.quantum-inspire.com/backends')\n",
    "\n",
    "backend_url = [b for b in backends if b['name']==backend_name][0]['url']\n",
    "backend_jobs = [j for j in all_jobs if j['backend']==backend_url]\n",
    "print(f\"Found {len(backend_jobs)} jobs for backend {backend_name}.\")\n",
    "\n",
    "if len(backend_jobs)==0:\n",
    "    raise Exception(f\"You have not executed jobs in {backend_name}, no calibration data available.\")"
   ]
  },
  {
   "cell_type": "code",
   "execution_count": 19,
   "id": "f7a56aba",
   "metadata": {
    "collapsed": false,
    "jupyter": {
     "outputs_hidden": false
    },
    "pycharm": {
     "name": "#%%\n"
    }
   },
   "outputs": [
    {
     "name": "stdout",
     "output_type": "stream",
     "text": [
      "Found job with id 7085428\n",
      "{'backend': 'https://api.quantum-inspire.com/backends/8/',\n",
      " 'parameters': {'qubits': {'q0': {'initialization_fidelity': {'symbol': 'Finit',\n",
      "                                                              'unit': '%',\n",
      "                                                              'value': 99.8},\n",
      "                                  'readout_fidelity': {'symbol': 'FR/O',\n",
      "                                                       'unit': '%',\n",
      "                                                       'value': 95.1},\n",
      "                                  'single_qubit_gate_fidelity': {'symbol': 'F1q',\n",
      "                                                                 'unit': '%',\n",
      "                                                                 'value': 99.9},\n",
      "                                  't1': {'decimals': 1,\n",
      "                                         'symbol': 'T1',\n",
      "                                         'unit': 's',\n",
      "                                         'value': 1.1404863763460713e-05},\n",
      "                                  't2star': {'decimals': 1,\n",
      "                                             'symbol': 'T2e',\n",
      "                                             'unit': 's',\n",
      "                                             'value': 1.04250551881577e-05},\n",
      "                                  'two_qubit_gate_fidelity': {'symbol': 'F2q',\n",
      "                                                              'unit': '%',\n",
      "                                                              'value': 97.8}},\n",
      "                           'q1': {'initialization_fidelity': {'symbol': 'Finit',\n",
      "                                                              'unit': '%',\n",
      "                                                              'value': 99.8},\n",
      "                                  'readout_fidelity': {'symbol': 'FR/O',\n",
      "                                                       'unit': '%',\n",
      "                                                       'value': 92.1},\n",
      "                                  'single_qubit_gate_fidelity': {'symbol': 'F1q',\n",
      "                                                                 'unit': '%',\n",
      "                                                                 'value': 99.8},\n",
      "                                  't1': {'decimals': 1,\n",
      "                                         'symbol': 'T1',\n",
      "                                         'unit': 's',\n",
      "                                         'value': 1.3131372093163124e-05},\n",
      "                                  't2star': {'decimals': 1,\n",
      "                                             'symbol': 'T2e',\n",
      "                                             'unit': 's',\n",
      "                                             'value': 1.8620682825195337e-05},\n",
      "                                  'two_qubit_gate_fidelity': {'symbol': 'F2q',\n",
      "                                                              'unit': '%',\n",
      "                                                              'value': 96.6}},\n",
      "                           'q2': {'initialization_fidelity': {'symbol': 'Finit',\n",
      "                                                              'unit': '%',\n",
      "                                                              'value': 98.8},\n",
      "                                  'readout_fidelity': {'symbol': 'FR/O',\n",
      "                                                       'unit': '%',\n",
      "                                                       'value': 98.9},\n",
      "                                  'single_qubit_gate_fidelity': {'symbol': 'F1q',\n",
      "                                                                 'unit': '%',\n",
      "                                                                 'value': 99.8},\n",
      "                                  't1': {'decimals': 1,\n",
      "                                         'symbol': 'T1',\n",
      "                                         'unit': 's',\n",
      "                                         'value': 2.081085894530037e-05},\n",
      "                                  't2star': {'decimals': 1,\n",
      "                                             'symbol': 'T2e',\n",
      "                                             'unit': 's',\n",
      "                                             'value': 2.4635154939086823e-05},\n",
      "                                  'two_qubit_gate_fidelity': {'symbol': 'F2q',\n",
      "                                                              'unit': '%',\n",
      "                                                              'value': None}},\n",
      "                           'q3': {'initialization_fidelity': {'symbol': 'Finit',\n",
      "                                                              'unit': '%',\n",
      "                                                              'value': 97.3},\n",
      "                                  'readout_fidelity': {'symbol': 'FR/O',\n",
      "                                                       'unit': '%',\n",
      "                                                       'value': 97.3},\n",
      "                                  'single_qubit_gate_fidelity': {'symbol': 'F1q',\n",
      "                                                                 'unit': '%',\n",
      "                                                                 'value': 99.6},\n",
      "                                  't1': {'decimals': 1,\n",
      "                                         'symbol': 'T1',\n",
      "                                         'unit': 's',\n",
      "                                         'value': 1.698151583465896e-05},\n",
      "                                  't2star': {'decimals': 1,\n",
      "                                             'symbol': 'T2e',\n",
      "                                             'unit': 's',\n",
      "                                             'value': 2.1136345189609063e-05},\n",
      "                                  'two_qubit_gate_fidelity': {'symbol': 'F2q',\n",
      "                                                              'unit': '%',\n",
      "                                                              'value': 94.2}},\n",
      "                           'q4': {'initialization_fidelity': {'symbol': 'Finit',\n",
      "                                                              'unit': '%',\n",
      "                                                              'value': 93.6},\n",
      "                                  'readout_fidelity': {'symbol': 'FR/O',\n",
      "                                                       'unit': '%',\n",
      "                                                       'value': 100.7},\n",
      "                                  'single_qubit_gate_fidelity': {'symbol': 'F1q',\n",
      "                                                                 'unit': '%',\n",
      "                                                                 'value': 99.9},\n",
      "                                  't1': {'decimals': 1,\n",
      "                                         'symbol': 'T1',\n",
      "                                         'unit': 's',\n",
      "                                         'value': 1.291646332823237e-05},\n",
      "                                  't2star': {'decimals': 1,\n",
      "                                             'symbol': 'T2e',\n",
      "                                             'unit': 's',\n",
      "                                             'value': 2.0474966269881648e-05},\n",
      "                                  'two_qubit_gate_fidelity': {'symbol': 'F2q',\n",
      "                                                              'unit': '%',\n",
      "                                                              'value': 97.1}}},\n",
      "                'system': {'fridge_temperature': {'symbol': 'Fridge '\n",
      "                                                            'temperature',\n",
      "                                                  'unit': 'mK',\n",
      "                                                  'value': '20.9'},\n",
      "                           'last_calibration_date': {'symbol': 'Calibration '\n",
      "                                                               'date',\n",
      "                                                     'unit': 'iso-8601',\n",
      "                                                     'value': '24/12/2021 - '\n",
      "                                                              '03:49 AM'}}},\n",
      " 'url': 'https://api.quantum-inspire.com/calibration/109052/'}\n",
      "Last calibration data from 24/12/2021 - 03:49 AM\n"
     ]
    }
   ],
   "source": [
    "# select latest job (appears first in list of jobs)\n",
    "job = backend_jobs[0]\n",
    "print(f\"Found job with id {job['id']}\")\n",
    "\n",
    "result = qi_api.get_result_from_job(job['id'])\n",
    "calibration = qi_api.get_calibration_from_result(result['id'])\n",
    "calibration = remove_ordered_dict(calibration)\n",
    "pprint(calibration)\n",
    "date = calibration['parameters']['system']['last_calibration_date']['value']\n",
    "print(f'Last calibration data from {date}')"
   ]
  },
  {
   "cell_type": "markdown",
   "id": "5c42546a-e761-473a-8067-dea3f25808b1",
   "metadata": {},
   "source": [
    "## Create `CalibrationViewer` object to view the data"
   ]
  },
  {
   "cell_type": "code",
   "execution_count": 26,
   "id": "ccb8006c-3b6c-4f04-9141-9a7637f0f6bc",
   "metadata": {
    "tags": []
   },
   "outputs": [
    {
     "name": "stdout",
     "output_type": "stream",
     "text": [
      "<calibration of backend https://api.quantum-inspire.com/backends/8/ from time 24/12/2021 - 03:49 AM>\n"
     ]
    },
    {
     "data": {
      "text/html": [
       "<pre style=\"white-space:pre;overflow-x:auto;line-height:normal;font-family:Menlo,'DejaVu Sans Mono',consolas,'Courier New',monospace\"><span style=\"color: #008000; text-decoration-color: #008000\">System</span>:\n",
       "</pre>\n"
      ],
      "text/plain": [
       "\u001b[32mSystem\u001b[0m:\n"
      ]
     },
     "metadata": {},
     "output_type": "display_data"
    },
    {
     "data": {
      "text/html": [
       "<pre style=\"white-space:pre;overflow-x:auto;line-height:normal;font-family:Menlo,'DejaVu Sans Mono',consolas,'Courier New',monospace\">        fridge_temperature: <span style=\"color: #008080; text-decoration-color: #008080; font-weight: bold\">20.9</span> \n",
       "</pre>\n"
      ],
      "text/plain": [
       "        fridge_temperature: \u001b[1;36m20.9\u001b[0m \n"
      ]
     },
     "metadata": {},
     "output_type": "display_data"
    },
    {
     "data": {
      "text/html": [
       "<pre style=\"white-space:pre;overflow-x:auto;line-height:normal;font-family:Menlo,'DejaVu Sans Mono',consolas,'Courier New',monospace\">        last_calibration_date: <span style=\"color: #008080; text-decoration-color: #008080; font-weight: bold\">24</span>/<span style=\"color: #008080; text-decoration-color: #008080; font-weight: bold\">12</span>/<span style=\"color: #008080; text-decoration-color: #008080; font-weight: bold\">2021</span> - <span style=\"color: #00ff00; text-decoration-color: #00ff00; font-weight: bold\">03:49</span> AM \n",
       "</pre>\n"
      ],
      "text/plain": [
       "        last_calibration_date: \u001b[1;36m24\u001b[0m/\u001b[1;36m12\u001b[0m/\u001b[1;36m2021\u001b[0m - \u001b[1;92m03:49\u001b[0m AM \n"
      ]
     },
     "metadata": {},
     "output_type": "display_data"
    },
    {
     "data": {
      "text/html": [
       "<pre style=\"white-space:pre;overflow-x:auto;line-height:normal;font-family:Menlo,'DejaVu Sans Mono',consolas,'Courier New',monospace\"><span style=\"color: #008000; text-decoration-color: #008000\">Qubit</span>: q0\n",
       "</pre>\n"
      ],
      "text/plain": [
       "\u001b[32mQubit\u001b[0m: q0\n"
      ]
     },
     "metadata": {},
     "output_type": "display_data"
    },
    {
     "data": {
      "text/html": [
       "<pre style=\"white-space:pre;overflow-x:auto;line-height:normal;font-family:Menlo,'DejaVu Sans Mono',consolas,'Courier New',monospace\">        t1: <span style=\"color: #008080; text-decoration-color: #008080; font-weight: bold\">1.1404863763460713e-05</span> \n",
       "</pre>\n"
      ],
      "text/plain": [
       "        t1: \u001b[1;36m1.1404863763460713e-05\u001b[0m \n"
      ]
     },
     "metadata": {},
     "output_type": "display_data"
    },
    {
     "data": {
      "text/html": [
       "<pre style=\"white-space:pre;overflow-x:auto;line-height:normal;font-family:Menlo,'DejaVu Sans Mono',consolas,'Courier New',monospace\">        t2star: <span style=\"color: #008080; text-decoration-color: #008080; font-weight: bold\">1.04250551881577e-05</span> \n",
       "</pre>\n"
      ],
      "text/plain": [
       "        t2star: \u001b[1;36m1.04250551881577e-05\u001b[0m \n"
      ]
     },
     "metadata": {},
     "output_type": "display_data"
    },
    {
     "data": {
      "text/html": [
       "<pre style=\"white-space:pre;overflow-x:auto;line-height:normal;font-family:Menlo,'DejaVu Sans Mono',consolas,'Courier New',monospace\">        single_qubit_gate_fidelity: <span style=\"color: #008080; text-decoration-color: #008080; font-weight: bold\">99.9</span> <span style=\"font-weight: bold\">[</span>%<span style=\"font-weight: bold\">]</span>\n",
       "</pre>\n"
      ],
      "text/plain": [
       "        single_qubit_gate_fidelity: \u001b[1;36m99.9\u001b[0m \u001b[1m[\u001b[0m%\u001b[1m]\u001b[0m\n"
      ]
     },
     "metadata": {},
     "output_type": "display_data"
    },
    {
     "data": {
      "text/html": [
       "<pre style=\"white-space:pre;overflow-x:auto;line-height:normal;font-family:Menlo,'DejaVu Sans Mono',consolas,'Courier New',monospace\">        two_qubit_gate_fidelity: <span style=\"color: #008080; text-decoration-color: #008080; font-weight: bold\">97.8</span> <span style=\"font-weight: bold\">[</span>%<span style=\"font-weight: bold\">]</span>\n",
       "</pre>\n"
      ],
      "text/plain": [
       "        two_qubit_gate_fidelity: \u001b[1;36m97.8\u001b[0m \u001b[1m[\u001b[0m%\u001b[1m]\u001b[0m\n"
      ]
     },
     "metadata": {},
     "output_type": "display_data"
    },
    {
     "data": {
      "text/html": [
       "<pre style=\"white-space:pre;overflow-x:auto;line-height:normal;font-family:Menlo,'DejaVu Sans Mono',consolas,'Courier New',monospace\">        initialization_fidelity: <span style=\"color: #008080; text-decoration-color: #008080; font-weight: bold\">99.8</span> <span style=\"font-weight: bold\">[</span>%<span style=\"font-weight: bold\">]</span>\n",
       "</pre>\n"
      ],
      "text/plain": [
       "        initialization_fidelity: \u001b[1;36m99.8\u001b[0m \u001b[1m[\u001b[0m%\u001b[1m]\u001b[0m\n"
      ]
     },
     "metadata": {},
     "output_type": "display_data"
    },
    {
     "data": {
      "text/html": [
       "<pre style=\"white-space:pre;overflow-x:auto;line-height:normal;font-family:Menlo,'DejaVu Sans Mono',consolas,'Courier New',monospace\">        readout_fidelity: <span style=\"color: #008080; text-decoration-color: #008080; font-weight: bold\">95.1</span> <span style=\"font-weight: bold\">[</span>%<span style=\"font-weight: bold\">]</span>\n",
       "</pre>\n"
      ],
      "text/plain": [
       "        readout_fidelity: \u001b[1;36m95.1\u001b[0m \u001b[1m[\u001b[0m%\u001b[1m]\u001b[0m\n"
      ]
     },
     "metadata": {},
     "output_type": "display_data"
    },
    {
     "data": {
      "text/html": [
       "<pre style=\"white-space:pre;overflow-x:auto;line-height:normal;font-family:Menlo,'DejaVu Sans Mono',consolas,'Courier New',monospace\"><span style=\"color: #008000; text-decoration-color: #008000\">Qubit</span>: q1\n",
       "</pre>\n"
      ],
      "text/plain": [
       "\u001b[32mQubit\u001b[0m: q1\n"
      ]
     },
     "metadata": {},
     "output_type": "display_data"
    },
    {
     "data": {
      "text/html": [
       "<pre style=\"white-space:pre;overflow-x:auto;line-height:normal;font-family:Menlo,'DejaVu Sans Mono',consolas,'Courier New',monospace\">        t1: <span style=\"color: #008080; text-decoration-color: #008080; font-weight: bold\">1.3131372093163124e-05</span> \n",
       "</pre>\n"
      ],
      "text/plain": [
       "        t1: \u001b[1;36m1.3131372093163124e-05\u001b[0m \n"
      ]
     },
     "metadata": {},
     "output_type": "display_data"
    },
    {
     "data": {
      "text/html": [
       "<pre style=\"white-space:pre;overflow-x:auto;line-height:normal;font-family:Menlo,'DejaVu Sans Mono',consolas,'Courier New',monospace\">        t2star: <span style=\"color: #008080; text-decoration-color: #008080; font-weight: bold\">1.8620682825195337e-05</span> \n",
       "</pre>\n"
      ],
      "text/plain": [
       "        t2star: \u001b[1;36m1.8620682825195337e-05\u001b[0m \n"
      ]
     },
     "metadata": {},
     "output_type": "display_data"
    },
    {
     "data": {
      "text/html": [
       "<pre style=\"white-space:pre;overflow-x:auto;line-height:normal;font-family:Menlo,'DejaVu Sans Mono',consolas,'Courier New',monospace\">        single_qubit_gate_fidelity: <span style=\"color: #008080; text-decoration-color: #008080; font-weight: bold\">99.8</span> <span style=\"font-weight: bold\">[</span>%<span style=\"font-weight: bold\">]</span>\n",
       "</pre>\n"
      ],
      "text/plain": [
       "        single_qubit_gate_fidelity: \u001b[1;36m99.8\u001b[0m \u001b[1m[\u001b[0m%\u001b[1m]\u001b[0m\n"
      ]
     },
     "metadata": {},
     "output_type": "display_data"
    },
    {
     "data": {
      "text/html": [
       "<pre style=\"white-space:pre;overflow-x:auto;line-height:normal;font-family:Menlo,'DejaVu Sans Mono',consolas,'Courier New',monospace\">        two_qubit_gate_fidelity: <span style=\"color: #008080; text-decoration-color: #008080; font-weight: bold\">96.6</span> <span style=\"font-weight: bold\">[</span>%<span style=\"font-weight: bold\">]</span>\n",
       "</pre>\n"
      ],
      "text/plain": [
       "        two_qubit_gate_fidelity: \u001b[1;36m96.6\u001b[0m \u001b[1m[\u001b[0m%\u001b[1m]\u001b[0m\n"
      ]
     },
     "metadata": {},
     "output_type": "display_data"
    },
    {
     "data": {
      "text/html": [
       "<pre style=\"white-space:pre;overflow-x:auto;line-height:normal;font-family:Menlo,'DejaVu Sans Mono',consolas,'Courier New',monospace\">        initialization_fidelity: <span style=\"color: #008080; text-decoration-color: #008080; font-weight: bold\">99.8</span> <span style=\"font-weight: bold\">[</span>%<span style=\"font-weight: bold\">]</span>\n",
       "</pre>\n"
      ],
      "text/plain": [
       "        initialization_fidelity: \u001b[1;36m99.8\u001b[0m \u001b[1m[\u001b[0m%\u001b[1m]\u001b[0m\n"
      ]
     },
     "metadata": {},
     "output_type": "display_data"
    },
    {
     "data": {
      "text/html": [
       "<pre style=\"white-space:pre;overflow-x:auto;line-height:normal;font-family:Menlo,'DejaVu Sans Mono',consolas,'Courier New',monospace\">        readout_fidelity: <span style=\"color: #008080; text-decoration-color: #008080; font-weight: bold\">92.1</span> <span style=\"font-weight: bold\">[</span>%<span style=\"font-weight: bold\">]</span>\n",
       "</pre>\n"
      ],
      "text/plain": [
       "        readout_fidelity: \u001b[1;36m92.1\u001b[0m \u001b[1m[\u001b[0m%\u001b[1m]\u001b[0m\n"
      ]
     },
     "metadata": {},
     "output_type": "display_data"
    },
    {
     "data": {
      "text/html": [
       "<pre style=\"white-space:pre;overflow-x:auto;line-height:normal;font-family:Menlo,'DejaVu Sans Mono',consolas,'Courier New',monospace\"><span style=\"color: #008000; text-decoration-color: #008000\">Qubit</span>: q2\n",
       "</pre>\n"
      ],
      "text/plain": [
       "\u001b[32mQubit\u001b[0m: q2\n"
      ]
     },
     "metadata": {},
     "output_type": "display_data"
    },
    {
     "data": {
      "text/html": [
       "<pre style=\"white-space:pre;overflow-x:auto;line-height:normal;font-family:Menlo,'DejaVu Sans Mono',consolas,'Courier New',monospace\">        t1: <span style=\"color: #008080; text-decoration-color: #008080; font-weight: bold\">2.081085894530037e-05</span> \n",
       "</pre>\n"
      ],
      "text/plain": [
       "        t1: \u001b[1;36m2.081085894530037e-05\u001b[0m \n"
      ]
     },
     "metadata": {},
     "output_type": "display_data"
    },
    {
     "data": {
      "text/html": [
       "<pre style=\"white-space:pre;overflow-x:auto;line-height:normal;font-family:Menlo,'DejaVu Sans Mono',consolas,'Courier New',monospace\">        t2star: <span style=\"color: #008080; text-decoration-color: #008080; font-weight: bold\">2.4635154939086823e-05</span> \n",
       "</pre>\n"
      ],
      "text/plain": [
       "        t2star: \u001b[1;36m2.4635154939086823e-05\u001b[0m \n"
      ]
     },
     "metadata": {},
     "output_type": "display_data"
    },
    {
     "data": {
      "text/html": [
       "<pre style=\"white-space:pre;overflow-x:auto;line-height:normal;font-family:Menlo,'DejaVu Sans Mono',consolas,'Courier New',monospace\">        single_qubit_gate_fidelity: <span style=\"color: #008080; text-decoration-color: #008080; font-weight: bold\">99.8</span> <span style=\"font-weight: bold\">[</span>%<span style=\"font-weight: bold\">]</span>\n",
       "</pre>\n"
      ],
      "text/plain": [
       "        single_qubit_gate_fidelity: \u001b[1;36m99.8\u001b[0m \u001b[1m[\u001b[0m%\u001b[1m]\u001b[0m\n"
      ]
     },
     "metadata": {},
     "output_type": "display_data"
    },
    {
     "data": {
      "text/html": [
       "<pre style=\"white-space:pre;overflow-x:auto;line-height:normal;font-family:Menlo,'DejaVu Sans Mono',consolas,'Courier New',monospace\">        two_qubit_gate_fidelity: <span style=\"color: #800080; text-decoration-color: #800080; font-style: italic\">None</span> <span style=\"font-weight: bold\">[</span>%<span style=\"font-weight: bold\">]</span>\n",
       "</pre>\n"
      ],
      "text/plain": [
       "        two_qubit_gate_fidelity: \u001b[3;35mNone\u001b[0m \u001b[1m[\u001b[0m%\u001b[1m]\u001b[0m\n"
      ]
     },
     "metadata": {},
     "output_type": "display_data"
    },
    {
     "data": {
      "text/html": [
       "<pre style=\"white-space:pre;overflow-x:auto;line-height:normal;font-family:Menlo,'DejaVu Sans Mono',consolas,'Courier New',monospace\">        initialization_fidelity: <span style=\"color: #008080; text-decoration-color: #008080; font-weight: bold\">98.8</span> <span style=\"font-weight: bold\">[</span>%<span style=\"font-weight: bold\">]</span>\n",
       "</pre>\n"
      ],
      "text/plain": [
       "        initialization_fidelity: \u001b[1;36m98.8\u001b[0m \u001b[1m[\u001b[0m%\u001b[1m]\u001b[0m\n"
      ]
     },
     "metadata": {},
     "output_type": "display_data"
    },
    {
     "data": {
      "text/html": [
       "<pre style=\"white-space:pre;overflow-x:auto;line-height:normal;font-family:Menlo,'DejaVu Sans Mono',consolas,'Courier New',monospace\">        readout_fidelity: <span style=\"color: #008080; text-decoration-color: #008080; font-weight: bold\">98.9</span> <span style=\"font-weight: bold\">[</span>%<span style=\"font-weight: bold\">]</span>\n",
       "</pre>\n"
      ],
      "text/plain": [
       "        readout_fidelity: \u001b[1;36m98.9\u001b[0m \u001b[1m[\u001b[0m%\u001b[1m]\u001b[0m\n"
      ]
     },
     "metadata": {},
     "output_type": "display_data"
    },
    {
     "data": {
      "text/html": [
       "<pre style=\"white-space:pre;overflow-x:auto;line-height:normal;font-family:Menlo,'DejaVu Sans Mono',consolas,'Courier New',monospace\"><span style=\"color: #008000; text-decoration-color: #008000\">Qubit</span>: q3\n",
       "</pre>\n"
      ],
      "text/plain": [
       "\u001b[32mQubit\u001b[0m: q3\n"
      ]
     },
     "metadata": {},
     "output_type": "display_data"
    },
    {
     "data": {
      "text/html": [
       "<pre style=\"white-space:pre;overflow-x:auto;line-height:normal;font-family:Menlo,'DejaVu Sans Mono',consolas,'Courier New',monospace\">        t1: <span style=\"color: #008080; text-decoration-color: #008080; font-weight: bold\">1.698151583465896e-05</span> \n",
       "</pre>\n"
      ],
      "text/plain": [
       "        t1: \u001b[1;36m1.698151583465896e-05\u001b[0m \n"
      ]
     },
     "metadata": {},
     "output_type": "display_data"
    },
    {
     "data": {
      "text/html": [
       "<pre style=\"white-space:pre;overflow-x:auto;line-height:normal;font-family:Menlo,'DejaVu Sans Mono',consolas,'Courier New',monospace\">        t2star: <span style=\"color: #008080; text-decoration-color: #008080; font-weight: bold\">2.1136345189609063e-05</span> \n",
       "</pre>\n"
      ],
      "text/plain": [
       "        t2star: \u001b[1;36m2.1136345189609063e-05\u001b[0m \n"
      ]
     },
     "metadata": {},
     "output_type": "display_data"
    },
    {
     "data": {
      "text/html": [
       "<pre style=\"white-space:pre;overflow-x:auto;line-height:normal;font-family:Menlo,'DejaVu Sans Mono',consolas,'Courier New',monospace\">        single_qubit_gate_fidelity: <span style=\"color: #008080; text-decoration-color: #008080; font-weight: bold\">99.6</span> <span style=\"font-weight: bold\">[</span>%<span style=\"font-weight: bold\">]</span>\n",
       "</pre>\n"
      ],
      "text/plain": [
       "        single_qubit_gate_fidelity: \u001b[1;36m99.6\u001b[0m \u001b[1m[\u001b[0m%\u001b[1m]\u001b[0m\n"
      ]
     },
     "metadata": {},
     "output_type": "display_data"
    },
    {
     "data": {
      "text/html": [
       "<pre style=\"white-space:pre;overflow-x:auto;line-height:normal;font-family:Menlo,'DejaVu Sans Mono',consolas,'Courier New',monospace\">        two_qubit_gate_fidelity: <span style=\"color: #008080; text-decoration-color: #008080; font-weight: bold\">94.2</span> <span style=\"font-weight: bold\">[</span>%<span style=\"font-weight: bold\">]</span>\n",
       "</pre>\n"
      ],
      "text/plain": [
       "        two_qubit_gate_fidelity: \u001b[1;36m94.2\u001b[0m \u001b[1m[\u001b[0m%\u001b[1m]\u001b[0m\n"
      ]
     },
     "metadata": {},
     "output_type": "display_data"
    },
    {
     "data": {
      "text/html": [
       "<pre style=\"white-space:pre;overflow-x:auto;line-height:normal;font-family:Menlo,'DejaVu Sans Mono',consolas,'Courier New',monospace\">        initialization_fidelity: <span style=\"color: #008080; text-decoration-color: #008080; font-weight: bold\">97.3</span> <span style=\"font-weight: bold\">[</span>%<span style=\"font-weight: bold\">]</span>\n",
       "</pre>\n"
      ],
      "text/plain": [
       "        initialization_fidelity: \u001b[1;36m97.3\u001b[0m \u001b[1m[\u001b[0m%\u001b[1m]\u001b[0m\n"
      ]
     },
     "metadata": {},
     "output_type": "display_data"
    },
    {
     "data": {
      "text/html": [
       "<pre style=\"white-space:pre;overflow-x:auto;line-height:normal;font-family:Menlo,'DejaVu Sans Mono',consolas,'Courier New',monospace\">        readout_fidelity: <span style=\"color: #008080; text-decoration-color: #008080; font-weight: bold\">97.3</span> <span style=\"font-weight: bold\">[</span>%<span style=\"font-weight: bold\">]</span>\n",
       "</pre>\n"
      ],
      "text/plain": [
       "        readout_fidelity: \u001b[1;36m97.3\u001b[0m \u001b[1m[\u001b[0m%\u001b[1m]\u001b[0m\n"
      ]
     },
     "metadata": {},
     "output_type": "display_data"
    },
    {
     "data": {
      "text/html": [
       "<pre style=\"white-space:pre;overflow-x:auto;line-height:normal;font-family:Menlo,'DejaVu Sans Mono',consolas,'Courier New',monospace\"><span style=\"color: #008000; text-decoration-color: #008000\">Qubit</span>: q4\n",
       "</pre>\n"
      ],
      "text/plain": [
       "\u001b[32mQubit\u001b[0m: q4\n"
      ]
     },
     "metadata": {},
     "output_type": "display_data"
    },
    {
     "data": {
      "text/html": [
       "<pre style=\"white-space:pre;overflow-x:auto;line-height:normal;font-family:Menlo,'DejaVu Sans Mono',consolas,'Courier New',monospace\">        t1: <span style=\"color: #008080; text-decoration-color: #008080; font-weight: bold\">1.291646332823237e-05</span> \n",
       "</pre>\n"
      ],
      "text/plain": [
       "        t1: \u001b[1;36m1.291646332823237e-05\u001b[0m \n"
      ]
     },
     "metadata": {},
     "output_type": "display_data"
    },
    {
     "data": {
      "text/html": [
       "<pre style=\"white-space:pre;overflow-x:auto;line-height:normal;font-family:Menlo,'DejaVu Sans Mono',consolas,'Courier New',monospace\">        t2star: <span style=\"color: #008080; text-decoration-color: #008080; font-weight: bold\">2.0474966269881648e-05</span> \n",
       "</pre>\n"
      ],
      "text/plain": [
       "        t2star: \u001b[1;36m2.0474966269881648e-05\u001b[0m \n"
      ]
     },
     "metadata": {},
     "output_type": "display_data"
    },
    {
     "data": {
      "text/html": [
       "<pre style=\"white-space:pre;overflow-x:auto;line-height:normal;font-family:Menlo,'DejaVu Sans Mono',consolas,'Courier New',monospace\">        single_qubit_gate_fidelity: <span style=\"color: #008080; text-decoration-color: #008080; font-weight: bold\">99.9</span> <span style=\"font-weight: bold\">[</span>%<span style=\"font-weight: bold\">]</span>\n",
       "</pre>\n"
      ],
      "text/plain": [
       "        single_qubit_gate_fidelity: \u001b[1;36m99.9\u001b[0m \u001b[1m[\u001b[0m%\u001b[1m]\u001b[0m\n"
      ]
     },
     "metadata": {},
     "output_type": "display_data"
    },
    {
     "data": {
      "text/html": [
       "<pre style=\"white-space:pre;overflow-x:auto;line-height:normal;font-family:Menlo,'DejaVu Sans Mono',consolas,'Courier New',monospace\">        two_qubit_gate_fidelity: <span style=\"color: #008080; text-decoration-color: #008080; font-weight: bold\">97.1</span> <span style=\"font-weight: bold\">[</span>%<span style=\"font-weight: bold\">]</span>\n",
       "</pre>\n"
      ],
      "text/plain": [
       "        two_qubit_gate_fidelity: \u001b[1;36m97.1\u001b[0m \u001b[1m[\u001b[0m%\u001b[1m]\u001b[0m\n"
      ]
     },
     "metadata": {},
     "output_type": "display_data"
    },
    {
     "data": {
      "text/html": [
       "<pre style=\"white-space:pre;overflow-x:auto;line-height:normal;font-family:Menlo,'DejaVu Sans Mono',consolas,'Courier New',monospace\">        initialization_fidelity: <span style=\"color: #008080; text-decoration-color: #008080; font-weight: bold\">93.6</span> <span style=\"font-weight: bold\">[</span>%<span style=\"font-weight: bold\">]</span>\n",
       "</pre>\n"
      ],
      "text/plain": [
       "        initialization_fidelity: \u001b[1;36m93.6\u001b[0m \u001b[1m[\u001b[0m%\u001b[1m]\u001b[0m\n"
      ]
     },
     "metadata": {},
     "output_type": "display_data"
    },
    {
     "data": {
      "text/html": [
       "<pre style=\"white-space:pre;overflow-x:auto;line-height:normal;font-family:Menlo,'DejaVu Sans Mono',consolas,'Courier New',monospace\">        readout_fidelity: <span style=\"color: #008080; text-decoration-color: #008080; font-weight: bold\">100.7</span> <span style=\"font-weight: bold\">[</span>%<span style=\"font-weight: bold\">]</span>\n",
       "</pre>\n"
      ],
      "text/plain": [
       "        readout_fidelity: \u001b[1;36m100.7\u001b[0m \u001b[1m[\u001b[0m%\u001b[1m]\u001b[0m\n"
      ]
     },
     "metadata": {},
     "output_type": "display_data"
    },
    {
     "data": {
      "text/html": [
       "<pre style=\"white-space:pre;overflow-x:auto;line-height:normal;font-family:Menlo,'DejaVu Sans Mono',consolas,'Courier New',monospace\"><span style=\"color: #008000; text-decoration-color: #008000\">Calibration</span>: last_calibration_date\n",
       "</pre>\n"
      ],
      "text/plain": [
       "\u001b[32mCalibration\u001b[0m: last_calibration_date\n"
      ]
     },
     "metadata": {},
     "output_type": "display_data"
    },
    {
     "data": {
      "text/html": [
       "<pre style=\"white-space:pre;overflow-x:auto;line-height:normal;font-family:Menlo,'DejaVu Sans Mono',consolas,'Courier New',monospace\">        <span style=\"color: #008080; text-decoration-color: #008080; font-weight: bold\">24</span>/<span style=\"color: #008080; text-decoration-color: #008080; font-weight: bold\">12</span>/<span style=\"color: #008080; text-decoration-color: #008080; font-weight: bold\">2021</span> - <span style=\"color: #00ff00; text-decoration-color: #00ff00; font-weight: bold\">03:49</span> AM\n",
       "</pre>\n"
      ],
      "text/plain": [
       "        \u001b[1;36m24\u001b[0m/\u001b[1;36m12\u001b[0m/\u001b[1;36m2021\u001b[0m - \u001b[1;92m03:49\u001b[0m AM\n"
      ]
     },
     "metadata": {},
     "output_type": "display_data"
    },
    {
     "data": {
      "text/html": [
       "<pre style=\"white-space:pre;overflow-x:auto;line-height:normal;font-family:Menlo,'DejaVu Sans Mono',consolas,'Courier New',monospace\"><span style=\"color: #008000; text-decoration-color: #008000\">other fields</span>:</pre>\n"
      ],
      "text/plain": [
       "\u001b[32mother fields\u001b[0m:"
      ]
     },
     "metadata": {},
     "output_type": "display_data"
    },
    {
     "data": {
      "text/html": [
       "<pre style=\"white-space:pre;overflow-x:auto;line-height:normal;font-family:Menlo,'DejaVu Sans Mono',consolas,'Courier New',monospace\">        <span style=\"font-weight: bold\">{</span><span style=\"color: #008000; text-decoration-color: #008000\">'unit'</span>, <span style=\"color: #008000; text-decoration-color: #008000\">'symbol'</span>, <span style=\"color: #008000; text-decoration-color: #008000\">'value'</span><span style=\"font-weight: bold\">}</span>\n",
       "</pre>\n"
      ],
      "text/plain": [
       "        \u001b[1m{\u001b[0m\u001b[32m'unit'\u001b[0m, \u001b[32m'symbol'\u001b[0m, \u001b[32m'value'\u001b[0m\u001b[1m}\u001b[0m\n"
      ]
     },
     "metadata": {},
     "output_type": "display_data"
    },
    {
     "name": "stdout",
     "output_type": "stream",
     "text": [
      "Readout error calibration does not exist\n"
     ]
    }
   ],
   "source": [
    "viewer = CalibrationViewer(calibration)\n",
    "print(repr(viewer))\n",
    "viewer.show_system_parameters()\n",
    "viewer.show_qubit_parameters()\n",
    "viewer.show_calibration_field('last_calibration_date')\n",
    "\n",
    "try:\n",
    "    c = viewer.show_calibration_field('readout_error_calibration')\n",
    "except KeyError:\n",
    "    print('Readout error calibration does not exist')\n"
   ]
  },
  {
   "cell_type": "markdown",
   "id": "34cce04d-15d1-455b-b02b-3b6323dcfe21",
   "metadata": {},
   "source": [
    "The string representation of the viewer returns the calibration dictionary as a string, so we can load the calibration back into a dictionary when having access to a `CalibrationViewer` object."
   ]
  },
  {
   "cell_type": "code",
   "execution_count": 39,
   "id": "65d5bdf1-1cab-4229-bdf5-acfe6f11d624",
   "metadata": {},
   "outputs": [
    {
     "name": "stdout",
     "output_type": "stream",
     "text": [
      "{\"url\": \"https://api.quantum-inspire.com/calibration/109052/\", \"backend\": \"https://api.quantum-inspire.com/backends/8/\", \"parameters\": {\"system\": {\"fridge_temperature\": {\"value\": \"20.9\", \"unit\": \"mK\", \"symbol\": \"Fridge temperature\"}, \"last_calibration_date\": {\"value\": \"24/12/2021 - 03:49 AM\", \"unit\": \"iso-8601\", \"symbol\": \"Calibration date\"}}, \"qubits\": {\"q0\": {\"t1\": {\"value\": 1.1404863763460713e-05, \"unit\": \"s\", \"symbol\": \"T1\", \"decimals\": 1}, \"t2star\": {\"value\": 1.04250551881577e-05, \"unit\": \"s\", \"symbol\": \"T2e\", \"decimals\": 1}, \"single_qubit_gate_fidelity\": {\"value\": 99.9, \"unit\": \"%\", \"symbol\": \"F1q\"}, \"two_qubit_gate_fidelity\": {\"value\": 97.8, \"unit\": \"%\", \"symbol\": \"F2q\"}, \"initialization_fidelity\": {\"value\": 99.8, \"unit\": \"%\", \"symbol\": \"Finit\"}, \"readout_fidelity\": {\"value\": 95.1, \"unit\": \"%\", \"symbol\": \"FR/O\"}}, \"q1\": {\"t1\": {\"value\": 1.3131372093163124e-05, \"unit\": \"s\", \"symbol\": \"T1\", \"decimals\": 1}, \"t2star\": {\"value\": 1.8620682825195337e-05, \"unit\": \"s\", \"symbol\": \"T2e\", \"decimals\": 1}, \"single_qubit_gate_fidelity\": {\"value\": 99.8, \"unit\": \"%\", \"symbol\": \"F1q\"}, \"two_qubit_gate_fidelity\": {\"value\": 96.6, \"unit\": \"%\", \"symbol\": \"F2q\"}, \"initialization_fidelity\": {\"value\": 99.8, \"unit\": \"%\", \"symbol\": \"Finit\"}, \"readout_fidelity\": {\"value\": 92.1, \"unit\": \"%\", \"symbol\": \"FR/O\"}}, \"q2\": {\"t1\": {\"value\": 2.081085894530037e-05, \"unit\": \"s\", \"symbol\": \"T1\", \"decimals\": 1}, \"t2star\": {\"value\": 2.4635154939086823e-05, \"unit\": \"s\", \"symbol\": \"T2e\", \"decimals\": 1}, \"single_qubit_gate_fidelity\": {\"value\": 99.8, \"unit\": \"%\", \"symbol\": \"F1q\"}, \"two_qubit_gate_fidelity\": {\"value\": null, \"unit\": \"%\", \"symbol\": \"F2q\"}, \"initialization_fidelity\": {\"value\": 98.8, \"unit\": \"%\", \"symbol\": \"Finit\"}, \"readout_fidelity\": {\"value\": 98.9, \"unit\": \"%\", \"symbol\": \"FR/O\"}}, \"q3\": {\"t1\": {\"value\": 1.698151583465896e-05, \"unit\": \"s\", \"symbol\": \"T1\", \"decimals\": 1}, \"t2star\": {\"value\": 2.1136345189609063e-05, \"unit\": \"s\", \"symbol\": \"T2e\", \"decimals\": 1}, \"single_qubit_gate_fidelity\": {\"value\": 99.6, \"unit\": \"%\", \"symbol\": \"F1q\"}, \"two_qubit_gate_fidelity\": {\"value\": 94.2, \"unit\": \"%\", \"symbol\": \"F2q\"}, \"initialization_fidelity\": {\"value\": 97.3, \"unit\": \"%\", \"symbol\": \"Finit\"}, \"readout_fidelity\": {\"value\": 97.3, \"unit\": \"%\", \"symbol\": \"FR/O\"}}, \"q4\": {\"t1\": {\"value\": 1.291646332823237e-05, \"unit\": \"s\", \"symbol\": \"T1\", \"decimals\": 1}, \"t2star\": {\"value\": 2.0474966269881648e-05, \"unit\": \"s\", \"symbol\": \"T2e\", \"decimals\": 1}, \"single_qubit_gate_fidelity\": {\"value\": 99.9, \"unit\": \"%\", \"symbol\": \"F1q\"}, \"two_qubit_gate_fidelity\": {\"value\": 97.1, \"unit\": \"%\", \"symbol\": \"F2q\"}, \"initialization_fidelity\": {\"value\": 93.6, \"unit\": \"%\", \"symbol\": \"Finit\"}, \"readout_fidelity\": {\"value\": 100.7, \"unit\": \"%\", \"symbol\": \"FR/O\"}}}}}\n"
     ]
    }
   ],
   "source": [
    "print(viewer)"
   ]
  },
  {
   "cell_type": "code",
   "execution_count": 44,
   "id": "1faeee8f-5e6d-458f-98ba-e792070defc3",
   "metadata": {},
   "outputs": [
    {
     "data": {
      "text/plain": [
       "{'url': 'https://api.quantum-inspire.com/calibration/109052/',\n",
       " 'backend': 'https://api.quantum-inspire.com/backends/8/',\n",
       " 'parameters': {'system': {'fridge_temperature': {'value': '20.9',\n",
       "    'unit': 'mK',\n",
       "    'symbol': 'Fridge temperature'},\n",
       "   'last_calibration_date': {'value': '24/12/2021 - 03:49 AM',\n",
       "    'unit': 'iso-8601',\n",
       "    'symbol': 'Calibration date'}},\n",
       "  'qubits': {'q0': {'t1': {'value': 1.1404863763460713e-05,\n",
       "     'unit': 's',\n",
       "     'symbol': 'T1',\n",
       "     'decimals': 1},\n",
       "    't2star': {'value': 1.04250551881577e-05,\n",
       "     'unit': 's',\n",
       "     'symbol': 'T2e',\n",
       "     'decimals': 1},\n",
       "    'single_qubit_gate_fidelity': {'value': 99.9,\n",
       "     'unit': '%',\n",
       "     'symbol': 'F1q'},\n",
       "    'two_qubit_gate_fidelity': {'value': 97.8, 'unit': '%', 'symbol': 'F2q'},\n",
       "    'initialization_fidelity': {'value': 99.8, 'unit': '%', 'symbol': 'Finit'},\n",
       "    'readout_fidelity': {'value': 95.1, 'unit': '%', 'symbol': 'FR/O'}},\n",
       "   'q1': {'t1': {'value': 1.3131372093163124e-05,\n",
       "     'unit': 's',\n",
       "     'symbol': 'T1',\n",
       "     'decimals': 1},\n",
       "    't2star': {'value': 1.8620682825195337e-05,\n",
       "     'unit': 's',\n",
       "     'symbol': 'T2e',\n",
       "     'decimals': 1},\n",
       "    'single_qubit_gate_fidelity': {'value': 99.8,\n",
       "     'unit': '%',\n",
       "     'symbol': 'F1q'},\n",
       "    'two_qubit_gate_fidelity': {'value': 96.6, 'unit': '%', 'symbol': 'F2q'},\n",
       "    'initialization_fidelity': {'value': 99.8, 'unit': '%', 'symbol': 'Finit'},\n",
       "    'readout_fidelity': {'value': 92.1, 'unit': '%', 'symbol': 'FR/O'}},\n",
       "   'q2': {'t1': {'value': 2.081085894530037e-05,\n",
       "     'unit': 's',\n",
       "     'symbol': 'T1',\n",
       "     'decimals': 1},\n",
       "    't2star': {'value': 2.4635154939086823e-05,\n",
       "     'unit': 's',\n",
       "     'symbol': 'T2e',\n",
       "     'decimals': 1},\n",
       "    'single_qubit_gate_fidelity': {'value': 99.8,\n",
       "     'unit': '%',\n",
       "     'symbol': 'F1q'},\n",
       "    'two_qubit_gate_fidelity': {'value': None, 'unit': '%', 'symbol': 'F2q'},\n",
       "    'initialization_fidelity': {'value': 98.8, 'unit': '%', 'symbol': 'Finit'},\n",
       "    'readout_fidelity': {'value': 98.9, 'unit': '%', 'symbol': 'FR/O'}},\n",
       "   'q3': {'t1': {'value': 1.698151583465896e-05,\n",
       "     'unit': 's',\n",
       "     'symbol': 'T1',\n",
       "     'decimals': 1},\n",
       "    't2star': {'value': 2.1136345189609063e-05,\n",
       "     'unit': 's',\n",
       "     'symbol': 'T2e',\n",
       "     'decimals': 1},\n",
       "    'single_qubit_gate_fidelity': {'value': 99.6,\n",
       "     'unit': '%',\n",
       "     'symbol': 'F1q'},\n",
       "    'two_qubit_gate_fidelity': {'value': 94.2, 'unit': '%', 'symbol': 'F2q'},\n",
       "    'initialization_fidelity': {'value': 97.3, 'unit': '%', 'symbol': 'Finit'},\n",
       "    'readout_fidelity': {'value': 97.3, 'unit': '%', 'symbol': 'FR/O'}},\n",
       "   'q4': {'t1': {'value': 1.291646332823237e-05,\n",
       "     'unit': 's',\n",
       "     'symbol': 'T1',\n",
       "     'decimals': 1},\n",
       "    't2star': {'value': 2.0474966269881648e-05,\n",
       "     'unit': 's',\n",
       "     'symbol': 'T2e',\n",
       "     'decimals': 1},\n",
       "    'single_qubit_gate_fidelity': {'value': 99.9,\n",
       "     'unit': '%',\n",
       "     'symbol': 'F1q'},\n",
       "    'two_qubit_gate_fidelity': {'value': 97.1, 'unit': '%', 'symbol': 'F2q'},\n",
       "    'initialization_fidelity': {'value': 93.6, 'unit': '%', 'symbol': 'Finit'},\n",
       "    'readout_fidelity': {'value': 100.7, 'unit': '%', 'symbol': 'FR/O'}}}}}"
      ]
     },
     "execution_count": 44,
     "metadata": {},
     "output_type": "execute_result"
    }
   ],
   "source": [
    "json.loads(viewer.__str__())"
   ]
  }
 ],
 "metadata": {
  "kernelspec": {
   "display_name": "Python [conda env:qi-py38] *",
   "language": "python",
   "name": "conda-env-qi-py38-py"
  },
  "language_info": {
   "codemirror_mode": {
    "name": "ipython",
    "version": 3
   },
   "file_extension": ".py",
   "mimetype": "text/x-python",
   "name": "python",
   "nbconvert_exporter": "python",
   "pygments_lexer": "ipython3",
   "version": "3.8.8"
  }
 },
 "nbformat": 4,
 "nbformat_minor": 5
}
