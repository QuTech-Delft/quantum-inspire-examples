{
 "cells": [
  {
   "cell_type": "markdown",
   "id": "eceacbd4-e2fd-43b2-8b21-31e4b6fbd642",
   "metadata": {
    "tags": []
   },
   "source": [
    "# Retrieving calibration data from Quantum Inspire\n",
    "\n",
    "Pieter Eendebak <pieter.eendebak@tno.nl>\n",
    "\n",
    "- Intro ...\n",
    "- Compilation and transpilation options not available at this moment. See knowledge base for details\n",
    "- Calibrations are coupled to experiments. Even though the calibrations are done on a periodic basis (e.g. once per day), every experiment gets mapped to such a calibration.\n",
    "- Calibrations are backend specific"
   ]
  },
  {
   "cell_type": "code",
   "execution_count": 1,
   "id": "989e4628-fdb7-403e-a33d-6bbca8e94b30",
   "metadata": {
    "execution": {
     "iopub.execute_input": "2021-10-20T09:21:45.559810Z",
     "iopub.status.busy": "2021-10-20T09:21:45.559112Z",
     "iopub.status.idle": "2021-10-20T09:21:45.570964Z",
     "shell.execute_reply": "2021-10-20T09:21:45.568675Z",
     "shell.execute_reply.started": "2021-10-20T09:21:45.559738Z"
    },
    "tags": []
   },
   "outputs": [],
   "source": [
    "import numpy as np\n",
    "from typing import Any\n",
    "\n",
    "from qiskit import execute\n",
    "from qiskit.circuit import QuantumCircuit\n",
    "\n",
    "from quantuminspire.api import QuantumInspireAPI\n",
    "from quantuminspire.credentials import \\\n",
    "    get_authentication, \\\n",
    "    get_token_authentication, \\\n",
    "    load_account, \\\n",
    "    save_account\n",
    "from quantuminspire.qiskit import QI\n",
    "\n",
    "import quantuminspire.calibration_viewer\n",
    "from importlib import reload\n",
    "reload(quantuminspire.calibration_viewer)\n",
    "from quantuminspire.calibration_viewer import CalibrationViewer\n",
    "\n",
    "try:\n",
    "    from rich import print as rprint\n",
    "except ImportError:\n",
    "    rprint = print"
   ]
  },
  {
   "cell_type": "code",
   "execution_count": 2,
   "outputs": [],
   "source": [
    "def remove_ordered_dict(d: Any) -> Any:\n",
    "    \"\"\" Replace OrderedDict with dict \"\"\"\n",
    "    if isinstance(d, dict):\n",
    "        return {k: remove_ordered_dict(v) for k, v in d.items()}\n",
    "    else:\n",
    "        return d"
   ],
   "metadata": {
    "collapsed": false,
    "pycharm": {
     "name": "#%%\n"
    }
   }
  },
  {
   "cell_type": "markdown",
   "id": "4c900289-fc39-4580-8c06-9b7c8504faf9",
   "metadata": {
    "execution": {
     "iopub.execute_input": "2021-10-20T09:24:07.190356Z",
     "iopub.status.busy": "2021-10-20T09:24:07.189794Z",
     "iopub.status.idle": "2021-10-20T09:24:21.680149Z",
     "shell.execute_reply": "2021-10-20T09:24:21.678305Z",
     "shell.execute_reply.started": "2021-10-20T09:24:07.190289Z"
    },
    "tags": [],
    "pycharm": {
     "name": "#%% md\n"
    }
   },
   "source": [
    "## Set credentials"
   ]
  },
  {
   "cell_type": "code",
   "id": "2b924665-881b-4244-8a3a-efc7b4edab98",
   "metadata": {
    "pycharm": {
     "name": "#%%\n"
    }
   },
   "source": [
    "authentication = get_authentication()\n",
    "QI.set_authentication(authentication)\n",
    "qi_api = QI.get_api()\n",
    "backend = QI.get_backend(\"Starmon-5\")\n",
    "# quantum_instance = QuantumInstance(backend=backend, shots=2**10)"
   ],
   "execution_count": 3,
   "outputs": []
  },
  {
   "cell_type": "code",
   "execution_count": 4,
   "id": "01d6693a-ac5f-4b3e-9609-cbb2f3c50aa5",
   "metadata": {
    "execution": {
     "iopub.execute_input": "2021-10-20T09:23:23.715785Z",
     "iopub.status.busy": "2021-10-20T09:23:23.715561Z",
     "iopub.status.idle": "2021-10-20T09:23:24.184996Z",
     "shell.execute_reply": "2021-10-20T09:23:24.183920Z",
     "shell.execute_reply.started": "2021-10-20T09:23:23.715755Z"
    },
    "tags": []
   },
   "outputs": [],
   "source": [
    "QI_URL = r'https://api.quantum-inspire.com'\n",
    "token = load_account()\n",
    "authentication = get_token_authentication(token)\n",
    "qi_api = QuantumInspireAPI(QI_URL, authentication)\n",
    "\n",
    "QI.set_authentication(authentication, QI_URL)"
   ]
  },
  {
   "cell_type": "markdown",
   "id": "8dbf3d59-ac90-4791-8a39-ceec5befe662",
   "metadata": {},
   "source": [
    "## Run an experiment to generate data"
   ]
  },
  {
   "cell_type": "code",
   "execution_count": 5,
   "id": "11ce227c-3b5b-4ff0-9644-d74ec4be5afb",
   "metadata": {
    "execution": {
     "iopub.execute_input": "2021-10-20T09:56:44.832081Z",
     "iopub.status.busy": "2021-10-20T09:56:44.831519Z",
     "iopub.status.idle": "2021-10-20T09:57:14.921520Z",
     "shell.execute_reply": "2021-10-20T09:57:14.919675Z",
     "shell.execute_reply.started": "2021-10-20T09:56:44.832013Z"
    },
    "tags": []
   },
   "outputs": [
    {
     "name": "stdout",
     "output_type": "stream",
     "text": [
      "Selected backend: Starmon-5\n",
      "Execute job on Starmon-5\n",
      "Measured result: {'00': 133, '01': 13, '10': 7, '11': 103}\n"
     ]
    }
   ],
   "source": [
    "backend_name = 'Spin-2'\n",
    "if qi_api.get_backend_type_by_name(backend_name)[\"status\"] == \"OFFLINE\":\n",
    "        backend_name = 'Starmon-5'\n",
    "qi_backend = QI.get_backend(backend_name)\n",
    "\n",
    "print(f'Selected backend: {backend_name}')\n",
    "\n",
    "circuit = QuantumCircuit(2)\n",
    "\n",
    "circuit.h(1)\n",
    "circuit.cx(1, 0)\n",
    "circuit.measure_all()\n",
    "\n",
    "qi_job = execute(circuit, backend=qi_backend, shots=256)\n",
    "print(f'Execute job on {qi_backend}')\n",
    "qi_result = qi_job.result()\n",
    "histogram = qi_result.get_counts(circuit)\n",
    "print(f'Measured result: {histogram}')"
   ]
  },
  {
   "cell_type": "markdown",
   "source": [
    "# Select job from backend to get calibration data from"
   ],
   "metadata": {
    "collapsed": false,
    "pycharm": {
     "name": "#%% md\n"
    }
   }
  },
  {
   "cell_type": "code",
   "execution_count": 6,
   "id": "d73f1dce-c1aa-4330-b464-5135354fb705",
   "metadata": {
    "execution": {
     "iopub.execute_input": "2021-10-20T09:59:04.560277Z",
     "iopub.status.busy": "2021-10-20T09:59:04.559486Z",
     "iopub.status.idle": "2021-10-20T09:59:08.353396Z",
     "shell.execute_reply": "2021-10-20T09:59:08.351288Z",
     "shell.execute_reply.started": "2021-10-20T09:59:04.560181Z"
    },
    "tags": []
   },
   "outputs": [
    {
     "name": "stdout",
     "output_type": "stream",
     "text": [
      "Found 314 jobs for backend Starmon-5.\n"
     ]
    }
   ],
   "source": [
    "qi_backend = QI.get_backend(backend_name)\n",
    "all_jobs = qi_api.get_jobs()\n",
    "backend_types = qi_api.get_backend_types()\n",
    "backends = qi_api._get('https://api.quantum-inspire.com/backends')\n",
    "\n",
    "backend_url = [b for b in backends if b['name']==backend_name][0]['url']\n",
    "backend_jobs = [j for j in all_jobs if j['backend']==backend_url]\n",
    "print(f\"Found {len(backend_jobs)} jobs for backend {backend_name}.\")\n",
    "\n",
    "if len(backend_jobs)==0:\n",
    "    raise Exception(f\"You have not executed jobs in {backend_name}, no calibration data available.\")"
   ]
  },
  {
   "cell_type": "code",
   "execution_count": 7,
   "outputs": [
    {
     "data": {
      "text/plain": "{'_configuration': <qiskit.providers.models.backendconfiguration.QasmBackendConfiguration at 0x7f74700dfdf0>,\n '_options': namespace(shots=1024, memory=True),\n '_provider': <quantuminspire.qiskit.quantum_inspire_provider.QuantumInspireProvider at 0x7f74201fc580>,\n '_QuantumInspireBackend__backend': {'url': 'https://api.quantum-inspire.com/backendtypes/11/',\n  'name': 'Starmon-5',\n  'is_hardware_backend': True,\n  'required_permission': 'can_execute',\n  'number_of_qubits': 5,\n  'description': '',\n  'topology': OrderedDict([('edges', [[2], [2], [0, 1, 3, 4], [2], [2]])]),\n  'is_allowed': True,\n  'status': 'EXECUTION',\n  'status_message': '',\n  'chip_image_id': '4386293',\n  'calibration': 'https://api.quantum-inspire.com/backendtypes/11/calibration/',\n  'allowed_operations': OrderedDict([('display', []),\n               ('measure', ['measure', 'measure_x', 'measure_y', 'measure_z']),\n               ('measure_all', ['measure_all']),\n               ('parameterized_single_gates', ['rx', 'ry', 'rz']),\n               ('prep', ['prep_x', 'prep_y', 'prep_z']),\n               ('single_gates',\n                ['mx90',\n                 'my90',\n                 'x90',\n                 'y90',\n                 'x',\n                 'y',\n                 'h',\n                 't',\n                 's',\n                 'tdag',\n                 'sdag',\n                 'i',\n                 'z']),\n               ('dual_gates', ['cz', 'cnot', 'swap']),\n               ('parameterized_dual_gates', []),\n               ('triple_gates', [])]),\n  'default_number_of_shots': 8192,\n  'max_number_of_shots': 16384,\n  'max_number_of_simultaneous_jobs': 20,\n  'operations_count': OrderedDict([('max_operations_for_qubit', 0),\n               ('total_operations', 0)])},\n '_QuantumInspireBackend__api': <quantuminspire.api.QuantumInspireAPI at 0x7f74700dff70>}"
     },
     "execution_count": 7,
     "metadata": {},
     "output_type": "execute_result"
    }
   ],
   "source": [
    "qi_backend.__dict__"
   ],
   "metadata": {
    "collapsed": false,
    "pycharm": {
     "name": "#%%\n"
    }
   }
  },
  {
   "cell_type": "code",
   "execution_count": 8,
   "outputs": [
    {
     "data": {
      "text/plain": "[OrderedDict([('url', 'https://api.quantum-inspire.com/backends/1/'),\n              ('name', 'qxsim'),\n              ('location', 'Delft'),\n              ('backend_type',\n               'https://api.quantum-inspire.com/backendtypes/1/'),\n              ('status', 'IDLE'),\n              ('status_message', ''),\n              ('lastHeartbeat', '2021-06-14T08:09:04.851276Z'),\n              ('openqlPdf', ''),\n              ('calibration',\n               'https://api.quantum-inspire.com/backends/1/calibration/')]),\n OrderedDict([('url', 'https://api.quantum-inspire.com/backends/7/'),\n              ('name', 'Spin-2'),\n              ('location', 'Spitfire'),\n              ('backend_type',\n               'https://api.quantum-inspire.com/backendtypes/10/'),\n              ('status', 'CALIBRATION'),\n              ('status_message', ''),\n              ('lastHeartbeat', '2021-06-25T12:29:03.153227Z'),\n              ('openqlPdf', ''),\n              ('calibration',\n               'https://api.quantum-inspire.com/backends/7/calibration/')]),\n OrderedDict([('url', 'https://api.quantum-inspire.com/backends/8/'),\n              ('name', 'Starmon-5'),\n              ('location', 'La Ferrari'),\n              ('backend_type',\n               'https://api.quantum-inspire.com/backendtypes/11/'),\n              ('status', 'IDLE'),\n              ('status_message', ''),\n              ('lastHeartbeat', '2021-11-08T10:40:04.674095Z'),\n              ('openqlPdf', ''),\n              ('calibration',\n               'https://api.quantum-inspire.com/backends/8/calibration/')]),\n OrderedDict([('url', 'https://api.quantum-inspire.com/backends/6/'),\n              ('name', 'simulator4'),\n              ('location', 'Sim2 (Hetzner)'),\n              ('backend_type',\n               'https://api.quantum-inspire.com/backendtypes/1/'),\n              ('status', 'IDLE'),\n              ('status_message', ''),\n              ('lastHeartbeat', '2021-11-08T10:40:01.390579Z'),\n              ('openqlPdf', ''),\n              ('calibration',\n               'https://api.quantum-inspire.com/backends/6/calibration/')]),\n OrderedDict([('url', 'https://api.quantum-inspire.com/backends/5/'),\n              ('name', 'simulator3'),\n              ('location', 'Sim2 (Hetzner)'),\n              ('backend_type',\n               'https://api.quantum-inspire.com/backendtypes/1/'),\n              ('status', 'IDLE'),\n              ('status_message', ''),\n              ('lastHeartbeat', '2021-11-08T10:40:03.071247Z'),\n              ('openqlPdf', ''),\n              ('calibration',\n               'https://api.quantum-inspire.com/backends/5/calibration/')]),\n OrderedDict([('url', 'https://api.quantum-inspire.com/backends/2/'),\n              ('name', 'qxsim-ss'),\n              ('location', 'Amsterdam'),\n              ('backend_type',\n               'https://api.quantum-inspire.com/backendtypes/2/'),\n              ('status', 'IDLE'),\n              ('status_message', 'Installing'),\n              ('lastHeartbeat', '2021-11-08T10:40:03.978722Z'),\n              ('openqlPdf', ''),\n              ('calibration',\n               'https://api.quantum-inspire.com/backends/2/calibration/')]),\n OrderedDict([('url', 'https://api.quantum-inspire.com/backends/4/'),\n              ('name', 'simulator2'),\n              ('location', 'Sim2 (Hetzner)'),\n              ('backend_type',\n               'https://api.quantum-inspire.com/backendtypes/1/'),\n              ('status', 'IDLE'),\n              ('status_message', ''),\n              ('lastHeartbeat', '2021-11-08T10:40:04.657313Z'),\n              ('openqlPdf', ''),\n              ('calibration',\n               'https://api.quantum-inspire.com/backends/4/calibration/')]),\n OrderedDict([('url', 'https://api.quantum-inspire.com/backends/3/'),\n              ('name', 'simulator1'),\n              ('location', 'Sim2 (Hetzner)'),\n              ('backend_type',\n               'https://api.quantum-inspire.com/backendtypes/1/'),\n              ('status', 'IDLE'),\n              ('status_message', ''),\n              ('lastHeartbeat', '2021-11-08T10:40:04.657313Z'),\n              ('openqlPdf', ''),\n              ('calibration',\n               'https://api.quantum-inspire.com/backends/3/calibration/')]),\n OrderedDict([('url', 'https://api.quantum-inspire.com/backends/9/'),\n              ('name', 'qxsim-ss-lisa'),\n              ('location', 'Amsterdam'),\n              ('backend_type',\n               'https://api.quantum-inspire.com/backendtypes/12/'),\n              ('status', 'IDLE'),\n              ('status_message', ''),\n              ('lastHeartbeat', '2021-11-08T10:40:05.098696Z'),\n              ('openqlPdf', ''),\n              ('calibration',\n               'https://api.quantum-inspire.com/backends/9/calibration/')])]"
     },
     "execution_count": 8,
     "metadata": {},
     "output_type": "execute_result"
    }
   ],
   "source": [
    "# all_jobs\n",
    "backends"
   ],
   "metadata": {
    "collapsed": false,
    "pycharm": {
     "name": "#%%\n"
    }
   }
  },
  {
   "cell_type": "code",
   "execution_count": 9,
   "outputs": [
    {
     "data": {
      "text/plain": "[OrderedDict([('url', 'https://api.quantum-inspire.com/backendtypes/10/'),\n              ('name', 'Spin-2'),\n              ('is_hardware_backend', True),\n              ('required_permission', 'can_execute'),\n              ('number_of_qubits', 2),\n              ('description', ''),\n              ('topology', OrderedDict([('edges', [[1], [0]])])),\n              ('is_allowed', True),\n              ('status', 'OFFLINE'),\n              ('status_message', 'This backend is offline.'),\n              ('chip_image_id', '956681'),\n              ('calibration',\n               'https://api.quantum-inspire.com/backendtypes/10/calibration/'),\n              ('allowed_operations',\n               OrderedDict([('display', []),\n                            ('measure',\n                             ['measure',\n                              'measure_z',\n                              'measure_x',\n                              'measure_y']),\n                            ('measure_all', ['measure_all']),\n                            ('parameterized_single_gates', ['rx', 'ry', 'rz']),\n                            ('prep', ['prep_z', 'prep_y', 'prep_x']),\n                            ('single_gates',\n                             ['mx90',\n                              'my90',\n                              'x90',\n                              'y90',\n                              'x',\n                              'y',\n                              'h',\n                              't',\n                              's',\n                              'tdag',\n                              'sdag',\n                              'i',\n                              'z']),\n                            ('dual_gates', ['cz', 'cnot', 'swap']),\n                            ('parameterized_dual_gates', ['cr', 'crk']),\n                            ('triple_gates', [])])),\n              ('default_number_of_shots', 4096),\n              ('max_number_of_shots', 4096),\n              ('max_number_of_simultaneous_jobs', 20),\n              ('operations_count',\n               OrderedDict([('max_operations_for_qubit', 0),\n                            ('total_operations', 0)]))]),\n OrderedDict([('url', 'https://api.quantum-inspire.com/backendtypes/11/'),\n              ('name', 'Starmon-5'),\n              ('is_hardware_backend', True),\n              ('required_permission', 'can_execute'),\n              ('number_of_qubits', 5),\n              ('description', ''),\n              ('topology',\n               OrderedDict([('edges', [[2], [2], [0, 1, 3, 4], [2], [2]])])),\n              ('is_allowed', True),\n              ('status', 'IDLE'),\n              ('status_message', ''),\n              ('chip_image_id', '4386293'),\n              ('calibration',\n               'https://api.quantum-inspire.com/backendtypes/11/calibration/'),\n              ('allowed_operations',\n               OrderedDict([('display', []),\n                            ('measure',\n                             ['measure',\n                              'measure_x',\n                              'measure_y',\n                              'measure_z']),\n                            ('measure_all', ['measure_all']),\n                            ('parameterized_single_gates', ['rx', 'ry', 'rz']),\n                            ('prep', ['prep_x', 'prep_y', 'prep_z']),\n                            ('single_gates',\n                             ['mx90',\n                              'my90',\n                              'x90',\n                              'y90',\n                              'x',\n                              'y',\n                              'h',\n                              't',\n                              's',\n                              'tdag',\n                              'sdag',\n                              'i',\n                              'z']),\n                            ('dual_gates', ['cz', 'cnot', 'swap']),\n                            ('parameterized_dual_gates', []),\n                            ('triple_gates', [])])),\n              ('default_number_of_shots', 8192),\n              ('max_number_of_shots', 16384),\n              ('max_number_of_simultaneous_jobs', 20),\n              ('operations_count',\n               OrderedDict([('max_operations_for_qubit', 0),\n                            ('total_operations', 0)]))]),\n OrderedDict([('url', 'https://api.quantum-inspire.com/backendtypes/12/'),\n              ('name', 'QX-34-L'),\n              ('is_hardware_backend', False),\n              ('required_permission', 'can_simulate_single_node_qutech'),\n              ('number_of_qubits', 34),\n              ('description', 'QX Emulator on SURF Lisa HPC'),\n              ('topology', OrderedDict([('edges', [])])),\n              ('is_allowed', True),\n              ('status', 'IDLE'),\n              ('status_message', ''),\n              ('chip_image_id', None),\n              ('calibration',\n               'https://api.quantum-inspire.com/backendtypes/12/calibration/'),\n              ('allowed_operations', OrderedDict()),\n              ('default_number_of_shots', 1024),\n              ('max_number_of_shots', 4096),\n              ('max_number_of_simultaneous_jobs', 0),\n              ('operations_count',\n               OrderedDict([('max_operations_for_qubit', 0),\n                            ('total_operations', 0)]))]),\n OrderedDict([('url', 'https://api.quantum-inspire.com/backendtypes/1/'),\n              ('name', 'QX single-node simulator'),\n              ('is_hardware_backend', False),\n              ('required_permission', 'can_simulate_single_node_qutech'),\n              ('number_of_qubits', 26),\n              ('description',\n               'Single-node [QX Simulator](/kbase/qxsimulator) running on a 4GB Hetzner VPS, max 25 qubits.'),\n              ('topology', OrderedDict([('edges', [])])),\n              ('is_allowed', True),\n              ('status', 'IDLE'),\n              ('status_message', ''),\n              ('chip_image_id', None),\n              ('calibration',\n               'https://api.quantum-inspire.com/backendtypes/1/calibration/'),\n              ('allowed_operations', OrderedDict()),\n              ('default_number_of_shots', 1024),\n              ('max_number_of_shots', 4096),\n              ('max_number_of_simultaneous_jobs', 0),\n              ('operations_count',\n               OrderedDict([('max_operations_for_qubit', 0),\n                            ('total_operations', 0)]))]),\n OrderedDict([('url', 'https://api.quantum-inspire.com/backendtypes/2/'),\n              ('name', 'QX single-node simulator SurfSara'),\n              ('is_hardware_backend', False),\n              ('required_permission', 'can_simulate_single_node_cartesius'),\n              ('number_of_qubits', 31),\n              ('description',\n               'Single node simulator on Cartesius supercomputer.'),\n              ('topology', OrderedDict([('edges', [])])),\n              ('is_allowed', False),\n              ('status', 'IDLE'),\n              ('status_message', ''),\n              ('chip_image_id', None),\n              ('calibration',\n               'https://api.quantum-inspire.com/backendtypes/2/calibration/'),\n              ('allowed_operations', OrderedDict()),\n              ('default_number_of_shots', 1024),\n              ('max_number_of_shots', 4096),\n              ('max_number_of_simultaneous_jobs', 0),\n              ('operations_count',\n               OrderedDict([('max_operations_for_qubit', 0),\n                            ('total_operations', 0)]))])]"
     },
     "execution_count": 9,
     "metadata": {},
     "output_type": "execute_result"
    }
   ],
   "source": [
    "backend_types"
   ],
   "metadata": {
    "collapsed": false,
    "pycharm": {
     "name": "#%%\n"
    }
   }
  },
  {
   "cell_type": "code",
   "execution_count": 11,
   "outputs": [
    {
     "name": "stdout",
     "output_type": "stream",
     "text": [
      "Found job with id 7076794\n",
      "OrderedDict([('url', 'https://api.quantum-inspire.com/calibration/109006/'), ('backend', 'https://api.quantum-inspire.com/backends/8/'), ('parameters', OrderedDict([('system', OrderedDict([('fridge_temperature', OrderedDict([('value', '20.9'), ('unit', 'mK'), ('symbol', 'Fridge temperature')])), ('last_calibration_date', OrderedDict([('value', '04/11/2021 - 16:42 PM'), ('unit', 'iso-8601'), ('symbol', 'Calibration date')]))])), ('qubits', OrderedDict([('q0', OrderedDict([('t1', OrderedDict([('value', 1.7341880614618646e-05), ('unit', 's'), ('symbol', 'T1'), ('decimals', 1)])), ('t2star', OrderedDict([('value', 2.6163761239800992e-05), ('unit', 's'), ('symbol', 'T2e'), ('decimals', 1)])), ('single_qubit_gate_fidelity', OrderedDict([('value', 99.9), ('unit', '%'), ('symbol', 'F1q')])), ('two_qubit_gate_fidelity', OrderedDict([('value', 98.1), ('unit', '%'), ('symbol', 'F2q')])), ('initialization_fidelity', OrderedDict([('value', 99.7), ('unit', '%'), ('symbol', 'Finit')])), ('readout_fidelity', OrderedDict([('value', 94.8), ('unit', '%'), ('symbol', 'FR/O')]))])), ('q1', OrderedDict([('t1', OrderedDict([('value', 1.7563309792567438e-05), ('unit', 's'), ('symbol', 'T1'), ('decimals', 1)])), ('t2star', OrderedDict([('value', 3.6048567025453444e-05), ('unit', 's'), ('symbol', 'T2e'), ('decimals', 1)])), ('single_qubit_gate_fidelity', OrderedDict([('value', 99.9), ('unit', '%'), ('symbol', 'F1q')])), ('two_qubit_gate_fidelity', OrderedDict([('value', 98.1), ('unit', '%'), ('symbol', 'F2q')])), ('initialization_fidelity', OrderedDict([('value', 99.7), ('unit', '%'), ('symbol', 'Finit')])), ('readout_fidelity', OrderedDict([('value', 95.0), ('unit', '%'), ('symbol', 'FR/O')]))])), ('q2', OrderedDict([('t1', OrderedDict([('value', 1.2808111260217067e-05), ('unit', 's'), ('symbol', 'T1'), ('decimals', 1)])), ('t2star', OrderedDict([('value', 2.6006702180440015e-05), ('unit', 's'), ('symbol', 'T2e'), ('decimals', 1)])), ('single_qubit_gate_fidelity', OrderedDict([('value', 99.8), ('unit', '%'), ('symbol', 'F1q')])), ('two_qubit_gate_fidelity', OrderedDict([('value', None), ('unit', '%'), ('symbol', 'F2q')])), ('initialization_fidelity', OrderedDict([('value', 99.0), ('unit', '%'), ('symbol', 'Finit')])), ('readout_fidelity', OrderedDict([('value', 98.2), ('unit', '%'), ('symbol', 'FR/O')]))])), ('q3', OrderedDict([('t1', OrderedDict([('value', 2.672648895778518e-05), ('unit', 's'), ('symbol', 'T1'), ('decimals', 1)])), ('t2star', OrderedDict([('value', 3.1446318593081655e-05), ('unit', 's'), ('symbol', 'T2e'), ('decimals', 1)])), ('single_qubit_gate_fidelity', OrderedDict([('value', 99.0), ('unit', '%'), ('symbol', 'F1q')])), ('two_qubit_gate_fidelity', OrderedDict([('value', 95.4), ('unit', '%'), ('symbol', 'F2q')])), ('initialization_fidelity', OrderedDict([('value', 98.1), ('unit', '%'), ('symbol', 'Finit')])), ('readout_fidelity', OrderedDict([('value', 97.8), ('unit', '%'), ('symbol', 'FR/O')]))])), ('q4', OrderedDict([('t1', OrderedDict([('value', 1.5521000423090934e-05), ('unit', 's'), ('symbol', 'T1'), ('decimals', 1)])), ('t2star', OrderedDict([('value', 2.2276737642640425e-05), ('unit', 's'), ('symbol', 'T2e'), ('decimals', 1)])), ('single_qubit_gate_fidelity', OrderedDict([('value', 99.9), ('unit', '%'), ('symbol', 'F1q')])), ('two_qubit_gate_fidelity', OrderedDict([('value', 96.6), ('unit', '%'), ('symbol', 'F2q')])), ('initialization_fidelity', OrderedDict([('value', 99.2), ('unit', '%'), ('symbol', 'Finit')])), ('readout_fidelity', OrderedDict([('value', 90.9), ('unit', '%'), ('symbol', 'FR/O')]))]))]))]))])\n",
      "{'url': 'https://api.quantum-inspire.com/calibration/109006/', 'backend': 'https://api.quantum-inspire.com/backends/8/', 'parameters': {'system': {'fridge_temperature': {'value': '20.9', 'unit': 'mK', 'symbol': 'Fridge temperature'}, 'last_calibration_date': {'value': '04/11/2021 - 16:42 PM', 'unit': 'iso-8601', 'symbol': 'Calibration date'}}, 'qubits': {'q0': {'t1': {'value': 1.7341880614618646e-05, 'unit': 's', 'symbol': 'T1', 'decimals': 1}, 't2star': {'value': 2.6163761239800992e-05, 'unit': 's', 'symbol': 'T2e', 'decimals': 1}, 'single_qubit_gate_fidelity': {'value': 99.9, 'unit': '%', 'symbol': 'F1q'}, 'two_qubit_gate_fidelity': {'value': 98.1, 'unit': '%', 'symbol': 'F2q'}, 'initialization_fidelity': {'value': 99.7, 'unit': '%', 'symbol': 'Finit'}, 'readout_fidelity': {'value': 94.8, 'unit': '%', 'symbol': 'FR/O'}}, 'q1': {'t1': {'value': 1.7563309792567438e-05, 'unit': 's', 'symbol': 'T1', 'decimals': 1}, 't2star': {'value': 3.6048567025453444e-05, 'unit': 's', 'symbol': 'T2e', 'decimals': 1}, 'single_qubit_gate_fidelity': {'value': 99.9, 'unit': '%', 'symbol': 'F1q'}, 'two_qubit_gate_fidelity': {'value': 98.1, 'unit': '%', 'symbol': 'F2q'}, 'initialization_fidelity': {'value': 99.7, 'unit': '%', 'symbol': 'Finit'}, 'readout_fidelity': {'value': 95.0, 'unit': '%', 'symbol': 'FR/O'}}, 'q2': {'t1': {'value': 1.2808111260217067e-05, 'unit': 's', 'symbol': 'T1', 'decimals': 1}, 't2star': {'value': 2.6006702180440015e-05, 'unit': 's', 'symbol': 'T2e', 'decimals': 1}, 'single_qubit_gate_fidelity': {'value': 99.8, 'unit': '%', 'symbol': 'F1q'}, 'two_qubit_gate_fidelity': {'value': None, 'unit': '%', 'symbol': 'F2q'}, 'initialization_fidelity': {'value': 99.0, 'unit': '%', 'symbol': 'Finit'}, 'readout_fidelity': {'value': 98.2, 'unit': '%', 'symbol': 'FR/O'}}, 'q3': {'t1': {'value': 2.672648895778518e-05, 'unit': 's', 'symbol': 'T1', 'decimals': 1}, 't2star': {'value': 3.1446318593081655e-05, 'unit': 's', 'symbol': 'T2e', 'decimals': 1}, 'single_qubit_gate_fidelity': {'value': 99.0, 'unit': '%', 'symbol': 'F1q'}, 'two_qubit_gate_fidelity': {'value': 95.4, 'unit': '%', 'symbol': 'F2q'}, 'initialization_fidelity': {'value': 98.1, 'unit': '%', 'symbol': 'Finit'}, 'readout_fidelity': {'value': 97.8, 'unit': '%', 'symbol': 'FR/O'}}, 'q4': {'t1': {'value': 1.5521000423090934e-05, 'unit': 's', 'symbol': 'T1', 'decimals': 1}, 't2star': {'value': 2.2276737642640425e-05, 'unit': 's', 'symbol': 'T2e', 'decimals': 1}, 'single_qubit_gate_fidelity': {'value': 99.9, 'unit': '%', 'symbol': 'F1q'}, 'two_qubit_gate_fidelity': {'value': 96.6, 'unit': '%', 'symbol': 'F2q'}, 'initialization_fidelity': {'value': 99.2, 'unit': '%', 'symbol': 'Finit'}, 'readout_fidelity': {'value': 90.9, 'unit': '%', 'symbol': 'FR/O'}}}}}\n",
      "Last calibration data from 04/11/2021 - 16:42 PM\n"
     ]
    }
   ],
   "source": [
    "# select latest job (appears first in list of jobs)\n",
    "job = backend_jobs[0]\n",
    "print(f\"Found job with id {job['id']}\")\n",
    "result = qi_api.get_result_from_job(job['id'])\n",
    "calibration = qi_api.get_calibration_from_result(result['id'])\n",
    "print(calibration)\n",
    "\n",
    "calibration = remove_ordered_dict(calibration)\n",
    "print(calibration)\n",
    "date = calibration['parameters']['system']['last_calibration_date']['value']\n",
    "print(f'Last calibration data from {date}')"
   ],
   "metadata": {
    "collapsed": false,
    "pycharm": {
     "name": "#%%\n"
    }
   }
  },
  {
   "cell_type": "code",
   "execution_count": 12,
   "id": "4e591c19-14ca-4855-bf49-18731c1fc930",
   "metadata": {
    "execution": {
     "iopub.execute_input": "2021-10-20T10:35:29.797560Z",
     "iopub.status.busy": "2021-10-20T10:35:29.797058Z",
     "iopub.status.idle": "2021-10-20T10:35:29.805417Z",
     "shell.execute_reply": "2021-10-20T10:35:29.804563Z",
     "shell.execute_reply.started": "2021-10-20T10:35:29.797512Z"
    },
    "tags": []
   },
   "outputs": [
    {
     "data": {
      "text/plain": "{'url': 'https://api.quantum-inspire.com/calibration/109006/',\n 'backend': 'https://api.quantum-inspire.com/backends/8/',\n 'parameters': {'system': {'fridge_temperature': {'value': '20.9',\n    'unit': 'mK',\n    'symbol': 'Fridge temperature'},\n   'last_calibration_date': {'value': '04/11/2021 - 16:42 PM',\n    'unit': 'iso-8601',\n    'symbol': 'Calibration date'}},\n  'qubits': {'q0': {'t1': {'value': 1.7341880614618646e-05,\n     'unit': 's',\n     'symbol': 'T1',\n     'decimals': 1},\n    't2star': {'value': 2.6163761239800992e-05,\n     'unit': 's',\n     'symbol': 'T2e',\n     'decimals': 1},\n    'single_qubit_gate_fidelity': {'value': 99.9,\n     'unit': '%',\n     'symbol': 'F1q'},\n    'two_qubit_gate_fidelity': {'value': 98.1, 'unit': '%', 'symbol': 'F2q'},\n    'initialization_fidelity': {'value': 99.7, 'unit': '%', 'symbol': 'Finit'},\n    'readout_fidelity': {'value': 94.8, 'unit': '%', 'symbol': 'FR/O'}},\n   'q1': {'t1': {'value': 1.7563309792567438e-05,\n     'unit': 's',\n     'symbol': 'T1',\n     'decimals': 1},\n    't2star': {'value': 3.6048567025453444e-05,\n     'unit': 's',\n     'symbol': 'T2e',\n     'decimals': 1},\n    'single_qubit_gate_fidelity': {'value': 99.9,\n     'unit': '%',\n     'symbol': 'F1q'},\n    'two_qubit_gate_fidelity': {'value': 98.1, 'unit': '%', 'symbol': 'F2q'},\n    'initialization_fidelity': {'value': 99.7, 'unit': '%', 'symbol': 'Finit'},\n    'readout_fidelity': {'value': 95.0, 'unit': '%', 'symbol': 'FR/O'}},\n   'q2': {'t1': {'value': 1.2808111260217067e-05,\n     'unit': 's',\n     'symbol': 'T1',\n     'decimals': 1},\n    't2star': {'value': 2.6006702180440015e-05,\n     'unit': 's',\n     'symbol': 'T2e',\n     'decimals': 1},\n    'single_qubit_gate_fidelity': {'value': 99.8,\n     'unit': '%',\n     'symbol': 'F1q'},\n    'two_qubit_gate_fidelity': {'value': None, 'unit': '%', 'symbol': 'F2q'},\n    'initialization_fidelity': {'value': 99.0, 'unit': '%', 'symbol': 'Finit'},\n    'readout_fidelity': {'value': 98.2, 'unit': '%', 'symbol': 'FR/O'}},\n   'q3': {'t1': {'value': 2.672648895778518e-05,\n     'unit': 's',\n     'symbol': 'T1',\n     'decimals': 1},\n    't2star': {'value': 3.1446318593081655e-05,\n     'unit': 's',\n     'symbol': 'T2e',\n     'decimals': 1},\n    'single_qubit_gate_fidelity': {'value': 99.0,\n     'unit': '%',\n     'symbol': 'F1q'},\n    'two_qubit_gate_fidelity': {'value': 95.4, 'unit': '%', 'symbol': 'F2q'},\n    'initialization_fidelity': {'value': 98.1, 'unit': '%', 'symbol': 'Finit'},\n    'readout_fidelity': {'value': 97.8, 'unit': '%', 'symbol': 'FR/O'}},\n   'q4': {'t1': {'value': 1.5521000423090934e-05,\n     'unit': 's',\n     'symbol': 'T1',\n     'decimals': 1},\n    't2star': {'value': 2.2276737642640425e-05,\n     'unit': 's',\n     'symbol': 'T2e',\n     'decimals': 1},\n    'single_qubit_gate_fidelity': {'value': 99.9,\n     'unit': '%',\n     'symbol': 'F1q'},\n    'two_qubit_gate_fidelity': {'value': 96.6, 'unit': '%', 'symbol': 'F2q'},\n    'initialization_fidelity': {'value': 99.2, 'unit': '%', 'symbol': 'Finit'},\n    'readout_fidelity': {'value': 90.9, 'unit': '%', 'symbol': 'FR/O'}}}}}"
     },
     "execution_count": 12,
     "metadata": {},
     "output_type": "execute_result"
    }
   ],
   "source": [
    "calibration"
   ]
  },
  {
   "cell_type": "code",
   "execution_count": 46,
   "id": "ccb8006c-3b6c-4f04-9141-9a7637f0f6bc",
   "metadata": {
    "execution": {
     "iopub.execute_input": "2021-10-20T09:25:01.947986Z",
     "iopub.status.busy": "2021-10-20T09:25:01.947436Z",
     "iopub.status.idle": "2021-10-20T09:25:02.058970Z",
     "shell.execute_reply": "2021-10-20T09:25:02.058021Z",
     "shell.execute_reply.started": "2021-10-20T09:25:01.947918Z"
    }
   },
   "outputs": [
    {
     "data": {
      "text/plain": "\u001B[32mSystem\u001B[0m:\n",
      "text/html": "<pre style=\"white-space:pre;overflow-x:auto;line-height:normal;font-family:Menlo,'DejaVu Sans Mono',consolas,'Courier New',monospace\"><span style=\"color: #008000; text-decoration-color: #008000\">System</span>:\n</pre>\n"
     },
     "metadata": {},
     "output_type": "display_data"
    },
    {
     "data": {
      "text/plain": "        fridge_temperature: \u001B[1;36m20.9\u001B[0m \n",
      "text/html": "<pre style=\"white-space:pre;overflow-x:auto;line-height:normal;font-family:Menlo,'DejaVu Sans Mono',consolas,'Courier New',monospace\">        fridge_temperature: <span style=\"color: #008080; text-decoration-color: #008080; font-weight: bold\">20.9</span> \n</pre>\n"
     },
     "metadata": {},
     "output_type": "display_data"
    },
    {
     "data": {
      "text/plain": "        last_calibration_date: \u001B[1;36m04\u001B[0m/\u001B[1;36m11\u001B[0m/\u001B[1;36m2021\u001B[0m - \u001B[1;92m16:42\u001B[0m PM \n",
      "text/html": "<pre style=\"white-space:pre;overflow-x:auto;line-height:normal;font-family:Menlo,'DejaVu Sans Mono',consolas,'Courier New',monospace\">        last_calibration_date: <span style=\"color: #008080; text-decoration-color: #008080; font-weight: bold\">04</span>/<span style=\"color: #008080; text-decoration-color: #008080; font-weight: bold\">11</span>/<span style=\"color: #008080; text-decoration-color: #008080; font-weight: bold\">2021</span> - <span style=\"color: #00ff00; text-decoration-color: #00ff00; font-weight: bold\">16:42</span> PM \n</pre>\n"
     },
     "metadata": {},
     "output_type": "display_data"
    },
    {
     "data": {
      "text/plain": "\u001B[32mQubit\u001B[0m: q0\n",
      "text/html": "<pre style=\"white-space:pre;overflow-x:auto;line-height:normal;font-family:Menlo,'DejaVu Sans Mono',consolas,'Courier New',monospace\"><span style=\"color: #008000; text-decoration-color: #008000\">Qubit</span>: q0\n</pre>\n"
     },
     "metadata": {},
     "output_type": "display_data"
    },
    {
     "data": {
      "text/plain": "        t1: \u001B[1;36m1.7341880614618646e-05\u001B[0m \n",
      "text/html": "<pre style=\"white-space:pre;overflow-x:auto;line-height:normal;font-family:Menlo,'DejaVu Sans Mono',consolas,'Courier New',monospace\">        t1: <span style=\"color: #008080; text-decoration-color: #008080; font-weight: bold\">1.7341880614618646e-05</span> \n</pre>\n"
     },
     "metadata": {},
     "output_type": "display_data"
    },
    {
     "data": {
      "text/plain": "        t2star: \u001B[1;36m2.6163761239800992e-05\u001B[0m \n",
      "text/html": "<pre style=\"white-space:pre;overflow-x:auto;line-height:normal;font-family:Menlo,'DejaVu Sans Mono',consolas,'Courier New',monospace\">        t2star: <span style=\"color: #008080; text-decoration-color: #008080; font-weight: bold\">2.6163761239800992e-05</span> \n</pre>\n"
     },
     "metadata": {},
     "output_type": "display_data"
    },
    {
     "data": {
      "text/plain": "        single_qubit_gate_fidelity: \u001B[1;36m99.9\u001B[0m \u001B[1m[\u001B[0m%\u001B[1m]\u001B[0m\n",
      "text/html": "<pre style=\"white-space:pre;overflow-x:auto;line-height:normal;font-family:Menlo,'DejaVu Sans Mono',consolas,'Courier New',monospace\">        single_qubit_gate_fidelity: <span style=\"color: #008080; text-decoration-color: #008080; font-weight: bold\">99.9</span> <span style=\"font-weight: bold\">[</span>%<span style=\"font-weight: bold\">]</span>\n</pre>\n"
     },
     "metadata": {},
     "output_type": "display_data"
    },
    {
     "data": {
      "text/plain": "        two_qubit_gate_fidelity: \u001B[1;36m98.1\u001B[0m \u001B[1m[\u001B[0m%\u001B[1m]\u001B[0m\n",
      "text/html": "<pre style=\"white-space:pre;overflow-x:auto;line-height:normal;font-family:Menlo,'DejaVu Sans Mono',consolas,'Courier New',monospace\">        two_qubit_gate_fidelity: <span style=\"color: #008080; text-decoration-color: #008080; font-weight: bold\">98.1</span> <span style=\"font-weight: bold\">[</span>%<span style=\"font-weight: bold\">]</span>\n</pre>\n"
     },
     "metadata": {},
     "output_type": "display_data"
    },
    {
     "data": {
      "text/plain": "        initialization_fidelity: \u001B[1;36m99.7\u001B[0m \u001B[1m[\u001B[0m%\u001B[1m]\u001B[0m\n",
      "text/html": "<pre style=\"white-space:pre;overflow-x:auto;line-height:normal;font-family:Menlo,'DejaVu Sans Mono',consolas,'Courier New',monospace\">        initialization_fidelity: <span style=\"color: #008080; text-decoration-color: #008080; font-weight: bold\">99.7</span> <span style=\"font-weight: bold\">[</span>%<span style=\"font-weight: bold\">]</span>\n</pre>\n"
     },
     "metadata": {},
     "output_type": "display_data"
    },
    {
     "data": {
      "text/plain": "        readout_fidelity: \u001B[1;36m94.8\u001B[0m \u001B[1m[\u001B[0m%\u001B[1m]\u001B[0m\n",
      "text/html": "<pre style=\"white-space:pre;overflow-x:auto;line-height:normal;font-family:Menlo,'DejaVu Sans Mono',consolas,'Courier New',monospace\">        readout_fidelity: <span style=\"color: #008080; text-decoration-color: #008080; font-weight: bold\">94.8</span> <span style=\"font-weight: bold\">[</span>%<span style=\"font-weight: bold\">]</span>\n</pre>\n"
     },
     "metadata": {},
     "output_type": "display_data"
    },
    {
     "data": {
      "text/plain": "\u001B[32mQubit\u001B[0m: q1\n",
      "text/html": "<pre style=\"white-space:pre;overflow-x:auto;line-height:normal;font-family:Menlo,'DejaVu Sans Mono',consolas,'Courier New',monospace\"><span style=\"color: #008000; text-decoration-color: #008000\">Qubit</span>: q1\n</pre>\n"
     },
     "metadata": {},
     "output_type": "display_data"
    },
    {
     "data": {
      "text/plain": "        t1: \u001B[1;36m1.7563309792567438e-05\u001B[0m \n",
      "text/html": "<pre style=\"white-space:pre;overflow-x:auto;line-height:normal;font-family:Menlo,'DejaVu Sans Mono',consolas,'Courier New',monospace\">        t1: <span style=\"color: #008080; text-decoration-color: #008080; font-weight: bold\">1.7563309792567438e-05</span> \n</pre>\n"
     },
     "metadata": {},
     "output_type": "display_data"
    },
    {
     "data": {
      "text/plain": "        t2star: \u001B[1;36m3.6048567025453444e-05\u001B[0m \n",
      "text/html": "<pre style=\"white-space:pre;overflow-x:auto;line-height:normal;font-family:Menlo,'DejaVu Sans Mono',consolas,'Courier New',monospace\">        t2star: <span style=\"color: #008080; text-decoration-color: #008080; font-weight: bold\">3.6048567025453444e-05</span> \n</pre>\n"
     },
     "metadata": {},
     "output_type": "display_data"
    },
    {
     "data": {
      "text/plain": "        single_qubit_gate_fidelity: \u001B[1;36m99.9\u001B[0m \u001B[1m[\u001B[0m%\u001B[1m]\u001B[0m\n",
      "text/html": "<pre style=\"white-space:pre;overflow-x:auto;line-height:normal;font-family:Menlo,'DejaVu Sans Mono',consolas,'Courier New',monospace\">        single_qubit_gate_fidelity: <span style=\"color: #008080; text-decoration-color: #008080; font-weight: bold\">99.9</span> <span style=\"font-weight: bold\">[</span>%<span style=\"font-weight: bold\">]</span>\n</pre>\n"
     },
     "metadata": {},
     "output_type": "display_data"
    },
    {
     "data": {
      "text/plain": "        two_qubit_gate_fidelity: \u001B[1;36m98.1\u001B[0m \u001B[1m[\u001B[0m%\u001B[1m]\u001B[0m\n",
      "text/html": "<pre style=\"white-space:pre;overflow-x:auto;line-height:normal;font-family:Menlo,'DejaVu Sans Mono',consolas,'Courier New',monospace\">        two_qubit_gate_fidelity: <span style=\"color: #008080; text-decoration-color: #008080; font-weight: bold\">98.1</span> <span style=\"font-weight: bold\">[</span>%<span style=\"font-weight: bold\">]</span>\n</pre>\n"
     },
     "metadata": {},
     "output_type": "display_data"
    },
    {
     "data": {
      "text/plain": "        initialization_fidelity: \u001B[1;36m99.7\u001B[0m \u001B[1m[\u001B[0m%\u001B[1m]\u001B[0m\n",
      "text/html": "<pre style=\"white-space:pre;overflow-x:auto;line-height:normal;font-family:Menlo,'DejaVu Sans Mono',consolas,'Courier New',monospace\">        initialization_fidelity: <span style=\"color: #008080; text-decoration-color: #008080; font-weight: bold\">99.7</span> <span style=\"font-weight: bold\">[</span>%<span style=\"font-weight: bold\">]</span>\n</pre>\n"
     },
     "metadata": {},
     "output_type": "display_data"
    },
    {
     "data": {
      "text/plain": "        readout_fidelity: \u001B[1;36m95.0\u001B[0m \u001B[1m[\u001B[0m%\u001B[1m]\u001B[0m\n",
      "text/html": "<pre style=\"white-space:pre;overflow-x:auto;line-height:normal;font-family:Menlo,'DejaVu Sans Mono',consolas,'Courier New',monospace\">        readout_fidelity: <span style=\"color: #008080; text-decoration-color: #008080; font-weight: bold\">95.0</span> <span style=\"font-weight: bold\">[</span>%<span style=\"font-weight: bold\">]</span>\n</pre>\n"
     },
     "metadata": {},
     "output_type": "display_data"
    },
    {
     "data": {
      "text/plain": "\u001B[32mQubit\u001B[0m: q2\n",
      "text/html": "<pre style=\"white-space:pre;overflow-x:auto;line-height:normal;font-family:Menlo,'DejaVu Sans Mono',consolas,'Courier New',monospace\"><span style=\"color: #008000; text-decoration-color: #008000\">Qubit</span>: q2\n</pre>\n"
     },
     "metadata": {},
     "output_type": "display_data"
    },
    {
     "data": {
      "text/plain": "        t1: \u001B[1;36m1.2808111260217067e-05\u001B[0m \n",
      "text/html": "<pre style=\"white-space:pre;overflow-x:auto;line-height:normal;font-family:Menlo,'DejaVu Sans Mono',consolas,'Courier New',monospace\">        t1: <span style=\"color: #008080; text-decoration-color: #008080; font-weight: bold\">1.2808111260217067e-05</span> \n</pre>\n"
     },
     "metadata": {},
     "output_type": "display_data"
    },
    {
     "data": {
      "text/plain": "        t2star: \u001B[1;36m2.6006702180440015e-05\u001B[0m \n",
      "text/html": "<pre style=\"white-space:pre;overflow-x:auto;line-height:normal;font-family:Menlo,'DejaVu Sans Mono',consolas,'Courier New',monospace\">        t2star: <span style=\"color: #008080; text-decoration-color: #008080; font-weight: bold\">2.6006702180440015e-05</span> \n</pre>\n"
     },
     "metadata": {},
     "output_type": "display_data"
    },
    {
     "data": {
      "text/plain": "        single_qubit_gate_fidelity: \u001B[1;36m99.8\u001B[0m \u001B[1m[\u001B[0m%\u001B[1m]\u001B[0m\n",
      "text/html": "<pre style=\"white-space:pre;overflow-x:auto;line-height:normal;font-family:Menlo,'DejaVu Sans Mono',consolas,'Courier New',monospace\">        single_qubit_gate_fidelity: <span style=\"color: #008080; text-decoration-color: #008080; font-weight: bold\">99.8</span> <span style=\"font-weight: bold\">[</span>%<span style=\"font-weight: bold\">]</span>\n</pre>\n"
     },
     "metadata": {},
     "output_type": "display_data"
    },
    {
     "data": {
      "text/plain": "        two_qubit_gate_fidelity: \u001B[3;35mNone\u001B[0m \u001B[1m[\u001B[0m%\u001B[1m]\u001B[0m\n",
      "text/html": "<pre style=\"white-space:pre;overflow-x:auto;line-height:normal;font-family:Menlo,'DejaVu Sans Mono',consolas,'Courier New',monospace\">        two_qubit_gate_fidelity: <span style=\"color: #800080; text-decoration-color: #800080; font-style: italic\">None</span> <span style=\"font-weight: bold\">[</span>%<span style=\"font-weight: bold\">]</span>\n</pre>\n"
     },
     "metadata": {},
     "output_type": "display_data"
    },
    {
     "data": {
      "text/plain": "        initialization_fidelity: \u001B[1;36m99.0\u001B[0m \u001B[1m[\u001B[0m%\u001B[1m]\u001B[0m\n",
      "text/html": "<pre style=\"white-space:pre;overflow-x:auto;line-height:normal;font-family:Menlo,'DejaVu Sans Mono',consolas,'Courier New',monospace\">        initialization_fidelity: <span style=\"color: #008080; text-decoration-color: #008080; font-weight: bold\">99.0</span> <span style=\"font-weight: bold\">[</span>%<span style=\"font-weight: bold\">]</span>\n</pre>\n"
     },
     "metadata": {},
     "output_type": "display_data"
    },
    {
     "data": {
      "text/plain": "        readout_fidelity: \u001B[1;36m98.2\u001B[0m \u001B[1m[\u001B[0m%\u001B[1m]\u001B[0m\n",
      "text/html": "<pre style=\"white-space:pre;overflow-x:auto;line-height:normal;font-family:Menlo,'DejaVu Sans Mono',consolas,'Courier New',monospace\">        readout_fidelity: <span style=\"color: #008080; text-decoration-color: #008080; font-weight: bold\">98.2</span> <span style=\"font-weight: bold\">[</span>%<span style=\"font-weight: bold\">]</span>\n</pre>\n"
     },
     "metadata": {},
     "output_type": "display_data"
    },
    {
     "data": {
      "text/plain": "\u001B[32mQubit\u001B[0m: q3\n",
      "text/html": "<pre style=\"white-space:pre;overflow-x:auto;line-height:normal;font-family:Menlo,'DejaVu Sans Mono',consolas,'Courier New',monospace\"><span style=\"color: #008000; text-decoration-color: #008000\">Qubit</span>: q3\n</pre>\n"
     },
     "metadata": {},
     "output_type": "display_data"
    },
    {
     "data": {
      "text/plain": "        t1: \u001B[1;36m2.672648895778518e-05\u001B[0m \n",
      "text/html": "<pre style=\"white-space:pre;overflow-x:auto;line-height:normal;font-family:Menlo,'DejaVu Sans Mono',consolas,'Courier New',monospace\">        t1: <span style=\"color: #008080; text-decoration-color: #008080; font-weight: bold\">2.672648895778518e-05</span> \n</pre>\n"
     },
     "metadata": {},
     "output_type": "display_data"
    },
    {
     "data": {
      "text/plain": "        t2star: \u001B[1;36m3.1446318593081655e-05\u001B[0m \n",
      "text/html": "<pre style=\"white-space:pre;overflow-x:auto;line-height:normal;font-family:Menlo,'DejaVu Sans Mono',consolas,'Courier New',monospace\">        t2star: <span style=\"color: #008080; text-decoration-color: #008080; font-weight: bold\">3.1446318593081655e-05</span> \n</pre>\n"
     },
     "metadata": {},
     "output_type": "display_data"
    },
    {
     "data": {
      "text/plain": "        single_qubit_gate_fidelity: \u001B[1;36m99.0\u001B[0m \u001B[1m[\u001B[0m%\u001B[1m]\u001B[0m\n",
      "text/html": "<pre style=\"white-space:pre;overflow-x:auto;line-height:normal;font-family:Menlo,'DejaVu Sans Mono',consolas,'Courier New',monospace\">        single_qubit_gate_fidelity: <span style=\"color: #008080; text-decoration-color: #008080; font-weight: bold\">99.0</span> <span style=\"font-weight: bold\">[</span>%<span style=\"font-weight: bold\">]</span>\n</pre>\n"
     },
     "metadata": {},
     "output_type": "display_data"
    },
    {
     "data": {
      "text/plain": "        two_qubit_gate_fidelity: \u001B[1;36m95.4\u001B[0m \u001B[1m[\u001B[0m%\u001B[1m]\u001B[0m\n",
      "text/html": "<pre style=\"white-space:pre;overflow-x:auto;line-height:normal;font-family:Menlo,'DejaVu Sans Mono',consolas,'Courier New',monospace\">        two_qubit_gate_fidelity: <span style=\"color: #008080; text-decoration-color: #008080; font-weight: bold\">95.4</span> <span style=\"font-weight: bold\">[</span>%<span style=\"font-weight: bold\">]</span>\n</pre>\n"
     },
     "metadata": {},
     "output_type": "display_data"
    },
    {
     "data": {
      "text/plain": "        initialization_fidelity: \u001B[1;36m98.1\u001B[0m \u001B[1m[\u001B[0m%\u001B[1m]\u001B[0m\n",
      "text/html": "<pre style=\"white-space:pre;overflow-x:auto;line-height:normal;font-family:Menlo,'DejaVu Sans Mono',consolas,'Courier New',monospace\">        initialization_fidelity: <span style=\"color: #008080; text-decoration-color: #008080; font-weight: bold\">98.1</span> <span style=\"font-weight: bold\">[</span>%<span style=\"font-weight: bold\">]</span>\n</pre>\n"
     },
     "metadata": {},
     "output_type": "display_data"
    },
    {
     "data": {
      "text/plain": "        readout_fidelity: \u001B[1;36m97.8\u001B[0m \u001B[1m[\u001B[0m%\u001B[1m]\u001B[0m\n",
      "text/html": "<pre style=\"white-space:pre;overflow-x:auto;line-height:normal;font-family:Menlo,'DejaVu Sans Mono',consolas,'Courier New',monospace\">        readout_fidelity: <span style=\"color: #008080; text-decoration-color: #008080; font-weight: bold\">97.8</span> <span style=\"font-weight: bold\">[</span>%<span style=\"font-weight: bold\">]</span>\n</pre>\n"
     },
     "metadata": {},
     "output_type": "display_data"
    },
    {
     "data": {
      "text/plain": "\u001B[32mQubit\u001B[0m: q4\n",
      "text/html": "<pre style=\"white-space:pre;overflow-x:auto;line-height:normal;font-family:Menlo,'DejaVu Sans Mono',consolas,'Courier New',monospace\"><span style=\"color: #008000; text-decoration-color: #008000\">Qubit</span>: q4\n</pre>\n"
     },
     "metadata": {},
     "output_type": "display_data"
    },
    {
     "data": {
      "text/plain": "        t1: \u001B[1;36m1.5521000423090934e-05\u001B[0m \n",
      "text/html": "<pre style=\"white-space:pre;overflow-x:auto;line-height:normal;font-family:Menlo,'DejaVu Sans Mono',consolas,'Courier New',monospace\">        t1: <span style=\"color: #008080; text-decoration-color: #008080; font-weight: bold\">1.5521000423090934e-05</span> \n</pre>\n"
     },
     "metadata": {},
     "output_type": "display_data"
    },
    {
     "data": {
      "text/plain": "        t2star: \u001B[1;36m2.2276737642640425e-05\u001B[0m \n",
      "text/html": "<pre style=\"white-space:pre;overflow-x:auto;line-height:normal;font-family:Menlo,'DejaVu Sans Mono',consolas,'Courier New',monospace\">        t2star: <span style=\"color: #008080; text-decoration-color: #008080; font-weight: bold\">2.2276737642640425e-05</span> \n</pre>\n"
     },
     "metadata": {},
     "output_type": "display_data"
    },
    {
     "data": {
      "text/plain": "        single_qubit_gate_fidelity: \u001B[1;36m99.9\u001B[0m \u001B[1m[\u001B[0m%\u001B[1m]\u001B[0m\n",
      "text/html": "<pre style=\"white-space:pre;overflow-x:auto;line-height:normal;font-family:Menlo,'DejaVu Sans Mono',consolas,'Courier New',monospace\">        single_qubit_gate_fidelity: <span style=\"color: #008080; text-decoration-color: #008080; font-weight: bold\">99.9</span> <span style=\"font-weight: bold\">[</span>%<span style=\"font-weight: bold\">]</span>\n</pre>\n"
     },
     "metadata": {},
     "output_type": "display_data"
    },
    {
     "data": {
      "text/plain": "        two_qubit_gate_fidelity: \u001B[1;36m96.6\u001B[0m \u001B[1m[\u001B[0m%\u001B[1m]\u001B[0m\n",
      "text/html": "<pre style=\"white-space:pre;overflow-x:auto;line-height:normal;font-family:Menlo,'DejaVu Sans Mono',consolas,'Courier New',monospace\">        two_qubit_gate_fidelity: <span style=\"color: #008080; text-decoration-color: #008080; font-weight: bold\">96.6</span> <span style=\"font-weight: bold\">[</span>%<span style=\"font-weight: bold\">]</span>\n</pre>\n"
     },
     "metadata": {},
     "output_type": "display_data"
    },
    {
     "data": {
      "text/plain": "        initialization_fidelity: \u001B[1;36m99.2\u001B[0m \u001B[1m[\u001B[0m%\u001B[1m]\u001B[0m\n",
      "text/html": "<pre style=\"white-space:pre;overflow-x:auto;line-height:normal;font-family:Menlo,'DejaVu Sans Mono',consolas,'Courier New',monospace\">        initialization_fidelity: <span style=\"color: #008080; text-decoration-color: #008080; font-weight: bold\">99.2</span> <span style=\"font-weight: bold\">[</span>%<span style=\"font-weight: bold\">]</span>\n</pre>\n"
     },
     "metadata": {},
     "output_type": "display_data"
    },
    {
     "data": {
      "text/plain": "        readout_fidelity: \u001B[1;36m90.9\u001B[0m \u001B[1m[\u001B[0m%\u001B[1m]\u001B[0m\n",
      "text/html": "<pre style=\"white-space:pre;overflow-x:auto;line-height:normal;font-family:Menlo,'DejaVu Sans Mono',consolas,'Courier New',monospace\">        readout_fidelity: <span style=\"color: #008080; text-decoration-color: #008080; font-weight: bold\">90.9</span> <span style=\"font-weight: bold\">[</span>%<span style=\"font-weight: bold\">]</span>\n</pre>\n"
     },
     "metadata": {},
     "output_type": "display_data"
    },
    {
     "data": {
      "text/plain": "\u001B[32mCalibration\u001B[0m: last_calibration_date\n",
      "text/html": "<pre style=\"white-space:pre;overflow-x:auto;line-height:normal;font-family:Menlo,'DejaVu Sans Mono',consolas,'Courier New',monospace\"><span style=\"color: #008000; text-decoration-color: #008000\">Calibration</span>: last_calibration_date\n</pre>\n"
     },
     "metadata": {},
     "output_type": "display_data"
    },
    {
     "data": {
      "text/plain": "        \u001B[1;36m04\u001B[0m/\u001B[1;36m11\u001B[0m/\u001B[1;36m2021\u001B[0m - \u001B[1;92m16:42\u001B[0m PM\n",
      "text/html": "<pre style=\"white-space:pre;overflow-x:auto;line-height:normal;font-family:Menlo,'DejaVu Sans Mono',consolas,'Courier New',monospace\">        <span style=\"color: #008080; text-decoration-color: #008080; font-weight: bold\">04</span>/<span style=\"color: #008080; text-decoration-color: #008080; font-weight: bold\">11</span>/<span style=\"color: #008080; text-decoration-color: #008080; font-weight: bold\">2021</span> - <span style=\"color: #00ff00; text-decoration-color: #00ff00; font-weight: bold\">16:42</span> PM\n</pre>\n"
     },
     "metadata": {},
     "output_type": "display_data"
    },
    {
     "data": {
      "text/plain": "\u001B[32mother fields\u001B[0m:",
      "text/html": "<pre style=\"white-space:pre;overflow-x:auto;line-height:normal;font-family:Menlo,'DejaVu Sans Mono',consolas,'Courier New',monospace\"><span style=\"color: #008000; text-decoration-color: #008000\">other fields</span>:</pre>\n"
     },
     "metadata": {},
     "output_type": "display_data"
    },
    {
     "data": {
      "text/plain": "        \u001B[1m{\u001B[0m\u001B[32m'value'\u001B[0m, \u001B[32m'unit'\u001B[0m, \u001B[32m'symbol'\u001B[0m\u001B[1m}\u001B[0m\n",
      "text/html": "<pre style=\"white-space:pre;overflow-x:auto;line-height:normal;font-family:Menlo,'DejaVu Sans Mono',consolas,'Courier New',monospace\">        <span style=\"font-weight: bold\">{</span><span style=\"color: #008000; text-decoration-color: #008000\">'value'</span>, <span style=\"color: #008000; text-decoration-color: #008000\">'unit'</span>, <span style=\"color: #008000; text-decoration-color: #008000\">'symbol'</span><span style=\"font-weight: bold\">}</span>\n</pre>\n"
     },
     "metadata": {},
     "output_type": "display_data"
    },
    {
     "name": "stdout",
     "output_type": "stream",
     "text": [
      "readout error calibration does not exist\n"
     ]
    },
    {
     "data": {
      "text/plain": "<calibration of backend https://api.quantum-inspire.com/backends/8/ from time 04/11/2021 - 16:42 PM>"
     },
     "execution_count": 46,
     "metadata": {},
     "output_type": "execute_result"
    }
   ],
   "source": [
    "s = CalibrationViewer(calibration)\n",
    "s.show_system_parameters()\n",
    "s.show_qubit_parameters()\n",
    "s.show_calibration_field('last_calibration_date')\n",
    "\n",
    "try:\n",
    "    c = s.show_calibration_field('readout_error_calibration')\n",
    "except KeyError:\n",
    "    print('readout error calibration does not exist')\n",
    "\n",
    "s"
   ]
  },
  {
   "cell_type": "code",
   "execution_count": 45,
   "id": "09a0d14f-10ac-44a2-9f10-789627b05f55",
   "metadata": {
    "execution": {
     "iopub.execute_input": "2021-10-20T09:25:02.066044Z",
     "iopub.status.busy": "2021-10-20T09:25:02.065384Z",
     "iopub.status.idle": "2021-10-20T09:25:02.070275Z",
     "shell.execute_reply": "2021-10-20T09:25:02.069550Z",
     "shell.execute_reply.started": "2021-10-20T09:25:02.065968Z"
    },
    "pycharm": {
     "name": "#%%\n"
    }
   },
   "outputs": [
    {
     "data": {
      "text/plain": "<calibration of backend https://api.quantum-inspire.com/backends/8/ from time 04/11/2021 - 16:42 PM>"
     },
     "execution_count": 45,
     "metadata": {},
     "output_type": "execute_result"
    }
   ],
   "source": [
    "# TODO: pass standard deviations in calibration values (the decimals field is not suitable)"
   ]
  },
  {
   "cell_type": "code",
   "execution_count": 44,
   "id": "2ffc3702-a6f4-4a79-8fc1-0e48ea5bb3e1",
   "metadata": {},
   "outputs": [
    {
     "data": {
      "text/plain": "'{\"url\": \"https://api.quantum-inspire.com/calibration/109006/\", \"backend\": \"https://api.quantum-inspire.com/backends/8/\", \"parameters\": {\"system\": {\"fridge_temperature\": {\"value\": \"20.9\", \"unit\": \"mK\", \"symbol\": \"Fridge temperature\"}, \"last_calibration_date\": {\"value\": \"04/11/2021 - 16:42 PM\", \"unit\": \"iso-8601\", \"symbol\": \"Calibration date\"}}, \"qubits\": {\"q0\": {\"t1\": {\"value\": 1.7341880614618646e-05, \"unit\": \"s\", \"symbol\": \"T1\", \"decimals\": 1}, \"t2star\": {\"value\": 2.6163761239800992e-05, \"unit\": \"s\", \"symbol\": \"T2e\", \"decimals\": 1}, \"single_qubit_gate_fidelity\": {\"value\": 99.9, \"unit\": \"%\", \"symbol\": \"F1q\"}, \"two_qubit_gate_fidelity\": {\"value\": 98.1, \"unit\": \"%\", \"symbol\": \"F2q\"}, \"initialization_fidelity\": {\"value\": 99.7, \"unit\": \"%\", \"symbol\": \"Finit\"}, \"readout_fidelity\": {\"value\": 94.8, \"unit\": \"%\", \"symbol\": \"FR/O\"}}, \"q1\": {\"t1\": {\"value\": 1.7563309792567438e-05, \"unit\": \"s\", \"symbol\": \"T1\", \"decimals\": 1}, \"t2star\": {\"value\": 3.6048567025453444e-05, \"unit\": \"s\", \"symbol\": \"T2e\", \"decimals\": 1}, \"single_qubit_gate_fidelity\": {\"value\": 99.9, \"unit\": \"%\", \"symbol\": \"F1q\"}, \"two_qubit_gate_fidelity\": {\"value\": 98.1, \"unit\": \"%\", \"symbol\": \"F2q\"}, \"initialization_fidelity\": {\"value\": 99.7, \"unit\": \"%\", \"symbol\": \"Finit\"}, \"readout_fidelity\": {\"value\": 95.0, \"unit\": \"%\", \"symbol\": \"FR/O\"}}, \"q2\": {\"t1\": {\"value\": 1.2808111260217067e-05, \"unit\": \"s\", \"symbol\": \"T1\", \"decimals\": 1}, \"t2star\": {\"value\": 2.6006702180440015e-05, \"unit\": \"s\", \"symbol\": \"T2e\", \"decimals\": 1}, \"single_qubit_gate_fidelity\": {\"value\": 99.8, \"unit\": \"%\", \"symbol\": \"F1q\"}, \"two_qubit_gate_fidelity\": {\"value\": null, \"unit\": \"%\", \"symbol\": \"F2q\"}, \"initialization_fidelity\": {\"value\": 99.0, \"unit\": \"%\", \"symbol\": \"Finit\"}, \"readout_fidelity\": {\"value\": 98.2, \"unit\": \"%\", \"symbol\": \"FR/O\"}}, \"q3\": {\"t1\": {\"value\": 2.672648895778518e-05, \"unit\": \"s\", \"symbol\": \"T1\", \"decimals\": 1}, \"t2star\": {\"value\": 3.1446318593081655e-05, \"unit\": \"s\", \"symbol\": \"T2e\", \"decimals\": 1}, \"single_qubit_gate_fidelity\": {\"value\": 99.0, \"unit\": \"%\", \"symbol\": \"F1q\"}, \"two_qubit_gate_fidelity\": {\"value\": 95.4, \"unit\": \"%\", \"symbol\": \"F2q\"}, \"initialization_fidelity\": {\"value\": 98.1, \"unit\": \"%\", \"symbol\": \"Finit\"}, \"readout_fidelity\": {\"value\": 97.8, \"unit\": \"%\", \"symbol\": \"FR/O\"}}, \"q4\": {\"t1\": {\"value\": 1.5521000423090934e-05, \"unit\": \"s\", \"symbol\": \"T1\", \"decimals\": 1}, \"t2star\": {\"value\": 2.2276737642640425e-05, \"unit\": \"s\", \"symbol\": \"T2e\", \"decimals\": 1}, \"single_qubit_gate_fidelity\": {\"value\": 99.9, \"unit\": \"%\", \"symbol\": \"F1q\"}, \"two_qubit_gate_fidelity\": {\"value\": 96.6, \"unit\": \"%\", \"symbol\": \"F2q\"}, \"initialization_fidelity\": {\"value\": 99.2, \"unit\": \"%\", \"symbol\": \"Finit\"}, \"readout_fidelity\": {\"value\": 90.9, \"unit\": \"%\", \"symbol\": \"FR/O\"}}}}}'"
     },
     "execution_count": 44,
     "metadata": {},
     "output_type": "execute_result"
    }
   ],
   "source": [
    "from pprint import pprint\n",
    "# pprint(str(s))\n",
    "str(s)"
   ]
  }
 ],
 "metadata": {
  "kernelspec": {
   "name": "conda-env-qi-py3.8-py",
   "language": "python",
   "display_name": "Python [conda env:qi-py3.8] *"
  },
  "language_info": {
   "codemirror_mode": {
    "name": "ipython",
    "version": 3
   },
   "file_extension": ".py",
   "mimetype": "text/x-python",
   "name": "python",
   "nbconvert_exporter": "python",
   "pygments_lexer": "ipython3",
   "version": "3.8.8"
  }
 },
 "nbformat": 4,
 "nbformat_minor": 5
}