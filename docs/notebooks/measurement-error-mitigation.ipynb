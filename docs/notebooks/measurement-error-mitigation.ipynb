{
 "cells": [
  {
   "cell_type": "markdown",
   "metadata": {
    "tags": [
     "remove_cell"
    ]
   },
   "source": [
    "# Measurement Error Mitigation on Quantum Inspire\n",
    "Pieter Eendebak <pieter.eendebak@tno.nl><br/>\n",
    "\n",
    "For more details see [Qiskit textbook on measurement error mitigation](https://qiskit.org/textbook/ch-quantum-hardware/measurement-error-mitigation.html) and [Mitiq documentation](https://mitiq.readthedocs.io/en/stable/readme.html).\n",
    "\n",
    "For quantum devices, in particular spin-qubits, the measurement error is significant with respect to other sources of errors. We can reduce the effect of measurement errors using measurement error mitigation. This is particularly important when different qubits have different readout fidelities or when there is a cross-talk between the qubits readouts.\n",
    "\n",
    "To install the required dependencies for this notebook run: `pip install qiskit rich quantuminspire requests`"
   ]
  },
  {
   "cell_type": "code",
   "execution_count": 1,
   "metadata": {},
   "outputs": [],
   "source": [
    "import logging\n",
    "\n",
    "import numpy as np\n",
    "import qiskit\n",
    "import requests\n",
    "from qiskit import Aer, QuantumCircuit, QuantumRegister, assemble, execute, transpile\n",
    "from qiskit.ignis.mitigation.measurement import CompleteMeasFitter, complete_meas_cal\n",
    "from qiskit.providers.aer.noise import NoiseModel, ReadoutError\n",
    "from qiskit.providers.aer.noise.errors import depolarizing_error, pauli_error\n",
    "from qiskit.visualization import plot_histogram\n",
    "from quantuminspire.api import QuantumInspireAPI\n",
    "from quantuminspire.credentials import get_token_authentication, load_account\n",
    "from quantuminspire.qiskit import QI\n",
    "from rich import pretty\n",
    "\n",
    "pretty.install()\n",
    "\n",
    "\n",
    "def get_qi_calibration_from_qiskit_result(qi_job, api, authentication) -> dict:\n",
    "    \"\"\" Return calibration data from a QI job \"\"\"\n",
    "    project = api.get_project(qi_job.job_id())\n",
    "    # NOTE: due to limited capabilties of the QI framework this is the latest job, perhaps not the actual job\n",
    "    job = api.get_jobs_from_project(project[\"id\"])[0]\n",
    "    result = api.get_result_from_job(job[\"id\"])\n",
    "    c = result[\"calibration\"]\n",
    "    result = requests.get(c, auth=authentication)\n",
    "    calibration = result.json()\n",
    "    return calibration"
   ]
  },
  {
   "cell_type": "markdown",
   "metadata": {},
   "source": [
    "## Introduction\n",
    "\n",
    "We will measure a Bell state, first without error mitigation, and then with error mitigation. We perform the calculations on real hardware (or on a simulator when the hardware is not available)."
   ]
  },
  {
   "cell_type": "code",
   "execution_count": 2,
   "metadata": {},
   "outputs": [],
   "source": [
    "def spin_2_noise_model(p: float = 0.01):\n",
    "    \"\"\" Define noise model representation for Spin-2 \"\"\"\n",
    "    noise_model = NoiseModel()\n",
    "    error_gate = pauli_error([(\"X\", p), (\"I\", 1 - p)])\n",
    "\n",
    "    noise_model.add_all_qubit_quantum_error(error_gate, [\"u1\", \"u2\", \"u3\", \"rx\", \"ry\", \"x\", \"y\"])\n",
    "\n",
    "    read_err = ReadoutError([[0.9, 0.1], [0.2, 0.8]])\n",
    "    noise_model.add_readout_error(read_err, [0])\n",
    "    read_err = ReadoutError([[0.7, 0.3], [0.25, 0.75]])\n",
    "    noise_model.add_readout_error(read_err, [1])\n",
    "    return noise_model\n",
    "\n",
    "\n",
    "noise_model_spin2 = spin_2_noise_model()"
   ]
  },
  {
   "cell_type": "markdown",
   "metadata": {},
   "source": [
    "## Set up connection to QI"
   ]
  },
  {
   "cell_type": "markdown",
   "metadata": {},
   "source": [
    "We expect the user to have set up the token authentication as described [here](https://github.com/qutech-delft/quantuminspire#configure-your-token-credentials-for-quantum-inspire) in order to be able to access the Spin-2 backend in the following cells."
   ]
  },
  {
   "cell_type": "code",
   "execution_count": 3,
   "metadata": {},
   "outputs": [
    {
     "name": "stdout",
     "output_type": "stream",
     "text": [
      "QI connection not available, fall-back to simulation.\n"
     ]
    }
   ],
   "source": [
    "try:\n",
    "    authentication = get_token_authentication(load_account())\n",
    "    qi_api = QuantumInspireAPI(authentication=authentication)\n",
    "    QI.set_authentication(authentication)\n",
    "    qi_backend = QI.get_backend(\"Spin-2\")\n",
    "except:\n",
    "    print(\"QI connection not available, fall-back to simulation.\")\n",
    "    qi_api = None\n",
    "    qi_backend = None"
   ]
  },
  {
   "cell_type": "code",
   "execution_count": 4,
   "metadata": {},
   "outputs": [],
   "source": [
    "def execute_circuit_spin2(qc, qi_backend, shots=2048):\n",
    "    \"\"\"  Execute circuit on Spin-2 with fall-back to simulation \"\"\"\n",
    "    try:\n",
    "        t_qc = transpile(qc, qi_backend)\n",
    "        qobj = assemble(t_qc, shots=shots)\n",
    "        logging.info(f\"execute_circuit_spin2: run on {backend}\")\n",
    "        qi_job = execute(qc, backend=qi_backend, shots=shots)\n",
    "\n",
    "        result = qi_job.result()\n",
    "    except Exception as ex:\n",
    "        print(f\"Failed to run on backend {qi_backend}: {ex}, fall-back to simulation\")\n",
    "        logging.info(\"execute_circuit_spin2: fallback to simulation\")\n",
    "        backend = Aer.get_backend(\"qasm_simulator\")\n",
    "        result = backend.run(qc, shots=shots, noise_model=noise_model_spin2).result()\n",
    "        qi_job = None\n",
    "    return result, qi_job"
   ]
  },
  {
   "cell_type": "markdown",
   "metadata": {},
   "source": [
    "## Error mitigation for Spin-2"
   ]
  },
  {
   "cell_type": "markdown",
   "metadata": {},
   "source": [
    "Run error mitigation test on a Bell state $(\\left|00\\right\\rangle+\\left|11\\right\\rangle)/\\sqrt{2}$."
   ]
  },
  {
   "cell_type": "code",
   "execution_count": 5,
   "metadata": {},
   "outputs": [
    {
     "data": {
      "image/png": "[encoded data removed]"
     },
     "metadata": {},
     "output_type": "display_data"
    },
    {
     "name": "stdout",
     "output_type": "stream",
     "text": [
      "Failed to run on backend None: local variable 'backend' referenced before assignment, fall-back to simulation\n",
      "{'10': 412, '00': 704, '11': 659, '01': 273}\n"
     ]
    }
   ],
   "source": [
    "qc = QuantumCircuit(2, name=\"Bell state\")\n",
    "qc.h(0)\n",
    "qc.cx(0, 1)\n",
    "qc.measure_all()\n",
    "display(qc.draw(output=\"mpl\"))\n",
    "\n",
    "bell_measurement_result, qi_job = execute_circuit_spin2(qc, qi_backend)\n",
    "noisy_counts = bell_measurement_result.get_counts()\n",
    "\n",
    "print(noisy_counts)"
   ]
  },
  {
   "cell_type": "code",
   "execution_count": 6,
   "metadata": {},
   "outputs": [
    {
     "data": {
      "text/html": [
       "<pre style=\"white-space:pre;overflow-x:auto;line-height:normal;font-family:Menlo,'DejaVu Sans Mono',consolas,'Courier New',monospace\"><span style=\"color: #800080; text-decoration-color: #800080; font-weight: bold\">array</span><span style=\"font-weight: bold\">([[</span><span style=\"color: #008080; text-decoration-color: #008080; font-weight: bold\">0.7421875</span> , <span style=\"color: #008080; text-decoration-color: #008080; font-weight: bold\">0.12890625</span>, <span style=\"color: #008080; text-decoration-color: #008080; font-weight: bold\">0</span>.        , <span style=\"color: #008080; text-decoration-color: #008080; font-weight: bold\">0.0390625</span> <span style=\"font-weight: bold\">]</span>,\n",
       "       <span style=\"font-weight: bold\">[</span><span style=\"color: #008080; text-decoration-color: #008080; font-weight: bold\">0.11328125</span>, <span style=\"color: #008080; text-decoration-color: #008080; font-weight: bold\">0.62890625</span>, <span style=\"color: #008080; text-decoration-color: #008080; font-weight: bold\">0</span>.        , <span style=\"color: #008080; text-decoration-color: #008080; font-weight: bold\">0.13671875</span><span style=\"font-weight: bold\">]</span>,\n",
       "       <span style=\"font-weight: bold\">[</span><span style=\"color: #008080; text-decoration-color: #008080; font-weight: bold\">0.140625</span>  , <span style=\"color: #008080; text-decoration-color: #008080; font-weight: bold\">0.05859375</span>, <span style=\"color: #008080; text-decoration-color: #008080; font-weight: bold\">1</span>.        , <span style=\"color: #008080; text-decoration-color: #008080; font-weight: bold\">0.11328125</span><span style=\"font-weight: bold\">]</span>,\n",
       "       <span style=\"font-weight: bold\">[</span><span style=\"color: #008080; text-decoration-color: #008080; font-weight: bold\">0.00390625</span>, <span style=\"color: #008080; text-decoration-color: #008080; font-weight: bold\">0.18359375</span>, <span style=\"color: #008080; text-decoration-color: #008080; font-weight: bold\">0</span>.        , <span style=\"color: #008080; text-decoration-color: #008080; font-weight: bold\">0.7109375</span> <span style=\"font-weight: bold\">]])</span>\n",
       "</pre>\n"
      ],
      "text/plain": [
       "\u001b[1;35marray\u001b[0m\u001b[1m(\u001b[0m\u001b[1m[\u001b[0m\u001b[1m[\u001b[0m\u001b[1;36m0.7421875\u001b[0m , \u001b[1;36m0.12890625\u001b[0m, \u001b[1;36m0\u001b[0m.        , \u001b[1;36m0.0390625\u001b[0m \u001b[1m]\u001b[0m,\n",
       "       \u001b[1m[\u001b[0m\u001b[1;36m0.11328125\u001b[0m, \u001b[1;36m0.62890625\u001b[0m, \u001b[1;36m0\u001b[0m.        , \u001b[1;36m0.13671875\u001b[0m\u001b[1m]\u001b[0m,\n",
       "       \u001b[1m[\u001b[0m\u001b[1;36m0.140625\u001b[0m  , \u001b[1;36m0.05859375\u001b[0m, \u001b[1;36m1\u001b[0m.        , \u001b[1;36m0.11328125\u001b[0m\u001b[1m]\u001b[0m,\n",
       "       \u001b[1m[\u001b[0m\u001b[1;36m0.00390625\u001b[0m, \u001b[1;36m0.18359375\u001b[0m, \u001b[1;36m0\u001b[0m.        , \u001b[1;36m0.7109375\u001b[0m \u001b[1m]\u001b[0m\u001b[1m]\u001b[0m\u001b[1m)\u001b[0m\n"
      ]
     },
     "metadata": {},
     "output_type": "display_data"
    }
   ],
   "source": [
    "if qi_job:\n",
    "    cr = get_qi_calibration_from_qiskit_result(qi_job, qi_api, authentication)\n",
    "\n",
    "    measurement_error_results = cr[\"parameters\"][\"system\"][\"readout_error_calibration\"][\"qiskit_result\"]\n",
    "    measurement_error_results = qiskit.result.Result.from_dict(measurement_error_results)\n",
    "\n",
    "    timestamp = cr[\"parameters\"][\"system\"][\"readout_error_calibration\"][\"timestamp\"]\n",
    "    print(f\"Using calibration of {timestamp}\")\n",
    "else:\n",
    "    measurement_error_results = np.array(\n",
    "        [\n",
    "            [0.7421875, 0.12890625, 0.0, 0.0390625],\n",
    "            [0.11328125, 0.62890625, 0.0, 0.13671875],\n",
    "            [0.140625, 0.05859375, 1.0, 0.11328125],\n",
    "            [0.00390625, 0.18359375, 0.0, 0.7109375],\n",
    "        ]\n",
    "    )\n",
    "measurement_error_results"
   ]
  },
  {
   "cell_type": "markdown",
   "metadata": {},
   "source": [
    "In Qiskit we mitigate the noise by creating a measurement filter object. Then, taking the results from above, we use this to calculate a mitigated set of counts."
   ]
  },
  {
   "cell_type": "code",
   "execution_count": 7,
   "metadata": {},
   "outputs": [],
   "source": [
    "if isinstance(measurement_error_results, np.ndarray):\n",
    "    meas_fitter = CompleteMeasFitter(None, state_labels=[\"00\", \"01\", \"10\", \"11\"])\n",
    "    meas_fitter.cal_matrix = measurement_error_results\n",
    "else:\n",
    "    state_labels = [\"00\", \"01\", \"10\", \"11\"]\n",
    "    meas_fitter = CompleteMeasFitter(measurement_error_results, state_labels, circlabel=\"\")"
   ]
  },
  {
   "cell_type": "code",
   "execution_count": 8,
   "metadata": {},
   "outputs": [
    {
     "data": {
      "text/html": [
       "<pre style=\"white-space:pre;overflow-x:auto;line-height:normal;font-family:Menlo,'DejaVu Sans Mono',consolas,'Courier New',monospace\"><span style=\"color: #800080; text-decoration-color: #800080; font-weight: bold\">array</span><span style=\"font-weight: bold\">([[</span><span style=\"color: #008080; text-decoration-color: #008080; font-weight: bold\">0.7421875</span> , <span style=\"color: #008080; text-decoration-color: #008080; font-weight: bold\">0.12890625</span>, <span style=\"color: #008080; text-decoration-color: #008080; font-weight: bold\">0</span>.        , <span style=\"color: #008080; text-decoration-color: #008080; font-weight: bold\">0.0390625</span> <span style=\"font-weight: bold\">]</span>,\n",
       "       <span style=\"font-weight: bold\">[</span><span style=\"color: #008080; text-decoration-color: #008080; font-weight: bold\">0.11328125</span>, <span style=\"color: #008080; text-decoration-color: #008080; font-weight: bold\">0.62890625</span>, <span style=\"color: #008080; text-decoration-color: #008080; font-weight: bold\">0</span>.        , <span style=\"color: #008080; text-decoration-color: #008080; font-weight: bold\">0.13671875</span><span style=\"font-weight: bold\">]</span>,\n",
       "       <span style=\"font-weight: bold\">[</span><span style=\"color: #008080; text-decoration-color: #008080; font-weight: bold\">0.140625</span>  , <span style=\"color: #008080; text-decoration-color: #008080; font-weight: bold\">0.05859375</span>, <span style=\"color: #008080; text-decoration-color: #008080; font-weight: bold\">1</span>.        , <span style=\"color: #008080; text-decoration-color: #008080; font-weight: bold\">0.11328125</span><span style=\"font-weight: bold\">]</span>,\n",
       "       <span style=\"font-weight: bold\">[</span><span style=\"color: #008080; text-decoration-color: #008080; font-weight: bold\">0.00390625</span>, <span style=\"color: #008080; text-decoration-color: #008080; font-weight: bold\">0.18359375</span>, <span style=\"color: #008080; text-decoration-color: #008080; font-weight: bold\">0</span>.        , <span style=\"color: #008080; text-decoration-color: #008080; font-weight: bold\">0.7109375</span> <span style=\"font-weight: bold\">]])</span>\n",
       "</pre>\n"
      ],
      "text/plain": [
       "\u001b[1;35marray\u001b[0m\u001b[1m(\u001b[0m\u001b[1m[\u001b[0m\u001b[1m[\u001b[0m\u001b[1;36m0.7421875\u001b[0m , \u001b[1;36m0.12890625\u001b[0m, \u001b[1;36m0\u001b[0m.        , \u001b[1;36m0.0390625\u001b[0m \u001b[1m]\u001b[0m,\n",
       "       \u001b[1m[\u001b[0m\u001b[1;36m0.11328125\u001b[0m, \u001b[1;36m0.62890625\u001b[0m, \u001b[1;36m0\u001b[0m.        , \u001b[1;36m0.13671875\u001b[0m\u001b[1m]\u001b[0m,\n",
       "       \u001b[1m[\u001b[0m\u001b[1;36m0.140625\u001b[0m  , \u001b[1;36m0.05859375\u001b[0m, \u001b[1;36m1\u001b[0m.        , \u001b[1;36m0.11328125\u001b[0m\u001b[1m]\u001b[0m,\n",
       "       \u001b[1m[\u001b[0m\u001b[1;36m0.00390625\u001b[0m, \u001b[1;36m0.18359375\u001b[0m, \u001b[1;36m0\u001b[0m.        , \u001b[1;36m0.7109375\u001b[0m \u001b[1m]\u001b[0m\u001b[1m]\u001b[0m\u001b[1m)\u001b[0m\n"
      ]
     },
     "metadata": {},
     "output_type": "display_data"
    }
   ],
   "source": [
    "meas_fitter.cal_matrix"
   ]
  },
  {
   "cell_type": "code",
   "execution_count": 9,
   "metadata": {},
   "outputs": [],
   "source": [
    "meas_filter = meas_fitter.filter\n",
    "\n",
    "# Results with error mitigation\n",
    "mitigated_results = meas_filter.apply(bell_measurement_result)\n",
    "mitigated_counts = mitigated_results.get_counts()"
   ]
  },
  {
   "cell_type": "markdown",
   "metadata": {},
   "source": [
    "To see the results most clearly, let's plot both the noisy and mitigated results."
   ]
  },
  {
   "cell_type": "code",
   "execution_count": 10,
   "metadata": {},
   "outputs": [
    {
     "data": {
      "image/png": "[encoded data removed]"
     },
     "execution_count": 10,
     "metadata": {},
     "output_type": "execute_result"
    }
   ],
   "source": [
    "plot_histogram([noisy_counts, mitigated_counts], legend=[\"noisy\", \"mitigated\"])"
   ]
  },
  {
   "cell_type": "markdown",
   "metadata": {},
   "source": [
    "Note that the skew between the two qubits has reduced significantly."
   ]
  },
  {
   "cell_type": "markdown",
   "metadata": {},
   "source": [
    "## Measurement of the error matrix"
   ]
  },
  {
   "cell_type": "markdown",
   "metadata": {},
   "source": [
    "The process of measurement error mitigation can also be done using the existing tools from Qiskit. This handles the collection of data for the basis states, the construction of the matrices, and the calculation of the inverse. The latter can be done using the pseudoinverse, as we saw above. However, the default is an even more sophisticated method which is using least-squares fitting.\n",
    "\n",
    "As an example, let's stick with doing error mitigation for a pair of qubits. For this, we define a two-qubit quantum register, and feed it into the function `complete_meas_cal`."
   ]
  },
  {
   "cell_type": "code",
   "execution_count": 11,
   "metadata": {},
   "outputs": [],
   "source": [
    "qr = QuantumRegister(2)\n",
    "meas_calibs, state_labels = complete_meas_cal(qr=qr, circlabel=\"\")"
   ]
  },
  {
   "cell_type": "markdown",
   "metadata": {},
   "source": [
    "This creates a set of circuits that are used to take measurements for each of the four basis states of two qubits: $\\left|00\\right\\rangle$, $\\left|01\\right\\rangle$, $\\left|10\\right\\rangle$ and $\\left|11\\right\\rangle$."
   ]
  },
  {
   "cell_type": "code",
   "execution_count": 12,
   "metadata": {},
   "outputs": [
    {
     "name": "stdout",
     "output_type": "stream",
     "text": [
      "Circuit cal_00\n"
     ]
    },
    {
     "data": {
      "image/png": "[encoded data removed]"
     },
     "metadata": {},
     "output_type": "display_data"
    },
    {
     "name": "stdout",
     "output_type": "stream",
     "text": [
      "Circuit cal_01\n"
     ]
    },
    {
     "data": {
      "image/png": "[encoded data removed]"
     },
     "metadata": {},
     "output_type": "display_data"
    },
    {
     "name": "stdout",
     "output_type": "stream",
     "text": [
      "Circuit cal_10\n"
     ]
    },
    {
     "data": {
      "image/png": "[encoded data removed]"
     },
     "metadata": {},
     "output_type": "display_data"
    },
    {
     "name": "stdout",
     "output_type": "stream",
     "text": [
      "Circuit cal_11\n"
     ]
    },
    {
     "data": {
      "image/png": "[encoded data removed]"
     },
     "metadata": {},
     "output_type": "display_data"
    }
   ],
   "source": [
    "for circuit in meas_calibs:\n",
    "    print(f\"Circuit {circuit.name}\")\n",
    "    display(circuit.draw(output=\"mpl\"))"
   ]
  },
  {
   "cell_type": "markdown",
   "metadata": {},
   "source": [
    "Let's now run these circuits."
   ]
  },
  {
   "cell_type": "code",
   "execution_count": 13,
   "metadata": {},
   "outputs": [
    {
     "name": "stdout",
     "output_type": "stream",
     "text": [
      "Failed to run on backend None: local variable 'backend' referenced before assignment, fall-back to simulation\n",
      "Failed to run on backend None: local variable 'backend' referenced before assignment, fall-back to simulation\n",
      "Failed to run on backend None: local variable 'backend' referenced before assignment, fall-back to simulation\n",
      "Failed to run on backend None: local variable 'backend' referenced before assignment, fall-back to simulation\n"
     ]
    }
   ],
   "source": [
    "cal_results = [execute_circuit_spin2(qc, qi_backend, shots=2048)[0] for qc in meas_calibs]"
   ]
  },
  {
   "cell_type": "markdown",
   "metadata": {},
   "source": [
    "With the results we can construct the calibration matrix, which we have been calling $M$."
   ]
  },
  {
   "cell_type": "code",
   "execution_count": 14,
   "metadata": {},
   "outputs": [
    {
     "data": {
      "image/png": "[encoded data removed]"
     },
     "metadata": {
      "needs_background": "light"
     },
     "output_type": "display_data"
    }
   ],
   "source": [
    "meas_fitter = CompleteMeasFitter(cal_results, state_labels, circlabel=\"\")\n",
    "meas_fitter.cal_matrix\n",
    "\n",
    "meas_fitter.plot_calibration()"
   ]
  },
  {
   "cell_type": "code",
   "execution_count": 15,
   "metadata": {},
   "outputs": [
    {
     "name": "stdout",
     "output_type": "stream",
     "text": [
      "Readout fidelity of our system: 0.61\n"
     ]
    }
   ],
   "source": [
    "print(f\"Readout fidelity of our system: {meas_fitter.readout_fidelity():.2f}\")"
   ]
  },
  {
   "cell_type": "markdown",
   "metadata": {},
   "source": [
    "## Readout rebalancing\n",
    "\n",
    "Note that the error mitigation protocol described above does not change the execution of the quantum algorithms. There is another mitigation technique called readout rebalancing that does change the algorithms executed. Readout rebalancing places strategic X gates before measurements in order to reduce the variability in the measurement results. \n",
    "Check out the paper [Readout Rebalancing for Near Term Quantum Computers](https://arxiv.org/pdf/2010.07496.pdf) and the [corresponding notebook](https://github.com/LBNL-HEP-QIS/ReadoutRebalancing/blob/master/TestRebalancing.ipynb) for more information."
   ]
  }
 ],
 "metadata": {
  "kernelspec": {
   "display_name": "Python 3 (ipykernel)",
   "language": "python",
   "name": "python3"
  },
  "language_info": {
   "codemirror_mode": {
    "name": "ipython",
    "version": 3
   },
   "file_extension": ".py",
   "mimetype": "text/x-python",
   "name": "python",
   "nbconvert_exporter": "python",
   "pygments_lexer": "ipython3",
   "version": "3.8.6"
  },
  "varInspector": {
   "cols": {
    "lenName": 16,
    "lenType": 16,
    "lenVar": 40
   },
   "kernels_config": {
    "python": {
     "delete_cmd_postfix": "",
     "delete_cmd_prefix": "del ",
     "library": "var_list.py",
     "varRefreshCmd": "print(var_dic_list())"
    },
    "r": {
     "delete_cmd_postfix": ") ",
     "delete_cmd_prefix": "rm(",
     "library": "var_list.r",
     "varRefreshCmd": "cat(var_dic_list()) "
    }
   },
   "types_to_exclude": [
    "module",
    "function",
    "builtin_function_or_method",
    "instance",
    "_Feature"
   ],
   "window_display": false
  }
 },
 "nbformat": 4,
 "nbformat_minor": 4
}
